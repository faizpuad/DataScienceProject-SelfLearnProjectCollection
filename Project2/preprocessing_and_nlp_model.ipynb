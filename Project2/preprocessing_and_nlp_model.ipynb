{
 "cells": [
  {
   "cell_type": "code",
   "execution_count": 19,
   "id": "89dc3604",
   "metadata": {},
   "outputs": [],
   "source": [
    "# basic imports\n",
    "import pandas as pd\n",
    "import numpy as np\n",
    "import matplotlib.pyplot as plt\n",
    "import seaborn as sns\n",
    "import string\n",
    "from collections import Counter\n",
    "import warnings\n",
    "warnings.filterwarnings('ignore')\n",
    "\n",
    "#imports for visualisations\n",
    "import matplotlib.pyplot as plt\n",
    "\n",
    "# importing libraries for NLP\n",
    "import nltk\n",
    "from nltk.corpus import stopwords\n",
    "from sklearn.feature_extraction.text import TfidfVectorizer, CountVectorizer\n",
    "\n",
    "#importing libraries for modelling\n",
    "import sklearn.metrics as metrics\n",
    "from sklearn.metrics.pairwise import linear_kernel, cosine_similarity\n",
    "from sklearn.naive_bayes import MultinomialNB\n",
    "from sklearn.model_selection import train_test_split\n",
    "from sklearn.metrics import confusion_matrix, classification_report\n",
    "from scipy.spatial.distance import correlation\n",
    "import os\n",
    "import json"
   ]
  },
  {
   "cell_type": "code",
   "execution_count": 20,
   "id": "a21d6f3c",
   "metadata": {},
   "outputs": [],
   "source": [
    "# import transformer\n",
    "from sklearn.feature_extraction.text import CountVectorizer\n",
    "from nltk.sentiment.vader import SentimentIntensityAnalyzer\n",
    "\n",
    "#import preprocessing\n",
    "from sklearn.preprocessing import StandardScaler\n",
    "from sklearn.pipeline import Pipeline\n",
    "import unidecode\n",
    "\n",
    "import re\n",
    "import nltk\n",
    "from nltk.stem.porter import PorterStemmer\n",
    "from bs4 import BeautifulSoup\n",
    "from nltk.corpus import stopwords\n",
    "from nltk.tokenize import regexp_tokenize\n",
    "from nltk.stem import WordNetLemmatizer\n",
    "from textblob import TextBlob\n",
    "from sklearn.feature_extraction.text import CountVectorizer, TfidfVectorizer\n",
    "\n",
    "#Import evaluation metrics\n",
    "from sklearn.metrics import confusion_matrix, plot_confusion_matrix\n",
    "from scipy import stats \n",
    "from scipy.stats import kurtosis,skew"
   ]
  },
  {
   "cell_type": "code",
   "execution_count": 21,
   "id": "8c4f2ff0",
   "metadata": {},
   "outputs": [
    {
     "name": "stdout",
     "output_type": "stream",
     "text": [
      "C:\\Users\\User\\Desktop\\ga_class\\capstone\\part_01\\yelp\n",
      "C:\\Users\\User\\Desktop\\ga_class\\capstone\\part_01\\yelp\n"
     ]
    }
   ],
   "source": [
    "print(os.getcwd())\n",
    "os.chdir(r\"C:\\Users\\User\\Desktop\\ga_class\\capstone\\part_01\\yelp\")\n",
    "print(os.getcwd())"
   ]
  },
  {
   "cell_type": "code",
   "execution_count": 22,
   "id": "e0fbb97a",
   "metadata": {},
   "outputs": [],
   "source": [
    "def load_file(name_file,quantity):\n",
    "    file_name =  'yelp_academic_dataset_'+ str(name_file) + '.json'\n",
    "    ifile = open(file_name,encoding = 'cp866') \n",
    "    stop = quantity\n",
    "\n",
    "    all_data = list()\n",
    "    for i, line in enumerate(ifile):\n",
    "        if i==stop:\n",
    "            break    \n",
    "        # convert the json on this line to a dict\n",
    "        data = json.loads(line)\n",
    "        # add to the data collected so far\n",
    "        all_data.append(data)\n",
    "    # create the DataFrame\n",
    "    df = pd.DataFrame(all_data)\n",
    "    # df.to_hdf('revie20ws.h5','reviews')\n",
    "    ifile.close()\n",
    "    return df"
   ]
  },
  {
   "cell_type": "code",
   "execution_count": 23,
   "id": "9363c6c5",
   "metadata": {},
   "outputs": [],
   "source": [
    "business = load_file('business',2000000)\n",
    "review = load_file('review',2000000)"
   ]
  },
  {
   "cell_type": "code",
   "execution_count": 24,
   "id": "6d7134d6",
   "metadata": {},
   "outputs": [
    {
     "data": {
      "text/plain": [
       "((150346, 14), (2000000, 9))"
      ]
     },
     "execution_count": 24,
     "metadata": {},
     "output_type": "execute_result"
    }
   ],
   "source": [
    "business.shape,review.shape "
   ]
  },
  {
   "attachments": {},
   "cell_type": "markdown",
   "id": "12e7165f",
   "metadata": {},
   "source": [
    "# 1. Preprocessing Business EDA  "
   ]
  },
  {
   "cell_type": "code",
   "execution_count": 25,
   "id": "1d1c674a",
   "metadata": {},
   "outputs": [],
   "source": [
    "business = business.drop(columns = ['address','postal_code','latitude','longitude','hours'])"
   ]
  },
  {
   "cell_type": "code",
   "execution_count": 26,
   "id": "8e9ad9ba",
   "metadata": {},
   "outputs": [],
   "source": [
    "business['categories'] = business['categories'].fillna('Unknown')"
   ]
  },
  {
   "cell_type": "code",
   "execution_count": 27,
   "id": "812326f5",
   "metadata": {},
   "outputs": [],
   "source": [
    "# create function to transform string as list with split between comma\n",
    "import re\n",
    "def split_categories(x):\n",
    "    s = re.split(r'[,;!&]', x)\n",
    "    return s"
   ]
  },
  {
   "cell_type": "code",
   "execution_count": 28,
   "id": "232e3d80",
   "metadata": {},
   "outputs": [],
   "source": [
    "# change each row from string to list\n",
    "business.categories = business.categories.map(split_categories)"
   ]
  },
  {
   "cell_type": "code",
   "execution_count": 29,
   "id": "c764129c",
   "metadata": {},
   "outputs": [
    {
     "data": {
      "text/plain": [
       "count                     150346\n",
       "unique                    150346\n",
       "top       Pns2l4eNsfO8kk83dixA6A\n",
       "freq                           1\n",
       "Name: business_id, dtype: object"
      ]
     },
     "execution_count": 29,
     "metadata": {},
     "output_type": "execute_result"
    }
   ],
   "source": [
    "#check duplicate entry for business_id\n",
    "# there is no duplicate entry\n",
    "business.business_id.describe()"
   ]
  },
  {
   "cell_type": "code",
   "execution_count": 30,
   "id": "669a37ea",
   "metadata": {},
   "outputs": [],
   "source": [
    "# create a summary of each row category\n",
    "list_append=[]\n",
    "for i in business.categories:\n",
    "    for j in i:\n",
    "        list_append.append(j)\n",
    "        break"
   ]
  },
  {
   "cell_type": "code",
   "execution_count": 32,
   "id": "61d1a16c",
   "metadata": {},
   "outputs": [],
   "source": [
    "# create new feature\n",
    "business['summary_category'] = list_append"
   ]
  },
  {
   "cell_type": "code",
   "execution_count": 163,
   "id": "da59bbb6",
   "metadata": {},
   "outputs": [
    {
     "data": {
      "text/html": [
       "<div>\n",
       "<style scoped>\n",
       "    .dataframe tbody tr th:only-of-type {\n",
       "        vertical-align: middle;\n",
       "    }\n",
       "\n",
       "    .dataframe tbody tr th {\n",
       "        vertical-align: top;\n",
       "    }\n",
       "\n",
       "    .dataframe thead th {\n",
       "        text-align: right;\n",
       "    }\n",
       "</style>\n",
       "<table border=\"1\" class=\"dataframe\">\n",
       "  <thead>\n",
       "    <tr style=\"text-align: right;\">\n",
       "      <th></th>\n",
       "      <th>business_id</th>\n",
       "      <th>name</th>\n",
       "      <th>city</th>\n",
       "      <th>state</th>\n",
       "      <th>stars</th>\n",
       "      <th>review_count</th>\n",
       "      <th>is_open</th>\n",
       "      <th>attributes</th>\n",
       "      <th>categories</th>\n",
       "      <th>summary_category</th>\n",
       "    </tr>\n",
       "  </thead>\n",
       "  <tbody>\n",
       "    <tr>\n",
       "      <th>0</th>\n",
       "      <td>Pns2l4eNsfO8kk83dixA6A</td>\n",
       "      <td>Abby Rappoport, LAC, CMQ</td>\n",
       "      <td>Santa Barbara</td>\n",
       "      <td>CA</td>\n",
       "      <td>5.0</td>\n",
       "      <td>7</td>\n",
       "      <td>0</td>\n",
       "      <td>{'ByAppointmentOnly': 'True'}</td>\n",
       "      <td>[Doctors,  Traditional Chinese Medicine,  Natu...</td>\n",
       "      <td>Doctors</td>\n",
       "    </tr>\n",
       "    <tr>\n",
       "      <th>1</th>\n",
       "      <td>mpf3x-BjTdTEA3yCZrAYPw</td>\n",
       "      <td>The UPS Store</td>\n",
       "      <td>Affton</td>\n",
       "      <td>MO</td>\n",
       "      <td>3.0</td>\n",
       "      <td>15</td>\n",
       "      <td>1</td>\n",
       "      <td>{'BusinessAcceptsCreditCards': 'True'}</td>\n",
       "      <td>[Shipping Centers,  Local Services,  Notaries,...</td>\n",
       "      <td>Shipping Centers</td>\n",
       "    </tr>\n",
       "    <tr>\n",
       "      <th>2</th>\n",
       "      <td>tUFrWirKiKi_TAnsVWINQQ</td>\n",
       "      <td>Target</td>\n",
       "      <td>Tucson</td>\n",
       "      <td>AZ</td>\n",
       "      <td>3.5</td>\n",
       "      <td>22</td>\n",
       "      <td>0</td>\n",
       "      <td>{'BikeParking': 'True', 'BusinessAcceptsCredit...</td>\n",
       "      <td>[Department Stores,  Shopping,  Fashion,  Home...</td>\n",
       "      <td>Department Stores</td>\n",
       "    </tr>\n",
       "  </tbody>\n",
       "</table>\n",
       "</div>"
      ],
      "text/plain": [
       "              business_id                      name           city state  \\\n",
       "0  Pns2l4eNsfO8kk83dixA6A  Abby Rappoport, LAC, CMQ  Santa Barbara    CA   \n",
       "1  mpf3x-BjTdTEA3yCZrAYPw             The UPS Store         Affton    MO   \n",
       "2  tUFrWirKiKi_TAnsVWINQQ                    Target         Tucson    AZ   \n",
       "\n",
       "   stars  review_count  is_open  \\\n",
       "0    5.0             7        0   \n",
       "1    3.0            15        1   \n",
       "2    3.5            22        0   \n",
       "\n",
       "                                          attributes  \\\n",
       "0                      {'ByAppointmentOnly': 'True'}   \n",
       "1             {'BusinessAcceptsCreditCards': 'True'}   \n",
       "2  {'BikeParking': 'True', 'BusinessAcceptsCredit...   \n",
       "\n",
       "                                          categories   summary_category  \n",
       "0  [Doctors,  Traditional Chinese Medicine,  Natu...            Doctors  \n",
       "1  [Shipping Centers,  Local Services,  Notaries,...   Shipping Centers  \n",
       "2  [Department Stores,  Shopping,  Fashion,  Home...  Department Stores  "
      ]
     },
     "execution_count": 163,
     "metadata": {},
     "output_type": "execute_result"
    }
   ],
   "source": [
    "business.head(3)"
   ]
  },
  {
   "cell_type": "code",
   "execution_count": 170,
   "id": "337db5d6",
   "metadata": {},
   "outputs": [],
   "source": [
    "# save cleaned business df\n",
    "# business.to_csv('business_clean.csv',index=False)"
   ]
  },
  {
   "attachments": {},
   "cell_type": "markdown",
   "id": "bffda29c",
   "metadata": {},
   "source": [
    "## 1.1 Create refer_business df"
   ]
  },
  {
   "cell_type": "code",
   "execution_count": 34,
   "id": "75799316",
   "metadata": {},
   "outputs": [],
   "source": [
    "# creating a dataframe to store all the records which has 'Restaurants' or 'Food' in their categories column\n",
    "# dataframe name is 'b'\n",
    "b = pd.DataFrame()\n",
    "for i in business.index:\n",
    "    if 'Restaurants' in business.categories[i] or 'Food' in business.categories[i]:\n",
    "        b = b.append(business.iloc[i])"
   ]
  },
  {
   "cell_type": "code",
   "execution_count": 35,
   "id": "b6105dad",
   "metadata": {},
   "outputs": [],
   "source": [
    "#create dataframe to indicate temporary use\n",
    "business_category_to_substitute = b\n",
    "business_rest_or_food_only = b"
   ]
  },
  {
   "cell_type": "code",
   "execution_count": 36,
   "id": "926e7760",
   "metadata": {},
   "outputs": [],
   "source": [
    "#create dataframe to refer for recommender systems\n",
    "# refer business df contain basic info of business dataframe and the business summary's category\n",
    "refer_business = business[['business_id']]\n",
    "refer_business['business_name'] = business['name']"
   ]
  },
  {
   "cell_type": "code",
   "execution_count": 37,
   "id": "25e48048",
   "metadata": {},
   "outputs": [],
   "source": [
    "refer_business['summary_category'] = business['summary_category']"
   ]
  },
  {
   "cell_type": "code",
   "execution_count": 38,
   "id": "e6f2d3f1",
   "metadata": {},
   "outputs": [
    {
     "data": {
      "text/plain": [
       "(150346, 3)"
      ]
     },
     "execution_count": 38,
     "metadata": {},
     "output_type": "execute_result"
    }
   ],
   "source": [
    "refer_business.shape"
   ]
  },
  {
   "cell_type": "code",
   "execution_count": 39,
   "id": "241b9525",
   "metadata": {},
   "outputs": [
    {
     "data": {
      "text/html": [
       "<div>\n",
       "<style scoped>\n",
       "    .dataframe tbody tr th:only-of-type {\n",
       "        vertical-align: middle;\n",
       "    }\n",
       "\n",
       "    .dataframe tbody tr th {\n",
       "        vertical-align: top;\n",
       "    }\n",
       "\n",
       "    .dataframe thead th {\n",
       "        text-align: right;\n",
       "    }\n",
       "</style>\n",
       "<table border=\"1\" class=\"dataframe\">\n",
       "  <thead>\n",
       "    <tr style=\"text-align: right;\">\n",
       "      <th></th>\n",
       "      <th>business_id</th>\n",
       "      <th>business_name</th>\n",
       "      <th>summary_category</th>\n",
       "    </tr>\n",
       "  </thead>\n",
       "  <tbody>\n",
       "    <tr>\n",
       "      <th>0</th>\n",
       "      <td>Pns2l4eNsfO8kk83dixA6A</td>\n",
       "      <td>Abby Rappoport, LAC, CMQ</td>\n",
       "      <td>Doctors</td>\n",
       "    </tr>\n",
       "    <tr>\n",
       "      <th>1</th>\n",
       "      <td>mpf3x-BjTdTEA3yCZrAYPw</td>\n",
       "      <td>The UPS Store</td>\n",
       "      <td>Shipping Centers</td>\n",
       "    </tr>\n",
       "    <tr>\n",
       "      <th>2</th>\n",
       "      <td>tUFrWirKiKi_TAnsVWINQQ</td>\n",
       "      <td>Target</td>\n",
       "      <td>Department Stores</td>\n",
       "    </tr>\n",
       "    <tr>\n",
       "      <th>3</th>\n",
       "      <td>MTSW4McQd7CbVtyjqoe9mw</td>\n",
       "      <td>St Honore Pastries</td>\n",
       "      <td>Restaurants</td>\n",
       "    </tr>\n",
       "    <tr>\n",
       "      <th>4</th>\n",
       "      <td>mWMc6_wTdE0EUBKIGXDVfA</td>\n",
       "      <td>Perkiomen Valley Brewery</td>\n",
       "      <td>Brewpubs</td>\n",
       "    </tr>\n",
       "  </tbody>\n",
       "</table>\n",
       "</div>"
      ],
      "text/plain": [
       "              business_id             business_name   summary_category\n",
       "0  Pns2l4eNsfO8kk83dixA6A  Abby Rappoport, LAC, CMQ            Doctors\n",
       "1  mpf3x-BjTdTEA3yCZrAYPw             The UPS Store   Shipping Centers\n",
       "2  tUFrWirKiKi_TAnsVWINQQ                    Target  Department Stores\n",
       "3  MTSW4McQd7CbVtyjqoe9mw        St Honore Pastries        Restaurants\n",
       "4  mWMc6_wTdE0EUBKIGXDVfA  Perkiomen Valley Brewery           Brewpubs"
      ]
     },
     "execution_count": 39,
     "metadata": {},
     "output_type": "execute_result"
    }
   ],
   "source": [
    "refer_business.head()"
   ]
  },
  {
   "cell_type": "code",
   "execution_count": 40,
   "id": "cf3305b3",
   "metadata": {},
   "outputs": [],
   "source": [
    "#create new feature that help indicate this df only contain restaurant's business\n",
    "business_rest_or_food_only['label'] = 'restaurant'\n",
    "business_rest_food_df = business_rest_or_food_only[['business_id']]\n",
    "business_rest_food_df['label'] = business_rest_or_food_only['label']"
   ]
  },
  {
   "cell_type": "code",
   "execution_count": 41,
   "id": "c322709f",
   "metadata": {},
   "outputs": [
    {
     "data": {
      "text/html": [
       "<div>\n",
       "<style scoped>\n",
       "    .dataframe tbody tr th:only-of-type {\n",
       "        vertical-align: middle;\n",
       "    }\n",
       "\n",
       "    .dataframe tbody tr th {\n",
       "        vertical-align: top;\n",
       "    }\n",
       "\n",
       "    .dataframe thead th {\n",
       "        text-align: right;\n",
       "    }\n",
       "</style>\n",
       "<table border=\"1\" class=\"dataframe\">\n",
       "  <thead>\n",
       "    <tr style=\"text-align: right;\">\n",
       "      <th></th>\n",
       "      <th>business_id</th>\n",
       "      <th>label</th>\n",
       "    </tr>\n",
       "  </thead>\n",
       "  <tbody>\n",
       "    <tr>\n",
       "      <th>3</th>\n",
       "      <td>MTSW4McQd7CbVtyjqoe9mw</td>\n",
       "      <td>restaurant</td>\n",
       "    </tr>\n",
       "  </tbody>\n",
       "</table>\n",
       "</div>"
      ],
      "text/plain": [
       "              business_id       label\n",
       "3  MTSW4McQd7CbVtyjqoe9mw  restaurant"
      ]
     },
     "execution_count": 41,
     "metadata": {},
     "output_type": "execute_result"
    }
   ],
   "source": [
    "#this df is only temporarily created to merge with refer_business df\n",
    "# this is done as not all business id is in this df to direct concat\n",
    "business_rest_food_df.head(1)"
   ]
  },
  {
   "cell_type": "code",
   "execution_count": 42,
   "id": "2071cbf7",
   "metadata": {},
   "outputs": [],
   "source": [
    "# finalize refer business df\n",
    "# fill NaN as non restaurant\n",
    "refer_business = pd.merge(refer_business,business_rest_food_df,on='business_id',how='outer')\n",
    "refer_business.label.fillna('non_restaurant',inplace=True)"
   ]
  },
  {
   "cell_type": "code",
   "execution_count": 43,
   "id": "5a15a15c",
   "metadata": {},
   "outputs": [
    {
     "data": {
      "text/html": [
       "<div>\n",
       "<style scoped>\n",
       "    .dataframe tbody tr th:only-of-type {\n",
       "        vertical-align: middle;\n",
       "    }\n",
       "\n",
       "    .dataframe tbody tr th {\n",
       "        vertical-align: top;\n",
       "    }\n",
       "\n",
       "    .dataframe thead th {\n",
       "        text-align: right;\n",
       "    }\n",
       "</style>\n",
       "<table border=\"1\" class=\"dataframe\">\n",
       "  <thead>\n",
       "    <tr style=\"text-align: right;\">\n",
       "      <th></th>\n",
       "      <th>business_id</th>\n",
       "      <th>business_name</th>\n",
       "      <th>summary_category</th>\n",
       "      <th>label</th>\n",
       "    </tr>\n",
       "  </thead>\n",
       "  <tbody>\n",
       "    <tr>\n",
       "      <th>0</th>\n",
       "      <td>Pns2l4eNsfO8kk83dixA6A</td>\n",
       "      <td>Abby Rappoport, LAC, CMQ</td>\n",
       "      <td>Doctors</td>\n",
       "      <td>non_restaurant</td>\n",
       "    </tr>\n",
       "  </tbody>\n",
       "</table>\n",
       "</div>"
      ],
      "text/plain": [
       "              business_id             business_name summary_category  \\\n",
       "0  Pns2l4eNsfO8kk83dixA6A  Abby Rappoport, LAC, CMQ          Doctors   \n",
       "\n",
       "            label  \n",
       "0  non_restaurant  "
      ]
     },
     "execution_count": 43,
     "metadata": {},
     "output_type": "execute_result"
    }
   ],
   "source": [
    "refer_business.head(1)"
   ]
  },
  {
   "cell_type": "code",
   "execution_count": 41,
   "id": "3473ccb2",
   "metadata": {},
   "outputs": [],
   "source": [
    "#save backup of refer business dataframe\n",
    "# refer_business.to_csv('refer_business.csv',index=False)\n",
    "# business_rest_or_food_only.to_csv('business_rest_or_food_only.csv',index=False)"
   ]
  },
  {
   "cell_type": "code",
   "execution_count": 42,
   "id": "715bceb3",
   "metadata": {},
   "outputs": [],
   "source": [
    "#  load this instead of rerun everything\n",
    "# refer_business = pd.read_csv('refer_business.csv')\n",
    "# business_rest_or_food_only = pd.read_csv('business_rest_or_food_only.csv')"
   ]
  },
  {
   "attachments": {},
   "cell_type": "markdown",
   "id": "3753adf9",
   "metadata": {},
   "source": [
    "## 1.2 Unpack attributes column"
   ]
  },
  {
   "attachments": {},
   "cell_type": "markdown",
   "id": "d8b94a2e",
   "metadata": {},
   "source": [
    "### 1.2.1 Create attributes_df"
   ]
  },
  {
   "cell_type": "code",
   "execution_count": 44,
   "id": "2a0d481f",
   "metadata": {},
   "outputs": [],
   "source": [
    "attributes_df = []"
   ]
  },
  {
   "cell_type": "code",
   "execution_count": 45,
   "id": "6a36f4d0",
   "metadata": {},
   "outputs": [],
   "source": [
    "# make attributes features' subvalues as columns\n",
    "attributes_df = business_rest_or_food_only[['attributes']]\n",
    "attributes_df = attributes_df.join(pd.DataFrame(attributes_df['attributes'].to_dict()).T)"
   ]
  },
  {
   "cell_type": "code",
   "execution_count": 46,
   "id": "e8a19f2b",
   "metadata": {},
   "outputs": [
    {
     "data": {
      "text/html": [
       "<div>\n",
       "<style scoped>\n",
       "    .dataframe tbody tr th:only-of-type {\n",
       "        vertical-align: middle;\n",
       "    }\n",
       "\n",
       "    .dataframe tbody tr th {\n",
       "        vertical-align: top;\n",
       "    }\n",
       "\n",
       "    .dataframe thead th {\n",
       "        text-align: right;\n",
       "    }\n",
       "</style>\n",
       "<table border=\"1\" class=\"dataframe\">\n",
       "  <thead>\n",
       "    <tr style=\"text-align: right;\">\n",
       "      <th></th>\n",
       "      <th>attributes</th>\n",
       "      <th>RestaurantsDelivery</th>\n",
       "      <th>OutdoorSeating</th>\n",
       "      <th>BusinessAcceptsCreditCards</th>\n",
       "      <th>BusinessParking</th>\n",
       "      <th>BikeParking</th>\n",
       "      <th>RestaurantsPriceRange2</th>\n",
       "      <th>RestaurantsTakeOut</th>\n",
       "      <th>ByAppointmentOnly</th>\n",
       "      <th>WiFi</th>\n",
       "      <th>...</th>\n",
       "      <th>CoatCheck</th>\n",
       "      <th>BestNights</th>\n",
       "      <th>Smoking</th>\n",
       "      <th>BYOBCorkage</th>\n",
       "      <th>Corkage</th>\n",
       "      <th>Open24Hours</th>\n",
       "      <th>AgesAllowed</th>\n",
       "      <th>DietaryRestrictions</th>\n",
       "      <th>RestaurantsCounterService</th>\n",
       "      <th>AcceptsInsurance</th>\n",
       "    </tr>\n",
       "  </thead>\n",
       "  <tbody>\n",
       "    <tr>\n",
       "      <th>3</th>\n",
       "      <td>{'RestaurantsDelivery': 'False', 'OutdoorSeati...</td>\n",
       "      <td>False</td>\n",
       "      <td>False</td>\n",
       "      <td>False</td>\n",
       "      <td>{'garage': False, 'street': True, 'validated':...</td>\n",
       "      <td>True</td>\n",
       "      <td>1</td>\n",
       "      <td>True</td>\n",
       "      <td>False</td>\n",
       "      <td>u'free'</td>\n",
       "      <td>...</td>\n",
       "      <td>NaN</td>\n",
       "      <td>NaN</td>\n",
       "      <td>NaN</td>\n",
       "      <td>NaN</td>\n",
       "      <td>NaN</td>\n",
       "      <td>NaN</td>\n",
       "      <td>NaN</td>\n",
       "      <td>NaN</td>\n",
       "      <td>NaN</td>\n",
       "      <td>NaN</td>\n",
       "    </tr>\n",
       "  </tbody>\n",
       "</table>\n",
       "<p>1 rows × 39 columns</p>\n",
       "</div>"
      ],
      "text/plain": [
       "                                          attributes RestaurantsDelivery  \\\n",
       "3  {'RestaurantsDelivery': 'False', 'OutdoorSeati...               False   \n",
       "\n",
       "  OutdoorSeating BusinessAcceptsCreditCards  \\\n",
       "3          False                      False   \n",
       "\n",
       "                                     BusinessParking BikeParking  \\\n",
       "3  {'garage': False, 'street': True, 'validated':...        True   \n",
       "\n",
       "  RestaurantsPriceRange2 RestaurantsTakeOut ByAppointmentOnly     WiFi  ...  \\\n",
       "3                      1               True             False  u'free'  ...   \n",
       "\n",
       "  CoatCheck BestNights Smoking BYOBCorkage Corkage Open24Hours AgesAllowed  \\\n",
       "3       NaN        NaN     NaN         NaN     NaN         NaN         NaN   \n",
       "\n",
       "  DietaryRestrictions RestaurantsCounterService AcceptsInsurance  \n",
       "3                 NaN                       NaN              NaN  \n",
       "\n",
       "[1 rows x 39 columns]"
      ]
     },
     "execution_count": 46,
     "metadata": {},
     "output_type": "execute_result"
    }
   ],
   "source": [
    "attributes_df.head(1)"
   ]
  },
  {
   "cell_type": "code",
   "execution_count": 47,
   "id": "33da4e04",
   "metadata": {},
   "outputs": [],
   "source": [
    "attributes_df.drop(columns = ['attributes'],inplace=True)"
   ]
  },
  {
   "cell_type": "code",
   "execution_count": 48,
   "id": "ce8ad0fe",
   "metadata": {},
   "outputs": [],
   "source": [
    "#store columns in a list\n",
    "columns = attributes_df.columns.values.tolist()"
   ]
  },
  {
   "cell_type": "code",
   "execution_count": 49,
   "id": "7bc708cb",
   "metadata": {},
   "outputs": [],
   "source": [
    "import ast\n",
    "\n",
    "#define function to change each row attributes from string to dictionary\n",
    "def turn_json_dict(x):\n",
    "    try:\n",
    "        x = ast.literal_eval(x)\n",
    "        return x\n",
    "    except:pass\n",
    "    \n",
    "# create dummy kind of function to make each subvalues attributes as different unique columns\n",
    "def dummy_dict(dataframe,column):\n",
    "    df = dataframe[[column]]\n",
    "    df[column] = df[column].map(turn_json_dict)\n",
    "    df = df[column].apply(pd.Series)\n",
    "    return df"
   ]
  },
  {
   "cell_type": "code",
   "execution_count": 50,
   "id": "fbaad600",
   "metadata": {},
   "outputs": [
    {
     "name": "stdout",
     "output_type": "stream",
     "text": [
      "RestaurantsDelivery\n",
      "True     10718\n",
      "False     6569\n",
      "None       942\n",
      "Name: RestaurantsDelivery, dtype: int64\n",
      "\n",
      "\n",
      "OutdoorSeating\n",
      "False    8235\n",
      "True     6937\n",
      "None      615\n",
      "Name: OutdoorSeating, dtype: int64\n",
      "\n",
      "\n",
      "BusinessAcceptsCreditCards\n",
      "True     18324\n",
      "False      710\n",
      "None        13\n",
      "Name: BusinessAcceptsCreditCards, dtype: int64\n",
      "\n",
      "\n",
      "BusinessParking\n",
      "{'garage': False, 'street': False, 'validated': False, 'lot': True, 'valet': False}         7358\n",
      "{'garage': False, 'street': False, 'validated': False, 'lot': False, 'valet': False}        4672\n",
      "{'garage': False, 'street': True, 'validated': False, 'lot': False, 'valet': False}         2895\n",
      "{'garage': False, 'street': True, 'validated': False, 'lot': True, 'valet': False}           947\n",
      "None                                                                                         323\n",
      "                                                                                            ... \n",
      "{'garage': True, 'street': True, 'validated': False, 'lot': None, 'valet': False}              1\n",
      "{u'valet': True, u'garage': False, u'street': False, u'lot': False, u'validated': False}       1\n",
      "{'garage': True, 'street': True, 'validated': None, 'lot': None, 'valet': False}               1\n",
      "{u'valet': False, u'garage': True, u'street': False, u'lot': True, u'validated': None}         1\n",
      "{u'valet': False, u'garage': False, u'street': False, u'lot': False, u'validated': True}       1\n",
      "Name: BusinessParking, Length: 142, dtype: int64\n",
      "\n",
      "\n",
      "BikeParking\n",
      "True     10709\n",
      "False     3861\n",
      "None        18\n",
      "Name: BikeParking, dtype: int64\n",
      "\n",
      "\n",
      "RestaurantsPriceRange2\n",
      "2       9225\n",
      "1       8802\n",
      "3        688\n",
      "4        100\n",
      "None       5\n",
      "Name: RestaurantsPriceRange2, dtype: int64\n",
      "\n",
      "\n",
      "RestaurantsTakeOut\n",
      "True     18203\n",
      "False     1219\n",
      "None       368\n",
      "Name: RestaurantsTakeOut, dtype: int64\n",
      "\n",
      "\n",
      "ByAppointmentOnly\n",
      "False    1261\n",
      "True       43\n",
      "Name: ByAppointmentOnly, dtype: int64\n",
      "\n",
      "\n",
      "WiFi\n",
      "u'free'    5248\n",
      "u'no'      4333\n",
      "'no'       2258\n",
      "'free'     2146\n",
      "u'paid'      59\n",
      "'paid'       37\n",
      "None         15\n",
      "Name: WiFi, dtype: int64\n",
      "\n",
      "\n",
      "Alcohol\n",
      "u'none'             5767\n",
      "u'full_bar'         3272\n",
      "'none'              1845\n",
      "u'beer_and_wine'    1624\n",
      "'full_bar'           688\n",
      "'beer_and_wine'      451\n",
      "None                  12\n",
      "Name: Alcohol, dtype: int64\n",
      "\n",
      "\n",
      "Caters\n",
      "True     7247\n",
      "False    5888\n",
      "None       26\n",
      "Name: Caters, dtype: int64\n",
      "\n",
      "\n",
      "RestaurantsGoodForGroups\n",
      "True     12036\n",
      "False     2320\n",
      "None         7\n",
      "Name: RestaurantsGoodForGroups, dtype: int64\n",
      "\n",
      "\n",
      "RestaurantsAttire\n",
      "u'casual'    8022\n",
      "'casual'     5206\n",
      "u'dressy'     166\n",
      "'dressy'       79\n",
      "'formal'       18\n",
      "u'formal'      16\n",
      "None           14\n",
      "Name: RestaurantsAttire, dtype: int64\n",
      "\n",
      "\n",
      "NoiseLevel\n",
      "u'average'      6877\n",
      "u'quiet'        2327\n",
      "'average'       1467\n",
      "u'loud'          604\n",
      "'quiet'          442\n",
      "u'very_loud'     215\n",
      "'loud'           120\n",
      "'very_loud'       40\n",
      "None              16\n",
      "Name: NoiseLevel, dtype: int64\n",
      "\n",
      "\n",
      "Ambience\n",
      "{'touristy': False, 'hipster': False, 'romantic': False, 'divey': False, 'intimate': False, 'trendy': False, 'upscale': False, 'classy': False, 'casual': False}       2288\n",
      "{'romantic': False, 'intimate': False, 'classy': False, 'hipster': False, 'divey': False, 'touristy': False, 'trendy': False, 'upscale': False, 'casual': False}       1803\n",
      "{'romantic': False, 'intimate': False, 'touristy': False, 'hipster': False, 'divey': False, 'classy': False, 'trendy': False, 'upscale': False, 'casual': True}        1422\n",
      "{'romantic': False, 'intimate': False, 'classy': False, 'hipster': False, 'divey': False, 'touristy': False, 'trendy': False, 'upscale': False, 'casual': True}        1384\n",
      "{'romantic': False, 'intimate': False, 'touristy': False, 'hipster': False, 'divey': False, 'classy': False, 'trendy': False, 'upscale': False, 'casual': False}       1217\n",
      "                                                                                                                                                                       ... \n",
      "{'touristy': None, 'hipster': False, 'romantic': None, 'divey': False, 'intimate': False, 'trendy': None, 'upscale': False, 'classy': False, 'casual': None}              1\n",
      "{'romantic': True, 'intimate': True, 'touristy': False, 'hipster': False, 'divey': False, 'classy': False, 'trendy': False, 'upscale': False, 'casual': True}             1\n",
      "{u'divey': None, u'hipster': None, u'casual': True, u'touristy': None, u'trendy': True, u'intimate': None, u'romantic': False, u'classy': False, u'upscale': False}       1\n",
      "{'touristy': False, 'hipster': False, 'romantic': None, 'divey': None, 'intimate': False, 'trendy': None, 'upscale': None, 'classy': False, 'casual': True}               1\n",
      "{'touristy': False, 'hipster': None, 'romantic': False, 'intimate': None, 'trendy': True, 'upscale': False, 'classy': False, 'casual': True}                              1\n",
      "Name: Ambience, Length: 1188, dtype: int64\n",
      "\n",
      "\n",
      "GoodForKids\n",
      "True     12591\n",
      "False     1911\n",
      "None         9\n",
      "Name: GoodForKids, dtype: int64\n",
      "\n",
      "\n",
      "BusinessAcceptsBitcoin\n",
      "False    2204\n",
      "True       39\n",
      "Name: BusinessAcceptsBitcoin, dtype: int64\n",
      "\n",
      "\n",
      "RestaurantsTableService\n",
      "True     3823\n",
      "False    2368\n",
      "None        6\n",
      "Name: RestaurantsTableService, dtype: int64\n",
      "\n",
      "\n",
      "RestaurantsReservations\n",
      "False    10112\n",
      "True      4633\n",
      "None        75\n",
      "Name: RestaurantsReservations, dtype: int64\n",
      "\n",
      "\n",
      "GoodForMeal\n",
      "{'dessert': False, 'latenight': False, 'lunch': False, 'dinner': False, 'brunch': False, 'breakfast': False}     3181\n",
      "{'dessert': False, 'latenight': False, 'lunch': True, 'dinner': True, 'brunch': False, 'breakfast': False}       1525\n",
      "{'dessert': False, 'latenight': False, 'lunch': True, 'dinner': False, 'brunch': False, 'breakfast': False}       828\n",
      "{'dessert': False, 'latenight': False, 'lunch': False, 'dinner': True, 'brunch': False, 'breakfast': False}       414\n",
      "{'dessert': False, 'latenight': False, 'lunch': True, 'dinner': False, 'brunch': True, 'breakfast': True}         249\n",
      "                                                                                                                 ... \n",
      "{'dessert': False, 'latenight': True, 'lunch': True, 'dinner': False, 'brunch': False, 'breakfast': True}           1\n",
      "{u'breakfast': None, u'brunch': True, u'lunch': True, u'dinner': True, u'latenight': None, u'dessert': False}       1\n",
      "{'dessert': False, 'latenight': False, 'lunch': None, 'dinner': None, 'brunch': None, 'breakfast': False}           1\n",
      "{u'breakfast': True, u'brunch': True, u'lunch': None, u'dinner': True, u'latenight': None, u'dessert': None}        1\n",
      "{'dessert': None, 'latenight': True, 'lunch': True, 'dinner': True, 'brunch': None, 'breakfast': True}              1\n",
      "Name: GoodForMeal, Length: 343, dtype: int64\n",
      "\n",
      "\n",
      "HasTV\n",
      "True     10711\n",
      "False     3525\n",
      "None         6\n",
      "Name: HasTV, dtype: int64\n",
      "\n",
      "\n",
      "WheelchairAccessible\n",
      "True     4405\n",
      "False     411\n",
      "None        4\n",
      "Name: WheelchairAccessible, dtype: int64\n",
      "\n",
      "\n",
      "HappyHour\n",
      "True     2348\n",
      "False    1510\n",
      "Name: HappyHour, dtype: int64\n",
      "\n",
      "\n",
      "DogsAllowed\n",
      "False    2911\n",
      "True     1014\n",
      "None        6\n",
      "Name: DogsAllowed, dtype: int64\n",
      "\n",
      "\n",
      "BYOB\n",
      "False    909\n",
      "True     344\n",
      "None       5\n",
      "Name: BYOB, dtype: int64\n",
      "\n",
      "\n",
      "DriveThru\n",
      "True     1400\n",
      "False     790\n",
      "None      287\n",
      "Name: DriveThru, dtype: int64\n",
      "\n",
      "\n",
      "GoodForDancing\n",
      "False    602\n",
      "True      91\n",
      "Name: GoodForDancing, dtype: int64\n",
      "\n",
      "\n",
      "Music\n",
      "{'dj': False, 'background_music': False, 'no_music': False, 'jukebox': False, 'live': False, 'video': False, 'karaoke': False}          449\n",
      "{'dj': False, 'background_music': False, 'no_music': False, 'jukebox': False, 'live': True, 'video': False, 'karaoke': False}           196\n",
      "{'dj': False}                                                                                                                            42\n",
      "{u'dj': None, u'live': False, u'jukebox': None, u'video': False, u'background_music': False, u'karaoke': None, u'no_music': False}       41\n",
      "{'dj': False, 'background_music': False, 'no_music': False, 'jukebox': False, 'live': False, 'video': False, 'karaoke': None}            35\n",
      "                                                                                                                                       ... \n",
      "{'dj': False, 'background_music': False, 'no_music': False, 'jukebox': None, 'live': True, 'video': False, 'karaoke': False}              1\n",
      "{'dj': False, 'background_music': False, 'no_music': False, 'jukebox': True, 'live': True, 'video': False, 'karaoke': None}               1\n",
      "{'dj': False, 'background_music': False, 'no_music': False, 'jukebox': True, 'live': None, 'video': False, 'karaoke': None}               1\n",
      "{u'dj': None, u'live': False, u'jukebox': False, u'video': False, u'background_music': False, u'karaoke': False, u'no_music': False}      1\n",
      "{u'dj': None, u'live': None, u'jukebox': False, u'video': False, u'background_music': False, u'karaoke': False, u'no_music': False}       1\n",
      "Name: Music, Length: 73, dtype: int64\n",
      "\n",
      "\n",
      "CoatCheck\n",
      "False    866\n",
      "True      64\n",
      "Name: CoatCheck, dtype: int64\n",
      "\n",
      "\n",
      "BestNights\n",
      "{'monday': False, 'tuesday': False, 'friday': False, 'wednesday': False, 'thursday': False, 'sunday': False, 'saturday': False}           158\n",
      "{'monday': False, 'tuesday': False, 'friday': True, 'wednesday': False, 'thursday': True, 'sunday': False, 'saturday': True}              121\n",
      "{'monday': False, 'tuesday': False, 'friday': True, 'wednesday': False, 'thursday': False, 'sunday': True, 'saturday': True}               64\n",
      "{'monday': False, 'tuesday': False, 'friday': False, 'wednesday': False, 'thursday': False, 'sunday': False, 'saturday': True}             52\n",
      "{u'monday': False, u'tuesday': False, u'wednesday': False, u'thursday': False, u'friday': False, u'saturday': False, u'sunday': False}     42\n",
      "                                                                                                                                         ... \n",
      "{u'monday': False, u'tuesday': True, u'wednesday': True, u'thursday': False, u'friday': False, u'saturday': True, u'sunday': False}         1\n",
      "{u'monday': True, u'tuesday': False, u'wednesday': False, u'thursday': False, u'friday': True, u'saturday': False, u'sunday': True}         1\n",
      "{u'monday': True, u'tuesday': False, u'wednesday': False, u'thursday': False, u'friday': True, u'saturday': True, u'sunday': False}         1\n",
      "{u'monday': True, u'tuesday': False, u'wednesday': False, u'thursday': False, u'friday': False, u'saturday': True, u'sunday': True}         1\n",
      "{u'monday': False, u'tuesday': True, u'wednesday': False, u'thursday': True, u'friday': False, u'saturday': True, u'sunday': False}         1\n",
      "Name: BestNights, Length: 88, dtype: int64\n",
      "\n",
      "\n",
      "Smoking\n",
      "u'no'         391\n",
      "u'outdoor'    266\n",
      "u'yes'         33\n",
      "'no'            5\n",
      "'outdoor'       1\n",
      "None            1\n",
      "Name: Smoking, dtype: int64\n",
      "\n",
      "\n",
      "BYOBCorkage\n",
      "'no'              239\n",
      "'yes_free'        186\n",
      "'yes_corkage'      27\n",
      "u'yes_free'         8\n",
      "u'no'               4\n",
      "None                2\n",
      "u'yes_corkage'      2\n",
      "Name: BYOBCorkage, dtype: int64\n",
      "\n",
      "\n",
      "Corkage\n",
      "False    756\n",
      "True     284\n",
      "None       5\n",
      "Name: Corkage, dtype: int64\n",
      "\n",
      "\n",
      "Open24Hours\n",
      "False    3\n",
      "True     3\n",
      "Name: Open24Hours, dtype: int64\n",
      "\n",
      "\n",
      "AgesAllowed\n",
      "u'allages'    30\n",
      "u'21plus'      4\n",
      "Name: AgesAllowed, dtype: int64\n",
      "\n",
      "\n",
      "DietaryRestrictions\n",
      "{'dairy-free': False, 'gluten-free': True, 'vegan': False, 'kosher': False, 'halal': False, 'soy-free': False, 'vegetarian': False}    3\n",
      "None                                                                                                                                   1\n",
      "{'dairy-free': False, 'gluten-free': False, 'vegan': True, 'kosher': False, 'halal': False, 'soy-free': False, 'vegetarian': False}    1\n",
      "{'dairy-free': True, 'gluten-free': True, 'vegan': True, 'kosher': False, 'halal': False, 'soy-free': True, 'vegetarian': True}        1\n",
      "Name: DietaryRestrictions, dtype: int64\n",
      "\n",
      "\n",
      "RestaurantsCounterService\n",
      "True    7\n",
      "Name: RestaurantsCounterService, dtype: int64\n",
      "\n",
      "\n",
      "AcceptsInsurance\n",
      "False    6\n",
      "True     2\n",
      "Name: AcceptsInsurance, dtype: int64\n",
      "\n",
      "\n"
     ]
    }
   ],
   "source": [
    "# check value in each columns of attributes\n",
    "for col in attributes_df.columns:\n",
    "    print(col)\n",
    "    print(attributes_df[col].value_counts())\n",
    "    print('\\n')"
   ]
  },
  {
   "cell_type": "code",
   "execution_count": 171,
   "id": "c0db4b39",
   "metadata": {},
   "outputs": [],
   "source": [
    "# #save attributes_df\n",
    "# attributes_df.to_csv('attributes_df.csv',index=False)"
   ]
  },
  {
   "attachments": {},
   "cell_type": "markdown",
   "id": "87a4ffb7",
   "metadata": {},
   "source": [
    "### 1.2.2 Create business2 df"
   ]
  },
  {
   "cell_type": "code",
   "execution_count": 53,
   "id": "60f3d4b3",
   "metadata": {},
   "outputs": [],
   "source": [
    "# create temporary df for attributes\n",
    "# this new df is use to create dummy columns from attributes df\n",
    "business2 = attributes_df"
   ]
  },
  {
   "cell_type": "code",
   "execution_count": 54,
   "id": "00710855",
   "metadata": {},
   "outputs": [],
   "source": [
    "df_biz_parking = dummy_dict(business2,'BusinessParking')\n",
    "df_alcohol = dummy_dict(business2,'Alcohol')\n",
    "df_restaurant_attire = dummy_dict(business2,'RestaurantsAttire')"
   ]
  },
  {
   "cell_type": "code",
   "execution_count": 55,
   "id": "18472310",
   "metadata": {},
   "outputs": [],
   "source": [
    "df_ambience = dummy_dict(business2,'Ambience')\n",
    "df_good_meal = dummy_dict(business2,'GoodForMeal')\n",
    "df_noise_level = dummy_dict(business2,'NoiseLevel')"
   ]
  },
  {
   "cell_type": "code",
   "execution_count": 56,
   "id": "df78aa92",
   "metadata": {},
   "outputs": [],
   "source": [
    "df_smoking = dummy_dict(business2,'Smoking')\n",
    "df_music = dummy_dict(business2,'Music')\n",
    "df_best_night = dummy_dict(business2,'BestNights')"
   ]
  },
  {
   "cell_type": "code",
   "execution_count": 57,
   "id": "874080ae",
   "metadata": {},
   "outputs": [],
   "source": [
    "df_wifi = dummy_dict(business2,'WiFi')\n",
    "df_Byob_Corkage = dummy_dict(business2,'BYOBCorkage')\n",
    "df_Dietary_Restrictions = dummy_dict(business2,'DietaryRestrictions')"
   ]
  },
  {
   "cell_type": "code",
   "execution_count": 58,
   "id": "cc0416e1",
   "metadata": {},
   "outputs": [],
   "source": [
    "#create empty dataframe \n",
    "datas = []\n",
    "df = pd.DataFrame(datas)"
   ]
  },
  {
   "cell_type": "code",
   "execution_count": 59,
   "id": "1f36ec80",
   "metadata": {},
   "outputs": [
    {
     "data": {
      "text/html": [
       "<div>\n",
       "<style scoped>\n",
       "    .dataframe tbody tr th:only-of-type {\n",
       "        vertical-align: middle;\n",
       "    }\n",
       "\n",
       "    .dataframe tbody tr th {\n",
       "        vertical-align: top;\n",
       "    }\n",
       "\n",
       "    .dataframe thead th {\n",
       "        text-align: right;\n",
       "    }\n",
       "</style>\n",
       "<table border=\"1\" class=\"dataframe\">\n",
       "  <thead>\n",
       "    <tr style=\"text-align: right;\">\n",
       "      <th></th>\n",
       "    </tr>\n",
       "  </thead>\n",
       "  <tbody>\n",
       "  </tbody>\n",
       "</table>\n",
       "</div>"
      ],
      "text/plain": [
       "Empty DataFrame\n",
       "Columns: []\n",
       "Index: []"
      ]
     },
     "execution_count": 59,
     "metadata": {},
     "output_type": "execute_result"
    }
   ],
   "source": [
    "df.head(1)"
   ]
  },
  {
   "cell_type": "code",
   "execution_count": 60,
   "id": "6afe3e27",
   "metadata": {},
   "outputs": [],
   "source": [
    "#initialize,assign,merge and rename respective columns that haas been dummified \n",
    "df = df_biz_parking\n",
    "df = pd.merge(df,df_alcohol,on=df.index, how = 'left')\n",
    "df.rename(columns={0:'Alcohol'},inplace=True)\n",
    "df.drop(columns=['key_0'],inplace=True)\n",
    "df = pd.merge(df,df_restaurant_attire,on=df.index, how = 'left')\n",
    "df.rename(columns={0:'rest_Attire'},inplace=True)\n",
    "df.drop(columns=['key_0'],inplace=True)\n",
    "df = pd.merge(df,df_ambience,on=df.index, how = 'left')\n",
    "df.drop(columns=['key_0'],inplace=True)\n",
    "df = pd.merge(df,df_good_meal,on=df.index, how = 'left')\n",
    "df.drop(columns=['key_0'],inplace=True)\n",
    "df = pd.merge(df,df_noise_level,on=df.index, how = 'left')\n",
    "df.rename(columns={0:'noise_level'},inplace=True)\n",
    "df.drop(columns=['key_0'],inplace=True)\n",
    "df = pd.merge(df,df_smoking,on=df.index, how = 'left')\n",
    "df.rename(columns={0:'smoking'},inplace=True)\n",
    "df.drop(columns=['key_0'],inplace=True)\n",
    "df = pd.merge(df,df_music,on=df.index, how = 'left')\n",
    "df.drop(columns=['key_0'],inplace=True)\n",
    "df = pd.merge(df,df_best_night,on=df.index, how = 'left')\n",
    "df.drop(columns=['key_0'],inplace=True)\n",
    "df = pd.merge(df,df_wifi,on=df.index, how = 'left')\n",
    "df.rename(columns = {0:'Wifi'},inplace=True)\n",
    "df.drop(columns=['key_0'],inplace=True)\n",
    "df = pd.merge(df,df_Byob_Corkage,on=df.index, how = 'left')\n",
    "df.rename(columns = {0:'ByOB_Corkage'},inplace=True)\n",
    "df.drop(columns=['key_0'],inplace=True)\n",
    "df = pd.merge(df,df_Dietary_Restrictions,on=df.index, how = 'left')\n",
    "df.rename(columns = {0:'Dietary_Restrictions'},inplace=True)\n",
    "df.drop(columns=['key_0'],inplace=True)"
   ]
  },
  {
   "cell_type": "code",
   "execution_count": 61,
   "id": "3b2787fe",
   "metadata": {},
   "outputs": [],
   "source": [
    "#create column to be dropped\n",
    "# this columns already dummified\n",
    "columns = ['BusinessParking','Alcohol','RestaurantsAttire','Ambience','GoodForMeal','NoiseLevel','Smoking','Music','WiFi',\n",
    "           'BYOBCorkage','BestNights','BYOBCorkage','DietaryRestrictions']"
   ]
  },
  {
   "cell_type": "code",
   "execution_count": 62,
   "id": "6e2dca73",
   "metadata": {},
   "outputs": [],
   "source": [
    "# drop the aforementioned columns\n",
    "business2.drop(columns = columns,inplace = True)"
   ]
  },
  {
   "cell_type": "code",
   "execution_count": 63,
   "id": "d0e9da16",
   "metadata": {},
   "outputs": [],
   "source": [
    "# combine all dummy columns to a dataframe,new_cat\n",
    "to_dummy = business2.columns.values.tolist()\n",
    "new_cat = pd.concat([pd.get_dummies(business2[col], prefix=col, prefix_sep='_') for col in to_dummy], axis=1)"
   ]
  },
  {
   "cell_type": "code",
   "execution_count": 64,
   "id": "15671741",
   "metadata": {},
   "outputs": [],
   "source": [
    "# realign index \n",
    "index_actual = business2.index.tolist()\n",
    "df.index = index_actual"
   ]
  },
  {
   "attachments": {},
   "cell_type": "markdown",
   "id": "1803e92e",
   "metadata": {},
   "source": [
    "### 1.2.3 Create all_attributes df"
   ]
  },
  {
   "cell_type": "code",
   "execution_count": 66,
   "id": "558915ce",
   "metadata": {},
   "outputs": [],
   "source": [
    "all_attributes = pd.concat([df, new_cat], axis=1)\n",
    "business2 = pd.concat([business2, all_attributes], axis=1)\n",
    "business2.drop(to_dummy, inplace=True, axis=1)"
   ]
  },
  {
   "cell_type": "code",
   "execution_count": 67,
   "id": "80dd1948",
   "metadata": {},
   "outputs": [
    {
     "data": {
      "text/html": [
       "<div>\n",
       "<style scoped>\n",
       "    .dataframe tbody tr th:only-of-type {\n",
       "        vertical-align: middle;\n",
       "    }\n",
       "\n",
       "    .dataframe tbody tr th {\n",
       "        vertical-align: top;\n",
       "    }\n",
       "\n",
       "    .dataframe thead th {\n",
       "        text-align: right;\n",
       "    }\n",
       "</style>\n",
       "<table border=\"1\" class=\"dataframe\">\n",
       "  <thead>\n",
       "    <tr style=\"text-align: right;\">\n",
       "      <th></th>\n",
       "      <th>garage</th>\n",
       "      <th>street</th>\n",
       "      <th>validated</th>\n",
       "      <th>lot</th>\n",
       "      <th>valet</th>\n",
       "      <th>Alcohol</th>\n",
       "      <th>rest_Attire</th>\n",
       "      <th>romantic</th>\n",
       "      <th>intimate</th>\n",
       "      <th>touristy</th>\n",
       "      <th>...</th>\n",
       "      <th>Corkage_False</th>\n",
       "      <th>Corkage_None</th>\n",
       "      <th>Corkage_True</th>\n",
       "      <th>Open24Hours_False</th>\n",
       "      <th>Open24Hours_True</th>\n",
       "      <th>AgesAllowed_u'21plus'</th>\n",
       "      <th>AgesAllowed_u'allages'</th>\n",
       "      <th>RestaurantsCounterService_True</th>\n",
       "      <th>AcceptsInsurance_False</th>\n",
       "      <th>AcceptsInsurance_True</th>\n",
       "    </tr>\n",
       "  </thead>\n",
       "  <tbody>\n",
       "    <tr>\n",
       "      <th>3</th>\n",
       "      <td>False</td>\n",
       "      <td>True</td>\n",
       "      <td>False</td>\n",
       "      <td>False</td>\n",
       "      <td>False</td>\n",
       "      <td>none</td>\n",
       "      <td>NaN</td>\n",
       "      <td>NaN</td>\n",
       "      <td>NaN</td>\n",
       "      <td>NaN</td>\n",
       "      <td>...</td>\n",
       "      <td>0</td>\n",
       "      <td>0</td>\n",
       "      <td>0</td>\n",
       "      <td>0</td>\n",
       "      <td>0</td>\n",
       "      <td>0</td>\n",
       "      <td>0</td>\n",
       "      <td>0</td>\n",
       "      <td>0</td>\n",
       "      <td>0</td>\n",
       "    </tr>\n",
       "  </tbody>\n",
       "</table>\n",
       "<p>1 rows × 117 columns</p>\n",
       "</div>"
      ],
      "text/plain": [
       "  garage street validated    lot  valet Alcohol rest_Attire romantic intimate  \\\n",
       "3  False   True     False  False  False    none         NaN      NaN      NaN   \n",
       "\n",
       "  touristy  ... Corkage_False Corkage_None Corkage_True Open24Hours_False  \\\n",
       "3      NaN  ...             0            0            0                 0   \n",
       "\n",
       "  Open24Hours_True AgesAllowed_u'21plus' AgesAllowed_u'allages'  \\\n",
       "3                0                     0                      0   \n",
       "\n",
       "  RestaurantsCounterService_True AcceptsInsurance_False AcceptsInsurance_True  \n",
       "3                              0                      0                     0  \n",
       "\n",
       "[1 rows x 117 columns]"
      ]
     },
     "execution_count": 67,
     "metadata": {},
     "output_type": "execute_result"
    }
   ],
   "source": [
    "all_attributes.head(1)"
   ]
  },
  {
   "cell_type": "code",
   "execution_count": 68,
   "id": "3bead0f5",
   "metadata": {},
   "outputs": [
    {
     "data": {
      "text/html": [
       "<div>\n",
       "<style scoped>\n",
       "    .dataframe tbody tr th:only-of-type {\n",
       "        vertical-align: middle;\n",
       "    }\n",
       "\n",
       "    .dataframe tbody tr th {\n",
       "        vertical-align: top;\n",
       "    }\n",
       "\n",
       "    .dataframe thead th {\n",
       "        text-align: right;\n",
       "    }\n",
       "</style>\n",
       "<table border=\"1\" class=\"dataframe\">\n",
       "  <thead>\n",
       "    <tr style=\"text-align: right;\">\n",
       "      <th></th>\n",
       "      <th>garage</th>\n",
       "      <th>street</th>\n",
       "      <th>validated</th>\n",
       "      <th>lot</th>\n",
       "      <th>valet</th>\n",
       "      <th>Alcohol</th>\n",
       "      <th>rest_Attire</th>\n",
       "      <th>romantic</th>\n",
       "      <th>intimate</th>\n",
       "      <th>touristy</th>\n",
       "      <th>...</th>\n",
       "      <th>Corkage_False</th>\n",
       "      <th>Corkage_None</th>\n",
       "      <th>Corkage_True</th>\n",
       "      <th>Open24Hours_False</th>\n",
       "      <th>Open24Hours_True</th>\n",
       "      <th>AgesAllowed_u'21plus'</th>\n",
       "      <th>AgesAllowed_u'allages'</th>\n",
       "      <th>RestaurantsCounterService_True</th>\n",
       "      <th>AcceptsInsurance_False</th>\n",
       "      <th>AcceptsInsurance_True</th>\n",
       "    </tr>\n",
       "  </thead>\n",
       "  <tbody>\n",
       "    <tr>\n",
       "      <th>3</th>\n",
       "      <td>False</td>\n",
       "      <td>True</td>\n",
       "      <td>False</td>\n",
       "      <td>False</td>\n",
       "      <td>False</td>\n",
       "      <td>none</td>\n",
       "      <td>NaN</td>\n",
       "      <td>NaN</td>\n",
       "      <td>NaN</td>\n",
       "      <td>NaN</td>\n",
       "      <td>...</td>\n",
       "      <td>0</td>\n",
       "      <td>0</td>\n",
       "      <td>0</td>\n",
       "      <td>0</td>\n",
       "      <td>0</td>\n",
       "      <td>0</td>\n",
       "      <td>0</td>\n",
       "      <td>0</td>\n",
       "      <td>0</td>\n",
       "      <td>0</td>\n",
       "    </tr>\n",
       "    <tr>\n",
       "      <th>14</th>\n",
       "      <td>False</td>\n",
       "      <td>False</td>\n",
       "      <td>False</td>\n",
       "      <td>True</td>\n",
       "      <td>False</td>\n",
       "      <td>none</td>\n",
       "      <td>casual</td>\n",
       "      <td>False</td>\n",
       "      <td>False</td>\n",
       "      <td>False</td>\n",
       "      <td>...</td>\n",
       "      <td>0</td>\n",
       "      <td>0</td>\n",
       "      <td>0</td>\n",
       "      <td>0</td>\n",
       "      <td>0</td>\n",
       "      <td>0</td>\n",
       "      <td>0</td>\n",
       "      <td>0</td>\n",
       "      <td>0</td>\n",
       "      <td>0</td>\n",
       "    </tr>\n",
       "  </tbody>\n",
       "</table>\n",
       "<p>2 rows × 117 columns</p>\n",
       "</div>"
      ],
      "text/plain": [
       "   garage street validated    lot  valet Alcohol rest_Attire romantic  \\\n",
       "3   False   True     False  False  False    none         NaN      NaN   \n",
       "14  False  False     False   True  False    none      casual    False   \n",
       "\n",
       "   intimate touristy  ... Corkage_False Corkage_None Corkage_True  \\\n",
       "3       NaN      NaN  ...             0            0            0   \n",
       "14    False    False  ...             0            0            0   \n",
       "\n",
       "   Open24Hours_False Open24Hours_True AgesAllowed_u'21plus'  \\\n",
       "3                  0                0                     0   \n",
       "14                 0                0                     0   \n",
       "\n",
       "   AgesAllowed_u'allages' RestaurantsCounterService_True  \\\n",
       "3                       0                              0   \n",
       "14                      0                              0   \n",
       "\n",
       "   AcceptsInsurance_False AcceptsInsurance_True  \n",
       "3                       0                     0  \n",
       "14                      0                     0  \n",
       "\n",
       "[2 rows x 117 columns]"
      ]
     },
     "execution_count": 68,
     "metadata": {},
     "output_type": "execute_result"
    }
   ],
   "source": [
    "business2.head(2)"
   ]
  },
  {
   "cell_type": "code",
   "execution_count": 172,
   "id": "237fc177",
   "metadata": {},
   "outputs": [],
   "source": [
    "# business2.to_csv('business2.csv',index=False)"
   ]
  },
  {
   "attachments": {},
   "cell_type": "markdown",
   "id": "e50b2ba5",
   "metadata": {},
   "source": [
    "### 1.2.4 Create refer_attribute df"
   ]
  },
  {
   "cell_type": "code",
   "execution_count": 69,
   "id": "bf2f5cad",
   "metadata": {},
   "outputs": [],
   "source": [
    "refer_attribute = business_rest_or_food_only[['business_id']]"
   ]
  },
  {
   "cell_type": "code",
   "execution_count": 70,
   "id": "62b3c5ec",
   "metadata": {},
   "outputs": [],
   "source": [
    "# none value is chosed as this data is randomly provided by user, and attributes are differ for each other\n",
    "# thus cannot use mean value to impute missing values\n",
    "refer_attribute = pd.concat([refer_attribute,business2],axis=1)\n",
    "refer_attribute = refer_attribute.fillna('none')"
   ]
  },
  {
   "cell_type": "code",
   "execution_count": 71,
   "id": "ac1d469f",
   "metadata": {},
   "outputs": [
    {
     "data": {
      "text/html": [
       "<div>\n",
       "<style scoped>\n",
       "    .dataframe tbody tr th:only-of-type {\n",
       "        vertical-align: middle;\n",
       "    }\n",
       "\n",
       "    .dataframe tbody tr th {\n",
       "        vertical-align: top;\n",
       "    }\n",
       "\n",
       "    .dataframe thead th {\n",
       "        text-align: right;\n",
       "    }\n",
       "</style>\n",
       "<table border=\"1\" class=\"dataframe\">\n",
       "  <thead>\n",
       "    <tr style=\"text-align: right;\">\n",
       "      <th></th>\n",
       "      <th>business_id</th>\n",
       "      <th>garage</th>\n",
       "      <th>street</th>\n",
       "      <th>validated</th>\n",
       "      <th>lot</th>\n",
       "      <th>valet</th>\n",
       "      <th>Alcohol</th>\n",
       "      <th>rest_Attire</th>\n",
       "      <th>romantic</th>\n",
       "      <th>intimate</th>\n",
       "      <th>...</th>\n",
       "      <th>Corkage_False</th>\n",
       "      <th>Corkage_None</th>\n",
       "      <th>Corkage_True</th>\n",
       "      <th>Open24Hours_False</th>\n",
       "      <th>Open24Hours_True</th>\n",
       "      <th>AgesAllowed_u'21plus'</th>\n",
       "      <th>AgesAllowed_u'allages'</th>\n",
       "      <th>RestaurantsCounterService_True</th>\n",
       "      <th>AcceptsInsurance_False</th>\n",
       "      <th>AcceptsInsurance_True</th>\n",
       "    </tr>\n",
       "  </thead>\n",
       "  <tbody>\n",
       "    <tr>\n",
       "      <th>3</th>\n",
       "      <td>MTSW4McQd7CbVtyjqoe9mw</td>\n",
       "      <td>False</td>\n",
       "      <td>True</td>\n",
       "      <td>False</td>\n",
       "      <td>False</td>\n",
       "      <td>False</td>\n",
       "      <td>none</td>\n",
       "      <td>none</td>\n",
       "      <td>none</td>\n",
       "      <td>none</td>\n",
       "      <td>...</td>\n",
       "      <td>0</td>\n",
       "      <td>0</td>\n",
       "      <td>0</td>\n",
       "      <td>0</td>\n",
       "      <td>0</td>\n",
       "      <td>0</td>\n",
       "      <td>0</td>\n",
       "      <td>0</td>\n",
       "      <td>0</td>\n",
       "      <td>0</td>\n",
       "    </tr>\n",
       "  </tbody>\n",
       "</table>\n",
       "<p>1 rows × 118 columns</p>\n",
       "</div>"
      ],
      "text/plain": [
       "              business_id garage street validated    lot  valet Alcohol  \\\n",
       "3  MTSW4McQd7CbVtyjqoe9mw  False   True     False  False  False    none   \n",
       "\n",
       "  rest_Attire romantic intimate  ... Corkage_False Corkage_None Corkage_True  \\\n",
       "3        none     none     none  ...             0            0            0   \n",
       "\n",
       "  Open24Hours_False Open24Hours_True AgesAllowed_u'21plus'  \\\n",
       "3                 0                0                     0   \n",
       "\n",
       "  AgesAllowed_u'allages' RestaurantsCounterService_True  \\\n",
       "3                      0                              0   \n",
       "\n",
       "  AcceptsInsurance_False AcceptsInsurance_True  \n",
       "3                      0                     0  \n",
       "\n",
       "[1 rows x 118 columns]"
      ]
     },
     "execution_count": 71,
     "metadata": {},
     "output_type": "execute_result"
    }
   ],
   "source": [
    "# refer attribute df contain business_id and all attributes of business dataframe\n",
    "refer_attribute.head(1)"
   ]
  },
  {
   "cell_type": "code",
   "execution_count": 162,
   "id": "b6d50b51",
   "metadata": {},
   "outputs": [
    {
     "data": {
      "text/plain": [
       "(22073, 118)"
      ]
     },
     "execution_count": 162,
     "metadata": {},
     "output_type": "execute_result"
    }
   ],
   "source": [
    "refer_attribute.shape"
   ]
  },
  {
   "cell_type": "code",
   "execution_count": 76,
   "id": "9b569a0a",
   "metadata": {},
   "outputs": [],
   "source": [
    "# refer_attribute.to_csv('refer_attribute.csv',index=False)"
   ]
  },
  {
   "cell_type": "code",
   "execution_count": 7,
   "id": "c82e7c55",
   "metadata": {},
   "outputs": [],
   "source": [
    "# refer_attribute = pd.read_csv('refer_attribute.csv')"
   ]
  },
  {
   "attachments": {},
   "cell_type": "markdown",
   "id": "9469c86e",
   "metadata": {},
   "source": [
    "# 2. Preprocessing Review Df"
   ]
  },
  {
   "cell_type": "code",
   "execution_count": 72,
   "id": "d4a56716",
   "metadata": {},
   "outputs": [
    {
     "data": {
      "text/html": [
       "<div>\n",
       "<style scoped>\n",
       "    .dataframe tbody tr th:only-of-type {\n",
       "        vertical-align: middle;\n",
       "    }\n",
       "\n",
       "    .dataframe tbody tr th {\n",
       "        vertical-align: top;\n",
       "    }\n",
       "\n",
       "    .dataframe thead th {\n",
       "        text-align: right;\n",
       "    }\n",
       "</style>\n",
       "<table border=\"1\" class=\"dataframe\">\n",
       "  <thead>\n",
       "    <tr style=\"text-align: right;\">\n",
       "      <th></th>\n",
       "      <th>review_id</th>\n",
       "      <th>user_id</th>\n",
       "      <th>business_id</th>\n",
       "      <th>stars</th>\n",
       "      <th>useful</th>\n",
       "      <th>funny</th>\n",
       "      <th>cool</th>\n",
       "      <th>text</th>\n",
       "      <th>date</th>\n",
       "    </tr>\n",
       "  </thead>\n",
       "  <tbody>\n",
       "    <tr>\n",
       "      <th>0</th>\n",
       "      <td>KU_O5udG6zpxOg-VcAEodg</td>\n",
       "      <td>mh_-eMZ6K5RLWhZyISBhwA</td>\n",
       "      <td>XQfwVwDr-v0ZS3_CbbE5Xw</td>\n",
       "      <td>3.0</td>\n",
       "      <td>0</td>\n",
       "      <td>0</td>\n",
       "      <td>0</td>\n",
       "      <td>If you decide to eat here, just be aware it is...</td>\n",
       "      <td>2018-07-07 22:09:11</td>\n",
       "    </tr>\n",
       "  </tbody>\n",
       "</table>\n",
       "</div>"
      ],
      "text/plain": [
       "                review_id                 user_id             business_id  \\\n",
       "0  KU_O5udG6zpxOg-VcAEodg  mh_-eMZ6K5RLWhZyISBhwA  XQfwVwDr-v0ZS3_CbbE5Xw   \n",
       "\n",
       "   stars  useful  funny  cool  \\\n",
       "0    3.0       0      0     0   \n",
       "\n",
       "                                                text                 date  \n",
       "0  If you decide to eat here, just be aware it is...  2018-07-07 22:09:11  "
      ]
     },
     "execution_count": 72,
     "metadata": {},
     "output_type": "execute_result"
    }
   ],
   "source": [
    "review.head(1)"
   ]
  },
  {
   "cell_type": "code",
   "execution_count": 73,
   "id": "579f9c87",
   "metadata": {},
   "outputs": [],
   "source": [
    "# drop unuseful columns\n",
    "review = review.drop(columns=['date','funny','cool'])"
   ]
  },
  {
   "cell_type": "code",
   "execution_count": 74,
   "id": "14790704",
   "metadata": {},
   "outputs": [
    {
     "data": {
      "text/plain": [
       "2000000"
      ]
     },
     "execution_count": 74,
     "metadata": {},
     "output_type": "execute_result"
    }
   ],
   "source": [
    "# check id is unique\n",
    "# all review id is unique\n",
    "len(review.review_id.unique())"
   ]
  },
  {
   "cell_type": "code",
   "execution_count": 75,
   "id": "f218294d",
   "metadata": {},
   "outputs": [],
   "source": [
    "# drop if found duplicate user_id\n",
    "review.user_id = review.user_id.drop_duplicates(keep='first')"
   ]
  },
  {
   "cell_type": "code",
   "execution_count": 76,
   "id": "270138bb",
   "metadata": {},
   "outputs": [
    {
     "data": {
      "text/plain": [
       "True     1104070\n",
       "False     895930\n",
       "Name: user_id, dtype: int64"
      ]
     },
     "execution_count": 76,
     "metadata": {},
     "output_type": "execute_result"
    }
   ],
   "source": [
    "# check for null values for user_id columns\n",
    "review.user_id.isnull().value_counts()"
   ]
  },
  {
   "cell_type": "code",
   "execution_count": 77,
   "id": "c6ce7a17",
   "metadata": {},
   "outputs": [],
   "source": [
    "# drop null values\n",
    "review.dropna(inplace=True)"
   ]
  },
  {
   "cell_type": "code",
   "execution_count": 78,
   "id": "418a0c8e",
   "metadata": {},
   "outputs": [
    {
     "data": {
      "text/plain": [
       "(895930, 6)"
      ]
     },
     "execution_count": 78,
     "metadata": {},
     "output_type": "execute_result"
    }
   ],
   "source": [
    "# check final shape\n",
    "review.shape"
   ]
  },
  {
   "cell_type": "code",
   "execution_count": 79,
   "id": "8e79aef2",
   "metadata": {},
   "outputs": [
    {
     "data": {
      "text/plain": [
       "array([3., 5., 4., 1., 2.])"
      ]
     },
     "execution_count": 79,
     "metadata": {},
     "output_type": "execute_result"
    }
   ],
   "source": [
    "# check sequence/order contain in ranking/stars by reviewer\n",
    "review.stars.unique()"
   ]
  },
  {
   "cell_type": "code",
   "execution_count": 80,
   "id": "18f99323",
   "metadata": {},
   "outputs": [
    {
     "name": "stdout",
     "output_type": "stream",
     "text": [
      "Number of users: 895930\n",
      "Number of models: 43404\n",
      "Sparsity: 0.002%\n"
     ]
    }
   ],
   "source": [
    "# cehck for model sparsity\n",
    "n_users = review.user_id.unique().shape[0]\n",
    "n_items = review.business_id.unique().shape[0]\n",
    "\n",
    "print('Number of users: {}'.format(n_users))\n",
    "print('Number of models: {}'.format(n_items))\n",
    "print('Sparsity: {:4.3f}%'.format(float(review.shape[0]) / float(n_users*n_items) * 100))"
   ]
  },
  {
   "cell_type": "code",
   "execution_count": 173,
   "id": "1f8c86e5",
   "metadata": {},
   "outputs": [],
   "source": [
    "# review.to_csv('review_clean.csv',index=False)"
   ]
  },
  {
   "attachments": {},
   "cell_type": "markdown",
   "id": "b0a1fcde",
   "metadata": {},
   "source": [
    "## 2.1 NLP Preprocessing"
   ]
  },
  {
   "cell_type": "code",
   "execution_count": 81,
   "id": "1554dbde",
   "metadata": {},
   "outputs": [],
   "source": [
    "#Define all function to use in cleaning data\n",
    "\n",
    "def remove_newlines_tabs(text):\n",
    "    # Replacing all the occurrences of \\n,\\\\n,\\t,\\\\ with a space.\n",
    "    Formatted_text = text.replace('\\\\n', ' ').replace('\\n', ' ').replace('\\t',' ').replace('\\\\', ' ').replace('. com', '.com')\n",
    "    return Formatted_text\n",
    "\n",
    "\n",
    "def strip_html_tags(text):\n",
    "    # Initiating BeautifulSoup object soup.\n",
    "    soup = BeautifulSoup(text, \"html.parser\")\n",
    "    # Get all the text other than html tags.\n",
    "    stripped_text = soup.get_text(separator=\" \")\n",
    "    return stripped_text\n",
    "\n",
    "def remove_links(text):\n",
    "    # Removing all the occurrences of links that starts with https\n",
    "    remove_https = re.sub(r'http\\S+', '', text)\n",
    "    # Remove all the occurrences of text that ends with .com\n",
    "    remove_com = re.sub(r\"\\ [A-Za-z]*\\.com\", \" \", remove_https)\n",
    "    return remove_com\n",
    "\n",
    "def remove_whitespace(text):\n",
    "    pattern = re.compile(r'\\s+') \n",
    "    Without_whitespace = re.sub(pattern, ' ', text)\n",
    "    # There are some instances where there is no space after '?' & ')', \n",
    "    # So I am replacing these with one space so that It will not consider two words as one token.\n",
    "    text = Without_whitespace.replace('?', ' ? ').replace(')', ') ')\n",
    "    return text  \n",
    "\n",
    "# Code for accented characters removal\n",
    "def accented_characters_removal(text):\n",
    "    # this is a docstring\n",
    "    # Remove accented characters from text using unidecode.\n",
    "    # Unidecode() - It takes unicode data & tries to represent it to ASCII characters. \n",
    "    text = unidecode.unidecode(text)\n",
    "    return text\n",
    "\n",
    "# Code for text lowercasing\n",
    "def lower_casing_text(text):\n",
    "    # Convert text to lower case\n",
    "    # lower() - It converts all upperase letter of given string to lowercase.\n",
    "    text = text.lower()\n",
    "    return text\n",
    "\n",
    "# Code for removing repeated characters and punctuations\n",
    "def reducing_incorrect_character_repetition(text):\n",
    "    # Pattern matching for all case alphabets\n",
    "    Pattern_alpha = re.compile(r\"([A-Za-z])\\1{1,}\", re.DOTALL)\n",
    "    \n",
    "    # Limiting all the  repetition to two characters.\n",
    "    Formatted_text = Pattern_alpha.sub(r\"\\1\\1\", text) \n",
    "    \n",
    "    # Pattern matching for all the punctuations that can occur\n",
    "    Pattern_Punct = re.compile(r'([.,/#!$%^&*?;:{}=_`~()+-])\\1{1,}')\n",
    "    \n",
    "    # Limiting punctuations in previously formatted string to only one.\n",
    "    Combined_Formatted = Pattern_Punct.sub(r'\\1', Formatted_text)\n",
    "    \n",
    "    # The below statement is replacing repetition of spaces that occur more than two times with that of one occurrence.\n",
    "    Final_Formatted = re.sub(' {2,}',' ', Combined_Formatted)\n",
    "    return Final_Formatted\n",
    "\n",
    "CONTRACTION_MAP = {\n",
    "\"ain't\": \"is not\",\"aren't\": \"are not\",\"can't\": \"cannot\",\n",
    "\"can't've\": \"cannot have\",\"'cause\": \"because\",\"could've\": \"could have\",\n",
    "\"couldn't\": \"could not\",\"couldn't've\": \"could not have\",\"didn't\": \"did not\",\n",
    "\"doesn't\": \"does not\",\"don't\": \"do not\",\"hadn't\": \"had not\",\n",
    "\"hadn't've\": \"had not have\",\"hasn't\": \"has not\",\"haven't\": \"have not\",\n",
    "\"he'd\": \"he would\",\"he'd've\": \"he would have\",\"he'll\": \"he will\",\n",
    "\"he'll've\": \"he he will have\",\"he's\": \"he is\",\"how'd\": \"how did\",\n",
    "\"how'd'y\": \"how do you\",\"how'll\": \"how will\",\"how's\": \"how is\",\n",
    "\"i'd\": \"i would\",\"i'd've\": \"i would have\",\"i'll\": \"i will\",\n",
    "\"i'll've\": \"i will have\",\"i'm\": \"i am\",\"i've\": \"i have\",\n",
    "\"isn't\": \"is not\",\"it'd\": \"it would\",\"it'd've\": \"it would have\",\n",
    "\"it'll\": \"it will\",\"it'll've\": \"it will have\",\"it's\": \"it is\",\n",
    "\"let's\": \"let us\",\"ma'am\": \"madam\",\"mayn't\": \"may not\",\n",
    "\"might've\": \"might have\",\"mightn't\": \"might not\",\"mightn't've\": \"might not have\",\n",
    "\"must've\": \"must have\",\"mustn't\": \"must not\",\"mustn't've\": \"must not have\",\n",
    "\"needn't\": \"need not\",\"needn't've\": \"need not have\",\"o'clock\": \"of the clock\",\n",
    "\"oughtn't\": \"ought not\",\"oughtn't've\": \"ought not have\",\"shan't\": \"shall not\",\n",
    "\"sha'n't\": \"shall not\",\"shan't've\": \"shall not have\",\"she'd\": \"she would\",\n",
    "\"she'd've\": \"she would have\",\"she'll\": \"she will\",\"she'll've\": \"she will have\",\n",
    "\"she's\": \"she is\",\"should've\": \"should have\",\"shouldn't\": \"should not\",\n",
    "\"shouldn't've\": \"should not have\",\"so've\": \"so have\",\"so's\": \"so as\",\n",
    "\"that'd\": \"that would\",\"that'd've\": \"that would have\",\"that's\": \"that is\",\n",
    "\"there'd\": \"there would\",\"there'd've\": \"there would have\",\"there's\": \"there is\",\n",
    "\"they'd\": \"they would\",\"they'd've\": \"they would have\",\"they'll\": \"they will\",\n",
    "\"they'll've\": \"they will have\",\"they're\": \"they are\",\"they've\": \"they have\",\n",
    "\"to've\": \"to have\",\"wasn't\": \"was not\",\"we'd\": \"we would\",\n",
    "\"we'd've\": \"we would have\",\"we'll\": \"we will\",\"we'll've\": \"we will have\",\n",
    "\"we're\": \"we are\",\"we've\": \"we have\",\"weren't\": \"were not\",\n",
    "\"what'll\": \"what will\",\"what'll've\": \"what will have\",\"what're\": \"what are\",\n",
    "\"what's\": \"what is\",\"what've\": \"what have\",\"when's\": \"when is\",\n",
    "\"when've\": \"when have\",\"where'd\": \"where did\",\"where's\": \"where is\",\n",
    "\"where've\": \"where have\",\"who'll\": \"who will\",\"who'll've\": \"who will have\",\n",
    "\"who's\": \"who is\",\"who've\": \"who have\",\"why's\": \"why is\",\n",
    "\"why've\": \"why have\",\"will've\": \"will have\",\"won't\": \"will not\",\n",
    "\"won't've\": \"will not have\",\"would've\": \"would have\",\"wouldn't\": \"would not\",\n",
    "\"wouldn't've\": \"would not have\",\"y'all\": \"you all\",\"y'all'd\": \"you all would\",\n",
    "\"y'all'd've\": \"you all would have\",\"y'all're\": \"you all are\",\"y'all've\": \"you all have\",\n",
    "\"you'd\": \"you would\",\"you'd've\": \"you would have\",\"you'll\": \"you will\",\n",
    "\"you'll've\": \"you will have\",\"you're\": \"you are\",\"you've\": \"you have\",\n",
    "}\n",
    "\n",
    "# The code for expanding contraction words\n",
    "def expand_contractions(text, contraction_mapping =  CONTRACTION_MAP):\n",
    "    # Tokenizing text into tokens.\n",
    "    list_Of_tokens = text.split(' ')\n",
    "\n",
    "    # Checking for whether the given token matches with the Key & replacing word with key's value.\n",
    "    \n",
    "    # Check whether Word is in lidt_Of_tokens or not.\n",
    "    for Word in list_Of_tokens: \n",
    "        # Check whether found word is in dictionary \"Contraction Map\" or not as a key. \n",
    "         if Word in CONTRACTION_MAP: \n",
    "                # If Word is present in both dictionary & list_Of_tokens, replace that word with the key value.\n",
    "                list_Of_tokens = [item.replace(Word, CONTRACTION_MAP[Word]) for item in list_Of_tokens]\n",
    "                \n",
    "    # Converting list of tokens to String.\n",
    "    String_Of_tokens = ' '.join(str(e) for e in list_Of_tokens) \n",
    "    return String_Of_tokens    \n",
    "\n",
    "# The code for removing special characters\n",
    "def removing_special_characters(text):\n",
    "    # The formatted text after removing not necessary punctuations.\n",
    "    Formatted_Text = re.sub(r\"[^a-zA-Z0-9:$-,%.?!]+\", ' ', text) \n",
    "    # In the above regex expression,I am providing necessary set of punctuations that are frequent in this particular dataset.\n",
    "    return Formatted_Text\n",
    "\n",
    "def remove_URL(text):\n",
    "    url = re.compile(r'https?://\\S+|www\\.\\S+')\n",
    "    return url.sub(r'', text)\n",
    "\n",
    "#credit to https://levelup.gitconnected.com/analyzing-donald-trump-and-joe-biden-tweets-using-natural-language-processing-c6a357b11d68\n",
    "def remove_URL2(text):\n",
    "    url = re.compile(r'^https?:\\/\\/.*[\\r\\n]*')\n",
    "#     url = re.compile(r'https?://\\S+|www\\.\\S+')\n",
    "    return url.sub(r'', text)\n",
    "\n",
    "def remove_URL3(text):\n",
    "    url = re.compile(r'http\\S+')\n",
    "#     url = re.compile(r'https?://\\S+|www\\.\\S+')\n",
    "    return url.sub(r'', text)\n",
    "\n",
    "def remove_symbol(text):\n",
    "    url = re.compile(r'[‘’“”…]')\n",
    "#     url = re.compile(r'https?://\\S+|www\\.\\S+')\n",
    "    return url.sub(r'', text)\n",
    "\n",
    "def remove_symbol2(text):\n",
    "    url = re.compile(r'\\[.*?\\]')\n",
    "#     url = re.compile(r'https?://\\S+|www\\.\\S+')\n",
    "    return url.sub(r'', text)\n",
    "\n",
    "def remove_amp(text):\n",
    "    text = text.replace(' amp ','')\n",
    "    return text\n",
    "\n",
    "def text_preprocessing(data):\n",
    "    data =  data.map(lambda x: remove_URL(x))\n",
    "    data =  data.map(lambda x: remove_URL2(x))\n",
    "    data =  data.map(lambda x: remove_URL3(x))\n",
    "    data =  data.map(lambda x: remove_symbol(x))\n",
    "    data =  data.map(lambda x: remove_symbol2(x))\n",
    "    data =  data.map(lambda x: remove_amp(x))\n",
    "    data =  data.map(lambda x: remove_newlines_tabs(x))\n",
    "    data =  data.map(lambda x: strip_html_tags(x))\n",
    "    data =  data.map(lambda x: remove_whitespace(x))\n",
    "    data =  data.map(lambda x: accented_characters_removal(x))\n",
    "    data =  data.map(lambda x: lower_casing_text(x))\n",
    "    data =  data.map(lambda x: reducing_incorrect_character_repetition(x))\n",
    "    data =  data.map(lambda x: expand_contractions(x))\n",
    "    data =  data.map(lambda x: removing_special_characters(x))\n",
    "#     data =  data.map(lambda x: removing_stopwords(x))\n",
    "    \n",
    "    punctuations = '''\\r\\n!()-[]{};:'\"\\, <>—./?@#$%^&*_~'''\n",
    "\n",
    "    for character in data:\n",
    "        if character in punctuations:\n",
    "            data = data.replace(character, ' ')\n",
    "\n",
    "    # Instantiate PorterStemmer.\n",
    "    p_stemmer = PorterStemmer()\n",
    "    # Lemmatize tokens.\n",
    "    data = data.map(lambda x: p_stemmer.stem(x))\n",
    "    return data"
   ]
  },
  {
   "attachments": {},
   "cell_type": "markdown",
   "id": "1a7100d9",
   "metadata": {},
   "source": [
    "### 2.1.1 Create review_df"
   ]
  },
  {
   "cell_type": "code",
   "execution_count": 10,
   "id": "2345a77a",
   "metadata": {},
   "outputs": [],
   "source": [
    "# review = pd.read_csv('review_clean.csv')"
   ]
  },
  {
   "cell_type": "code",
   "execution_count": 82,
   "id": "d2f7b353",
   "metadata": {},
   "outputs": [],
   "source": [
    "# create review df to store basic info of review df\n",
    "# unbalance df is use to compare model with upsample and SMOTE\n",
    "review_df = business_rest_or_food_only[['business_id']]\n",
    "review_df_unbalanced = business_rest_or_food_only[['business_id']]"
   ]
  },
  {
   "cell_type": "code",
   "execution_count": 83,
   "id": "f5adb6d9",
   "metadata": {},
   "outputs": [],
   "source": [
    "review_df = pd.merge(review_df, review, how = \"left\", on =\"business_id\")\n",
    "review_df_unbalanced = pd.merge(review_df_unbalanced, review, how = \"left\", on =\"business_id\")"
   ]
  },
  {
   "cell_type": "code",
   "execution_count": 84,
   "id": "cf7e2b5c",
   "metadata": {},
   "outputs": [
    {
     "data": {
      "text/html": [
       "<div>\n",
       "<style scoped>\n",
       "    .dataframe tbody tr th:only-of-type {\n",
       "        vertical-align: middle;\n",
       "    }\n",
       "\n",
       "    .dataframe tbody tr th {\n",
       "        vertical-align: top;\n",
       "    }\n",
       "\n",
       "    .dataframe thead th {\n",
       "        text-align: right;\n",
       "    }\n",
       "</style>\n",
       "<table border=\"1\" class=\"dataframe\">\n",
       "  <thead>\n",
       "    <tr style=\"text-align: right;\">\n",
       "      <th></th>\n",
       "      <th>business_id</th>\n",
       "      <th>review_id</th>\n",
       "      <th>user_id</th>\n",
       "      <th>stars</th>\n",
       "      <th>useful</th>\n",
       "      <th>text</th>\n",
       "    </tr>\n",
       "  </thead>\n",
       "  <tbody>\n",
       "    <tr>\n",
       "      <th>0</th>\n",
       "      <td>MTSW4McQd7CbVtyjqoe9mw</td>\n",
       "      <td>BXQcBN0iAi1lAUxibGLFzA</td>\n",
       "      <td>6_SpY41LIHZuIaiDs5FMKA</td>\n",
       "      <td>4.0</td>\n",
       "      <td>0.0</td>\n",
       "      <td>This is nice little Chinese bakery in the hear...</td>\n",
       "    </tr>\n",
       "  </tbody>\n",
       "</table>\n",
       "</div>"
      ],
      "text/plain": [
       "              business_id               review_id                 user_id  \\\n",
       "0  MTSW4McQd7CbVtyjqoe9mw  BXQcBN0iAi1lAUxibGLFzA  6_SpY41LIHZuIaiDs5FMKA   \n",
       "\n",
       "   stars  useful                                               text  \n",
       "0    4.0     0.0  This is nice little Chinese bakery in the hear...  "
      ]
     },
     "execution_count": 84,
     "metadata": {},
     "output_type": "execute_result"
    }
   ],
   "source": [
    "review_df.head(1)"
   ]
  },
  {
   "cell_type": "code",
   "execution_count": 85,
   "id": "f43940a2",
   "metadata": {},
   "outputs": [],
   "source": [
    "#declare new column that contain filter text column data\n",
    "review_df_unbalanced['text_fix'] = review_df_unbalanced['text']\n",
    "review_df_unbalanced['text_fix'] = review_df_unbalanced['text_fix'].astype(str)\n",
    "\n",
    "#filter selftex data into that new column\n",
    "review_df_unbalanced['text_fix'] =  text_preprocessing(review_df_unbalanced['text_fix'])\n",
    "\n",
    "#Change datatype of filtered data as string\n",
    "review_df_unbalanced['text_fix']  = review_df_unbalanced['text_fix'].astype(str)"
   ]
  },
  {
   "cell_type": "code",
   "execution_count": 86,
   "id": "742479bd",
   "metadata": {},
   "outputs": [],
   "source": [
    "#declare new column that contain filter text column data\n",
    "review_df['text_fix'] = review_df['text']\n",
    "review_df['text_fix'] = review_df['text_fix'].astype(str)\n",
    "\n",
    "#filter selftex data into that new column\n",
    "review_df['text_fix'] =  text_preprocessing(review_df['text_fix'])\n",
    "\n",
    "#Change datatype of filtered data as string\n",
    "review_df['text_fix']  = review_df['text_fix'].astype(str)"
   ]
  },
  {
   "cell_type": "code",
   "execution_count": 87,
   "id": "5753e3ed",
   "metadata": {},
   "outputs": [
    {
     "data": {
      "text/plain": [
       "5.0    92750\n",
       "4.0    33046\n",
       "1.0    30476\n",
       "2.0    15609\n",
       "3.0    14853\n",
       "Name: stars, dtype: int64"
      ]
     },
     "execution_count": 87,
     "metadata": {},
     "output_type": "execute_result"
    }
   ],
   "source": [
    "# check if reviewer rating is unbalance\n",
    "# it is heavily unbalance\n",
    "review_df_unbalanced.stars.sort_values(ascending=False).value_counts()"
   ]
  },
  {
   "cell_type": "code",
   "execution_count": 17,
   "id": "459f5361",
   "metadata": {},
   "outputs": [],
   "source": [
    "# review_df_unbalanced.to_csv('review_df_unbalanced.csv')"
   ]
  },
  {
   "cell_type": "code",
   "execution_count": 145,
   "id": "fa6193e9",
   "metadata": {},
   "outputs": [],
   "source": [
    "# review_df.to_csv('review_df.csv',index=False)"
   ]
  },
  {
   "attachments": {},
   "cell_type": "markdown",
   "id": "5cf27043",
   "metadata": {},
   "source": [
    "## 2.2 Balance Target Variable on Review Df"
   ]
  },
  {
   "cell_type": "code",
   "execution_count": 88,
   "id": "2fda61d8",
   "metadata": {},
   "outputs": [],
   "source": [
    "#  locate maximum value from all stars value counted\n",
    "maxs = review_df.stars.value_counts().iloc[0]\n",
    "\n",
    "#locate all value according to their rank\n",
    "star_4 = maxs - review_df.stars.value_counts().iloc[1]\n",
    "star_1 = maxs - review_df.stars.value_counts().iloc[2]\n",
    "star_3 = maxs - review_df.stars.value_counts().iloc[4]\n",
    "star_2 = maxs - review_df.stars.value_counts().iloc[3]"
   ]
  },
  {
   "cell_type": "code",
   "execution_count": 89,
   "id": "eb7e0ac2",
   "metadata": {},
   "outputs": [
    {
     "name": "stdout",
     "output_type": "stream",
     "text": [
      "Number of data to resample for rating 4: 59704\n",
      "Number of data to resample for rating 3: 77897\n",
      "Number of data to resample for rating 2: 77141\n",
      "Number of data to resample for rating 1: 62274\n"
     ]
    }
   ],
   "source": [
    "print(f'Number of data to resample for rating 4: {star_4}')\n",
    "print(f'Number of data to resample for rating 3: {star_3}')\n",
    "print(f'Number of data to resample for rating 2: {star_2}')\n",
    "print(f'Number of data to resample for rating 1: {star_1}')"
   ]
  },
  {
   "cell_type": "code",
   "execution_count": 93,
   "id": "8dce5606",
   "metadata": {},
   "outputs": [],
   "source": [
    "#  create dataframe for different boosting/balancing data technique\n",
    "review_df_sample = review_df\n",
    "review_df_smote = review_df"
   ]
  },
  {
   "attachments": {},
   "cell_type": "markdown",
   "id": "4cc9d26e",
   "metadata": {},
   "source": [
    "# 3. Create df_merge"
   ]
  },
  {
   "cell_type": "code",
   "execution_count": 94,
   "id": "2ee555d1",
   "metadata": {
    "scrolled": true
   },
   "outputs": [],
   "source": [
    "# combine business attribute with cleaned text,reviewer's stars\n",
    "df_merge = pd.merge(refer_attribute, review_df, how = \"left\", on =\"business_id\")"
   ]
  },
  {
   "cell_type": "code",
   "execution_count": 95,
   "id": "c4eae8bf",
   "metadata": {},
   "outputs": [
    {
     "data": {
      "text/html": [
       "<div>\n",
       "<style scoped>\n",
       "    .dataframe tbody tr th:only-of-type {\n",
       "        vertical-align: middle;\n",
       "    }\n",
       "\n",
       "    .dataframe tbody tr th {\n",
       "        vertical-align: top;\n",
       "    }\n",
       "\n",
       "    .dataframe thead th {\n",
       "        text-align: right;\n",
       "    }\n",
       "</style>\n",
       "<table border=\"1\" class=\"dataframe\">\n",
       "  <thead>\n",
       "    <tr style=\"text-align: right;\">\n",
       "      <th></th>\n",
       "      <th>business_id</th>\n",
       "      <th>garage</th>\n",
       "      <th>street</th>\n",
       "      <th>validated</th>\n",
       "      <th>lot</th>\n",
       "      <th>valet</th>\n",
       "      <th>Alcohol</th>\n",
       "      <th>rest_Attire</th>\n",
       "      <th>romantic</th>\n",
       "      <th>intimate</th>\n",
       "      <th>...</th>\n",
       "      <th>AgesAllowed_u'allages'</th>\n",
       "      <th>RestaurantsCounterService_True</th>\n",
       "      <th>AcceptsInsurance_False</th>\n",
       "      <th>AcceptsInsurance_True</th>\n",
       "      <th>review_id</th>\n",
       "      <th>user_id</th>\n",
       "      <th>stars</th>\n",
       "      <th>useful</th>\n",
       "      <th>text</th>\n",
       "      <th>text_fix</th>\n",
       "    </tr>\n",
       "  </thead>\n",
       "  <tbody>\n",
       "    <tr>\n",
       "      <th>0</th>\n",
       "      <td>MTSW4McQd7CbVtyjqoe9mw</td>\n",
       "      <td>False</td>\n",
       "      <td>True</td>\n",
       "      <td>False</td>\n",
       "      <td>False</td>\n",
       "      <td>False</td>\n",
       "      <td>none</td>\n",
       "      <td>none</td>\n",
       "      <td>none</td>\n",
       "      <td>none</td>\n",
       "      <td>...</td>\n",
       "      <td>0</td>\n",
       "      <td>0</td>\n",
       "      <td>0</td>\n",
       "      <td>0</td>\n",
       "      <td>BXQcBN0iAi1lAUxibGLFzA</td>\n",
       "      <td>6_SpY41LIHZuIaiDs5FMKA</td>\n",
       "      <td>4.0</td>\n",
       "      <td>0.0</td>\n",
       "      <td>This is nice little Chinese bakery in the hear...</td>\n",
       "      <td>this is nice little chinese bakery in the hear...</td>\n",
       "    </tr>\n",
       "  </tbody>\n",
       "</table>\n",
       "<p>1 rows × 124 columns</p>\n",
       "</div>"
      ],
      "text/plain": [
       "              business_id garage street validated    lot  valet Alcohol  \\\n",
       "0  MTSW4McQd7CbVtyjqoe9mw  False   True     False  False  False    none   \n",
       "\n",
       "  rest_Attire romantic intimate  ... AgesAllowed_u'allages'  \\\n",
       "0        none     none     none  ...                      0   \n",
       "\n",
       "  RestaurantsCounterService_True AcceptsInsurance_False AcceptsInsurance_True  \\\n",
       "0                              0                      0                     0   \n",
       "\n",
       "                review_id                 user_id stars useful  \\\n",
       "0  BXQcBN0iAi1lAUxibGLFzA  6_SpY41LIHZuIaiDs5FMKA   4.0    0.0   \n",
       "\n",
       "                                                text  \\\n",
       "0  This is nice little Chinese bakery in the hear...   \n",
       "\n",
       "                                            text_fix  \n",
       "0  this is nice little chinese bakery in the hear...  \n",
       "\n",
       "[1 rows x 124 columns]"
      ]
     },
     "execution_count": 95,
     "metadata": {},
     "output_type": "execute_result"
    }
   ],
   "source": [
    "df_merge.head(1)"
   ]
  },
  {
   "cell_type": "code",
   "execution_count": 96,
   "id": "ce0a02cd",
   "metadata": {},
   "outputs": [
    {
     "data": {
      "text/plain": [
       "(202492, 124)"
      ]
     },
     "execution_count": 96,
     "metadata": {},
     "output_type": "execute_result"
    }
   ],
   "source": [
    "df_merge.shape"
   ]
  },
  {
   "cell_type": "code",
   "execution_count": 97,
   "id": "1042d090",
   "metadata": {},
   "outputs": [
    {
     "data": {
      "text/plain": [
       "business_id        0\n",
       "garage             0\n",
       "street             0\n",
       "validated          0\n",
       "lot                0\n",
       "               ...  \n",
       "user_id        15758\n",
       "stars          15758\n",
       "useful         15758\n",
       "text           15758\n",
       "text_fix           0\n",
       "Length: 124, dtype: int64"
      ]
     },
     "execution_count": 97,
     "metadata": {},
     "output_type": "execute_result"
    }
   ],
   "source": [
    "# check for null values\n",
    "df_merge.isna().sum()"
   ]
  },
  {
   "cell_type": "code",
   "execution_count": 98,
   "id": "7447f999",
   "metadata": {},
   "outputs": [],
   "source": [
    "# remove null values\n",
    "df_merge.dropna(inplace=True)"
   ]
  },
  {
   "cell_type": "code",
   "execution_count": 146,
   "id": "f992b88a",
   "metadata": {},
   "outputs": [],
   "source": [
    "# df_merge.to_csv('df_merge.csv',index=False)"
   ]
  },
  {
   "cell_type": "code",
   "execution_count": 99,
   "id": "f4326afc",
   "metadata": {},
   "outputs": [],
   "source": [
    "# create backup for merge dataframe\n",
    "df_merge_backup = df_merge\n",
    "df = df_merge"
   ]
  },
  {
   "attachments": {},
   "cell_type": "markdown",
   "id": "e430fd9a",
   "metadata": {},
   "source": [
    "## 3.1 Create df & to_train"
   ]
  },
  {
   "cell_type": "code",
   "execution_count": 100,
   "id": "c9e38c57",
   "metadata": {},
   "outputs": [],
   "source": [
    "# only keep cleaned text \n",
    "df.drop(columns=['text'],inplace=True)"
   ]
  },
  {
   "cell_type": "code",
   "execution_count": 101,
   "id": "0462fb77",
   "metadata": {},
   "outputs": [],
   "source": [
    "#to_train df is used for model training\n",
    "to_train = df.drop(columns = ['business_id','review_id', 'user_id'])"
   ]
  },
  {
   "cell_type": "code",
   "execution_count": 103,
   "id": "08dea54e",
   "metadata": {},
   "outputs": [],
   "source": [
    "#drop columns with zero values\n",
    "column_to_drop_last = ['GoodForKids_None','RestaurantsTableService_None',\n",
    "                      'WheelchairAccessible_None','DogsAllowed_None',\n",
    "                      'Open24Hours_True',\"AgesAllowed_u'21plus'\",\n",
    "                      'AcceptsInsurance_False','AcceptsInsurance_True',\n",
    "                      'RestaurantsGoodForGroups_None','text_fix']\n",
    "to_train = to_train.drop(columns = column_to_drop_last)"
   ]
  },
  {
   "cell_type": "code",
   "execution_count": 104,
   "id": "f793a410",
   "metadata": {},
   "outputs": [],
   "source": [
    "#  need to change this columns value to ease label encoding process\n",
    "# change none to zero\n",
    "column_change_none_to_zero = ['monday','tuesday','wednesday','thursday',\n",
    "                              'friday','saturday','sunday','dairy-free',\n",
    "                             'gluten-free','vegan','kosher','halal',\n",
    "                             'soy-free','vegetarian']\n",
    "row_change_zero_to_none = ['Alcohol','rest_Attire','noise_level','smoking',\n",
    "                          'Wifi','ByOB_Corkage']"
   ]
  },
  {
   "cell_type": "code",
   "execution_count": 105,
   "id": "f94de3dc",
   "metadata": {},
   "outputs": [],
   "source": [
    "# convert value in some rows to zero to ease labeling\n",
    "for i in column_change_none_to_zero:\n",
    "    to_train.loc[(to_train[i] == 'none'),i]= 0.0"
   ]
  },
  {
   "cell_type": "code",
   "execution_count": 106,
   "id": "a7867a97",
   "metadata": {},
   "outputs": [],
   "source": [
    "# # convert value in some rows to none to ease labeling\n",
    "for i in row_change_zero_to_none:\n",
    "    to_train.loc[(to_train[i] == 0.0),i]= 'none'"
   ]
  },
  {
   "cell_type": "code",
   "execution_count": 107,
   "id": "4f286070",
   "metadata": {},
   "outputs": [],
   "source": [
    "#convert datatype to float for continuous and category datatype\n",
    "continuous = ['useful']\n",
    "\n",
    "for i in to_train.columns:\n",
    "    if i not in continuous:\n",
    "        to_train[i] = to_train[i].astype(str)\n",
    "    if i in continuous:\n",
    "        to_train[i] = to_train[i].astype(float)"
   ]
  },
  {
   "cell_type": "code",
   "execution_count": 137,
   "id": "283ad1aa",
   "metadata": {},
   "outputs": [],
   "source": [
    "#transform category to number using label encoder\n",
    "from sklearn.preprocessing import LabelEncoder\n",
    "le = LabelEncoder()  \n",
    "continuous = ['useful']\n",
    "for i in to_train.columns:\n",
    "    if i not in continuous:\n",
    "        to_train[i] = le.fit_transform(to_train[i])"
   ]
  },
  {
   "cell_type": "code",
   "execution_count": 108,
   "id": "ba1d6283",
   "metadata": {},
   "outputs": [
    {
     "data": {
      "text/html": [
       "<div>\n",
       "<style scoped>\n",
       "    .dataframe tbody tr th:only-of-type {\n",
       "        vertical-align: middle;\n",
       "    }\n",
       "\n",
       "    .dataframe tbody tr th {\n",
       "        vertical-align: top;\n",
       "    }\n",
       "\n",
       "    .dataframe thead th {\n",
       "        text-align: right;\n",
       "    }\n",
       "</style>\n",
       "<table border=\"1\" class=\"dataframe\">\n",
       "  <thead>\n",
       "    <tr style=\"text-align: right;\">\n",
       "      <th></th>\n",
       "      <th>garage</th>\n",
       "      <th>street</th>\n",
       "      <th>validated</th>\n",
       "      <th>lot</th>\n",
       "      <th>valet</th>\n",
       "      <th>Alcohol</th>\n",
       "      <th>rest_Attire</th>\n",
       "      <th>romantic</th>\n",
       "      <th>intimate</th>\n",
       "      <th>touristy</th>\n",
       "      <th>...</th>\n",
       "      <th>CoatCheck_False</th>\n",
       "      <th>CoatCheck_True</th>\n",
       "      <th>Corkage_False</th>\n",
       "      <th>Corkage_None</th>\n",
       "      <th>Corkage_True</th>\n",
       "      <th>Open24Hours_False</th>\n",
       "      <th>AgesAllowed_u'allages'</th>\n",
       "      <th>RestaurantsCounterService_True</th>\n",
       "      <th>stars</th>\n",
       "      <th>useful</th>\n",
       "    </tr>\n",
       "  </thead>\n",
       "  <tbody>\n",
       "    <tr>\n",
       "      <th>0</th>\n",
       "      <td>False</td>\n",
       "      <td>True</td>\n",
       "      <td>False</td>\n",
       "      <td>False</td>\n",
       "      <td>False</td>\n",
       "      <td>none</td>\n",
       "      <td>none</td>\n",
       "      <td>none</td>\n",
       "      <td>none</td>\n",
       "      <td>none</td>\n",
       "      <td>...</td>\n",
       "      <td>0</td>\n",
       "      <td>0</td>\n",
       "      <td>0</td>\n",
       "      <td>0</td>\n",
       "      <td>0</td>\n",
       "      <td>0</td>\n",
       "      <td>0</td>\n",
       "      <td>0</td>\n",
       "      <td>4.0</td>\n",
       "      <td>0.0</td>\n",
       "    </tr>\n",
       "    <tr>\n",
       "      <th>1</th>\n",
       "      <td>False</td>\n",
       "      <td>True</td>\n",
       "      <td>False</td>\n",
       "      <td>False</td>\n",
       "      <td>False</td>\n",
       "      <td>none</td>\n",
       "      <td>none</td>\n",
       "      <td>none</td>\n",
       "      <td>none</td>\n",
       "      <td>none</td>\n",
       "      <td>...</td>\n",
       "      <td>0</td>\n",
       "      <td>0</td>\n",
       "      <td>0</td>\n",
       "      <td>0</td>\n",
       "      <td>0</td>\n",
       "      <td>0</td>\n",
       "      <td>0</td>\n",
       "      <td>0</td>\n",
       "      <td>4.0</td>\n",
       "      <td>3.0</td>\n",
       "    </tr>\n",
       "    <tr>\n",
       "      <th>2</th>\n",
       "      <td>False</td>\n",
       "      <td>True</td>\n",
       "      <td>False</td>\n",
       "      <td>False</td>\n",
       "      <td>False</td>\n",
       "      <td>none</td>\n",
       "      <td>none</td>\n",
       "      <td>none</td>\n",
       "      <td>none</td>\n",
       "      <td>none</td>\n",
       "      <td>...</td>\n",
       "      <td>0</td>\n",
       "      <td>0</td>\n",
       "      <td>0</td>\n",
       "      <td>0</td>\n",
       "      <td>0</td>\n",
       "      <td>0</td>\n",
       "      <td>0</td>\n",
       "      <td>0</td>\n",
       "      <td>5.0</td>\n",
       "      <td>0.0</td>\n",
       "    </tr>\n",
       "    <tr>\n",
       "      <th>3</th>\n",
       "      <td>False</td>\n",
       "      <td>True</td>\n",
       "      <td>False</td>\n",
       "      <td>False</td>\n",
       "      <td>False</td>\n",
       "      <td>none</td>\n",
       "      <td>none</td>\n",
       "      <td>none</td>\n",
       "      <td>none</td>\n",
       "      <td>none</td>\n",
       "      <td>...</td>\n",
       "      <td>0</td>\n",
       "      <td>0</td>\n",
       "      <td>0</td>\n",
       "      <td>0</td>\n",
       "      <td>0</td>\n",
       "      <td>0</td>\n",
       "      <td>0</td>\n",
       "      <td>0</td>\n",
       "      <td>5.0</td>\n",
       "      <td>5.0</td>\n",
       "    </tr>\n",
       "    <tr>\n",
       "      <th>4</th>\n",
       "      <td>False</td>\n",
       "      <td>True</td>\n",
       "      <td>False</td>\n",
       "      <td>False</td>\n",
       "      <td>False</td>\n",
       "      <td>none</td>\n",
       "      <td>none</td>\n",
       "      <td>none</td>\n",
       "      <td>none</td>\n",
       "      <td>none</td>\n",
       "      <td>...</td>\n",
       "      <td>0</td>\n",
       "      <td>0</td>\n",
       "      <td>0</td>\n",
       "      <td>0</td>\n",
       "      <td>0</td>\n",
       "      <td>0</td>\n",
       "      <td>0</td>\n",
       "      <td>0</td>\n",
       "      <td>4.0</td>\n",
       "      <td>1.0</td>\n",
       "    </tr>\n",
       "  </tbody>\n",
       "</table>\n",
       "<p>5 rows × 110 columns</p>\n",
       "</div>"
      ],
      "text/plain": [
       "  garage street validated    lot  valet Alcohol rest_Attire romantic intimate  \\\n",
       "0  False   True     False  False  False    none        none     none     none   \n",
       "1  False   True     False  False  False    none        none     none     none   \n",
       "2  False   True     False  False  False    none        none     none     none   \n",
       "3  False   True     False  False  False    none        none     none     none   \n",
       "4  False   True     False  False  False    none        none     none     none   \n",
       "\n",
       "  touristy  ... CoatCheck_False CoatCheck_True Corkage_False Corkage_None  \\\n",
       "0     none  ...               0              0             0            0   \n",
       "1     none  ...               0              0             0            0   \n",
       "2     none  ...               0              0             0            0   \n",
       "3     none  ...               0              0             0            0   \n",
       "4     none  ...               0              0             0            0   \n",
       "\n",
       "  Corkage_True Open24Hours_False AgesAllowed_u'allages'  \\\n",
       "0            0                 0                      0   \n",
       "1            0                 0                      0   \n",
       "2            0                 0                      0   \n",
       "3            0                 0                      0   \n",
       "4            0                 0                      0   \n",
       "\n",
       "  RestaurantsCounterService_True stars useful  \n",
       "0                              0   4.0    0.0  \n",
       "1                              0   4.0    3.0  \n",
       "2                              0   5.0    0.0  \n",
       "3                              0   5.0    5.0  \n",
       "4                              0   4.0    1.0  \n",
       "\n",
       "[5 rows x 110 columns]"
      ]
     },
     "execution_count": 108,
     "metadata": {},
     "output_type": "execute_result"
    }
   ],
   "source": [
    "to_train.head()"
   ]
  },
  {
   "attachments": {},
   "cell_type": "markdown",
   "id": "7a6cc007",
   "metadata": {},
   "source": [
    "### 3.1.1 Create to_train_final"
   ]
  },
  {
   "cell_type": "code",
   "execution_count": 112,
   "id": "6abc97f3",
   "metadata": {},
   "outputs": [],
   "source": [
    "to_train_final = to_train"
   ]
  },
  {
   "cell_type": "code",
   "execution_count": 113,
   "id": "4578de23",
   "metadata": {},
   "outputs": [
    {
     "data": {
      "text/html": [
       "<div>\n",
       "<style scoped>\n",
       "    .dataframe tbody tr th:only-of-type {\n",
       "        vertical-align: middle;\n",
       "    }\n",
       "\n",
       "    .dataframe tbody tr th {\n",
       "        vertical-align: top;\n",
       "    }\n",
       "\n",
       "    .dataframe thead th {\n",
       "        text-align: right;\n",
       "    }\n",
       "</style>\n",
       "<table border=\"1\" class=\"dataframe\">\n",
       "  <thead>\n",
       "    <tr style=\"text-align: right;\">\n",
       "      <th></th>\n",
       "      <th>garage</th>\n",
       "      <th>street</th>\n",
       "      <th>validated</th>\n",
       "      <th>lot</th>\n",
       "      <th>valet</th>\n",
       "      <th>Alcohol</th>\n",
       "      <th>rest_Attire</th>\n",
       "      <th>romantic</th>\n",
       "      <th>intimate</th>\n",
       "      <th>touristy</th>\n",
       "      <th>...</th>\n",
       "      <th>CoatCheck_False</th>\n",
       "      <th>CoatCheck_True</th>\n",
       "      <th>Corkage_False</th>\n",
       "      <th>Corkage_None</th>\n",
       "      <th>Corkage_True</th>\n",
       "      <th>Open24Hours_False</th>\n",
       "      <th>AgesAllowed_u'allages'</th>\n",
       "      <th>RestaurantsCounterService_True</th>\n",
       "      <th>stars</th>\n",
       "      <th>useful</th>\n",
       "    </tr>\n",
       "  </thead>\n",
       "  <tbody>\n",
       "    <tr>\n",
       "      <th>0</th>\n",
       "      <td>False</td>\n",
       "      <td>True</td>\n",
       "      <td>False</td>\n",
       "      <td>False</td>\n",
       "      <td>False</td>\n",
       "      <td>none</td>\n",
       "      <td>none</td>\n",
       "      <td>none</td>\n",
       "      <td>none</td>\n",
       "      <td>none</td>\n",
       "      <td>...</td>\n",
       "      <td>0</td>\n",
       "      <td>0</td>\n",
       "      <td>0</td>\n",
       "      <td>0</td>\n",
       "      <td>0</td>\n",
       "      <td>0</td>\n",
       "      <td>0</td>\n",
       "      <td>0</td>\n",
       "      <td>4.0</td>\n",
       "      <td>0.0</td>\n",
       "    </tr>\n",
       "  </tbody>\n",
       "</table>\n",
       "<p>1 rows × 110 columns</p>\n",
       "</div>"
      ],
      "text/plain": [
       "  garage street validated    lot  valet Alcohol rest_Attire romantic intimate  \\\n",
       "0  False   True     False  False  False    none        none     none     none   \n",
       "\n",
       "  touristy  ... CoatCheck_False CoatCheck_True Corkage_False Corkage_None  \\\n",
       "0     none  ...               0              0             0            0   \n",
       "\n",
       "  Corkage_True Open24Hours_False AgesAllowed_u'allages'  \\\n",
       "0            0                 0                      0   \n",
       "\n",
       "  RestaurantsCounterService_True stars useful  \n",
       "0                              0   4.0    0.0  \n",
       "\n",
       "[1 rows x 110 columns]"
      ]
     },
     "execution_count": 113,
     "metadata": {},
     "output_type": "execute_result"
    }
   ],
   "source": [
    "#dataframe with transform of label encoder\n",
    "to_train_final.head(1)"
   ]
  },
  {
   "cell_type": "code",
   "execution_count": 147,
   "id": "8bfd724c",
   "metadata": {},
   "outputs": [],
   "source": [
    "# to_train_final.to_csv('to_train_final.csv',index=False)"
   ]
  },
  {
   "attachments": {},
   "cell_type": "markdown",
   "id": "297c4435",
   "metadata": {},
   "source": [
    "# 4. NLP Evaluation"
   ]
  },
  {
   "cell_type": "code",
   "execution_count": 114,
   "id": "da0df5a5",
   "metadata": {},
   "outputs": [],
   "source": [
    "from sklearn.feature_extraction.text import CountVectorizer, TfidfVectorizer\n",
    "from sklearn.model_selection import train_test_split, GridSearchCV\n",
    "\n",
    "#import estimators\n",
    "from sklearn.naive_bayes import MultinomialNB\n",
    "from sklearn.linear_model import LogisticRegression\n",
    "from sklearn.neighbors import KNeighborsClassifier\n",
    "\n",
    "#Import evaluation metrics\n",
    "from sklearn.metrics import confusion_matrix, plot_confusion_matrix\n",
    "from scipy import stats \n",
    "from scipy.stats import kurtosis,skew"
   ]
  },
  {
   "cell_type": "code",
   "execution_count": 116,
   "id": "0c4ba591",
   "metadata": {},
   "outputs": [
    {
     "data": {
      "text/html": [
       "<div>\n",
       "<style scoped>\n",
       "    .dataframe tbody tr th:only-of-type {\n",
       "        vertical-align: middle;\n",
       "    }\n",
       "\n",
       "    .dataframe tbody tr th {\n",
       "        vertical-align: top;\n",
       "    }\n",
       "\n",
       "    .dataframe thead th {\n",
       "        text-align: right;\n",
       "    }\n",
       "</style>\n",
       "<table border=\"1\" class=\"dataframe\">\n",
       "  <thead>\n",
       "    <tr style=\"text-align: right;\">\n",
       "      <th></th>\n",
       "      <th>text_fix</th>\n",
       "    </tr>\n",
       "  </thead>\n",
       "  <tbody>\n",
       "    <tr>\n",
       "      <th>0</th>\n",
       "      <td>this is nice little chinese bakery in the hear...</td>\n",
       "    </tr>\n",
       "    <tr>\n",
       "      <th>1</th>\n",
       "      <td>this is the bakery i usually go to in chinatow...</td>\n",
       "    </tr>\n",
       "    <tr>\n",
       "      <th>2</th>\n",
       "      <td>a delightful find in chinatown! very clean, an...</td>\n",
       "    </tr>\n",
       "    <tr>\n",
       "      <th>3</th>\n",
       "      <td>i ordered a graduation cake for my niece and i...</td>\n",
       "    </tr>\n",
       "    <tr>\n",
       "      <th>4</th>\n",
       "      <td>this is my favorite bakery in chinatown! i usu...</td>\n",
       "    </tr>\n",
       "    <tr>\n",
       "      <th>...</th>\n",
       "      <td>...</td>\n",
       "    </tr>\n",
       "    <tr>\n",
       "      <th>186958</th>\n",
       "      <td>ok they have good employees working at this lo...</td>\n",
       "    </tr>\n",
       "    <tr>\n",
       "      <th>186959</th>\n",
       "      <td>great food and service. fresh every time. plen...</td>\n",
       "    </tr>\n",
       "    <tr>\n",
       "      <th>186960</th>\n",
       "      <td>i started working nearby about a year ago and ...</td>\n",
       "    </tr>\n",
       "    <tr>\n",
       "      <th>186961</th>\n",
       "      <td>excellent tasting food. prices are very fair a...</td>\n",
       "    </tr>\n",
       "    <tr>\n",
       "      <th>186962</th>\n",
       "      <td>all those who are saying this food is good are...</td>\n",
       "    </tr>\n",
       "  </tbody>\n",
       "</table>\n",
       "<p>186734 rows × 1 columns</p>\n",
       "</div>"
      ],
      "text/plain": [
       "                                                 text_fix\n",
       "0       this is nice little chinese bakery in the hear...\n",
       "1       this is the bakery i usually go to in chinatow...\n",
       "2       a delightful find in chinatown! very clean, an...\n",
       "3       i ordered a graduation cake for my niece and i...\n",
       "4       this is my favorite bakery in chinatown! i usu...\n",
       "...                                                   ...\n",
       "186958  ok they have good employees working at this lo...\n",
       "186959  great food and service. fresh every time. plen...\n",
       "186960  i started working nearby about a year ago and ...\n",
       "186961  excellent tasting food. prices are very fair a...\n",
       "186962  all those who are saying this food is good are...\n",
       "\n",
       "[186734 rows x 1 columns]"
      ]
     },
     "execution_count": 116,
     "metadata": {},
     "output_type": "execute_result"
    }
   ],
   "source": [
    "df[['text_fix']]"
   ]
  },
  {
   "cell_type": "code",
   "execution_count": 118,
   "id": "0490d423",
   "metadata": {},
   "outputs": [],
   "source": [
    "X = df['text_fix'].astype(str)\n",
    "y = df['stars']"
   ]
  },
  {
   "cell_type": "code",
   "execution_count": 148,
   "id": "43fc87fb",
   "metadata": {},
   "outputs": [
    {
     "data": {
      "text/plain": [
       "5.0    92750\n",
       "4.0    33046\n",
       "1.0    30476\n",
       "2.0    15609\n",
       "3.0    14853\n",
       "Name: stars, dtype: int64"
      ]
     },
     "execution_count": 148,
     "metadata": {},
     "output_type": "execute_result"
    }
   ],
   "source": [
    "y.value_counts()"
   ]
  },
  {
   "attachments": {},
   "cell_type": "markdown",
   "id": "2c5deb18",
   "metadata": {},
   "source": [
    "+ target variable contain unbalance star distribution. \n",
    "+ Need to do boosting/resampling technique as to reduce possibility of overfit problem in model training later."
   ]
  },
  {
   "cell_type": "code",
   "execution_count": 119,
   "id": "4a4075d3",
   "metadata": {},
   "outputs": [],
   "source": [
    "#Split train and test data by ratio 70:30\n",
    "X_train, X_test, y_train, y_test = train_test_split(X,\n",
    "                                                    y,\n",
    "                                                    random_state=42)"
   ]
  },
  {
   "cell_type": "code",
   "execution_count": 120,
   "id": "732d59c9",
   "metadata": {},
   "outputs": [],
   "source": [
    "# Define pipeline that contain transformer and ML model \n",
    "pipe1 = Pipeline([('tvec',TfidfVectorizer()),\n",
    "                  ('nb',MultinomialNB())])\n",
    "\n",
    "pipe2 = Pipeline([('cvec', CountVectorizer()),\n",
    "                              ('nb', MultinomialNB())])"
   ]
  },
  {
   "cell_type": "code",
   "execution_count": 122,
   "id": "cddd79f1",
   "metadata": {},
   "outputs": [],
   "source": [
    "#Define parameter for each pipeline \n",
    "pipe_params1 = {'tvec__max_features':[2000, 3000, 4000, 5000, 10000],\n",
    "               'tvec__min_df': [2,3],\n",
    "               'tvec__max_df': [.9,.95],\n",
    "                'tvec__stop_words' : [None,'english'],\n",
    "               'tvec__ngram_range': [(1,1),(1,2),(2,2)]\n",
    "              }\n",
    "\n",
    "pipe_params2 = {\n",
    "    'cvec__stop_words': ['english'],\n",
    "    'cvec__max_features': [2000, 3000, 4000, 5000, 10000], #only top n words from the corpus\n",
    "    'cvec__min_df': [2, 3], # word must occur at least 2/4 from the corpus\n",
    "    'cvec__max_df': [.9,.95], #ignore words that occur \n",
    "    'cvec__ngram_range': [(1,1), (1,2), (2,2)], #1gram, 1-gram and 2-gram\n",
    "       # default is None\n",
    "}"
   ]
  },
  {
   "attachments": {},
   "cell_type": "markdown",
   "id": "0c3c5054",
   "metadata": {},
   "source": [
    "## 4.1 Tfidf Vs Cvec"
   ]
  },
  {
   "cell_type": "code",
   "execution_count": 123,
   "id": "fb172a9b",
   "metadata": {},
   "outputs": [],
   "source": [
    "# Instantiate GridSearchCV for each pipeline.\n",
    "gs1 = GridSearchCV(pipe1, \n",
    "                  param_grid = pipe_params1,\n",
    "                  cv =5) # 5-fold cross-validation.\n",
    "\n",
    "gs2 = GridSearchCV(pipe2,\n",
    "                   param_grid=pipe_params2,\n",
    "                   cv=5) "
   ]
  },
  {
   "cell_type": "code",
   "execution_count": 124,
   "id": "91b3ddf9",
   "metadata": {},
   "outputs": [
    {
     "data": {
      "text/html": [
       "<style>#sk-container-id-1 {color: black;background-color: white;}#sk-container-id-1 pre{padding: 0;}#sk-container-id-1 div.sk-toggleable {background-color: white;}#sk-container-id-1 label.sk-toggleable__label {cursor: pointer;display: block;width: 100%;margin-bottom: 0;padding: 0.3em;box-sizing: border-box;text-align: center;}#sk-container-id-1 label.sk-toggleable__label-arrow:before {content: \"▸\";float: left;margin-right: 0.25em;color: #696969;}#sk-container-id-1 label.sk-toggleable__label-arrow:hover:before {color: black;}#sk-container-id-1 div.sk-estimator:hover label.sk-toggleable__label-arrow:before {color: black;}#sk-container-id-1 div.sk-toggleable__content {max-height: 0;max-width: 0;overflow: hidden;text-align: left;background-color: #f0f8ff;}#sk-container-id-1 div.sk-toggleable__content pre {margin: 0.2em;color: black;border-radius: 0.25em;background-color: #f0f8ff;}#sk-container-id-1 input.sk-toggleable__control:checked~div.sk-toggleable__content {max-height: 200px;max-width: 100%;overflow: auto;}#sk-container-id-1 input.sk-toggleable__control:checked~label.sk-toggleable__label-arrow:before {content: \"▾\";}#sk-container-id-1 div.sk-estimator input.sk-toggleable__control:checked~label.sk-toggleable__label {background-color: #d4ebff;}#sk-container-id-1 div.sk-label input.sk-toggleable__control:checked~label.sk-toggleable__label {background-color: #d4ebff;}#sk-container-id-1 input.sk-hidden--visually {border: 0;clip: rect(1px 1px 1px 1px);clip: rect(1px, 1px, 1px, 1px);height: 1px;margin: -1px;overflow: hidden;padding: 0;position: absolute;width: 1px;}#sk-container-id-1 div.sk-estimator {font-family: monospace;background-color: #f0f8ff;border: 1px dotted black;border-radius: 0.25em;box-sizing: border-box;margin-bottom: 0.5em;}#sk-container-id-1 div.sk-estimator:hover {background-color: #d4ebff;}#sk-container-id-1 div.sk-parallel-item::after {content: \"\";width: 100%;border-bottom: 1px solid gray;flex-grow: 1;}#sk-container-id-1 div.sk-label:hover label.sk-toggleable__label {background-color: #d4ebff;}#sk-container-id-1 div.sk-serial::before {content: \"\";position: absolute;border-left: 1px solid gray;box-sizing: border-box;top: 0;bottom: 0;left: 50%;z-index: 0;}#sk-container-id-1 div.sk-serial {display: flex;flex-direction: column;align-items: center;background-color: white;padding-right: 0.2em;padding-left: 0.2em;position: relative;}#sk-container-id-1 div.sk-item {position: relative;z-index: 1;}#sk-container-id-1 div.sk-parallel {display: flex;align-items: stretch;justify-content: center;background-color: white;position: relative;}#sk-container-id-1 div.sk-item::before, #sk-container-id-1 div.sk-parallel-item::before {content: \"\";position: absolute;border-left: 1px solid gray;box-sizing: border-box;top: 0;bottom: 0;left: 50%;z-index: -1;}#sk-container-id-1 div.sk-parallel-item {display: flex;flex-direction: column;z-index: 1;position: relative;background-color: white;}#sk-container-id-1 div.sk-parallel-item:first-child::after {align-self: flex-end;width: 50%;}#sk-container-id-1 div.sk-parallel-item:last-child::after {align-self: flex-start;width: 50%;}#sk-container-id-1 div.sk-parallel-item:only-child::after {width: 0;}#sk-container-id-1 div.sk-dashed-wrapped {border: 1px dashed gray;margin: 0 0.4em 0.5em 0.4em;box-sizing: border-box;padding-bottom: 0.4em;background-color: white;}#sk-container-id-1 div.sk-label label {font-family: monospace;font-weight: bold;display: inline-block;line-height: 1.2em;}#sk-container-id-1 div.sk-label-container {text-align: center;}#sk-container-id-1 div.sk-container {/* jupyter's `normalize.less` sets `[hidden] { display: none; }` but bootstrap.min.css set `[hidden] { display: none !important; }` so we also need the `!important` here to be able to override the default hidden behavior on the sphinx rendered scikit-learn.org. See: https://github.com/scikit-learn/scikit-learn/issues/21755 */display: inline-block !important;position: relative;}#sk-container-id-1 div.sk-text-repr-fallback {display: none;}</style><div id=\"sk-container-id-1\" class=\"sk-top-container\"><div class=\"sk-text-repr-fallback\"><pre>GridSearchCV(cv=5,\n",
       "             estimator=Pipeline(steps=[(&#x27;tvec&#x27;, TfidfVectorizer()),\n",
       "                                       (&#x27;nb&#x27;, MultinomialNB())]),\n",
       "             param_grid={&#x27;tvec__max_df&#x27;: [0.9, 0.95],\n",
       "                         &#x27;tvec__max_features&#x27;: [2000, 3000, 4000, 5000, 10000],\n",
       "                         &#x27;tvec__min_df&#x27;: [2, 3],\n",
       "                         &#x27;tvec__ngram_range&#x27;: [(1, 1), (1, 2), (2, 2)],\n",
       "                         &#x27;tvec__stop_words&#x27;: [None, &#x27;english&#x27;]})</pre><b>In a Jupyter environment, please rerun this cell to show the HTML representation or trust the notebook. <br />On GitHub, the HTML representation is unable to render, please try loading this page with nbviewer.org.</b></div><div class=\"sk-container\" hidden><div class=\"sk-item sk-dashed-wrapped\"><div class=\"sk-label-container\"><div class=\"sk-label sk-toggleable\"><input class=\"sk-toggleable__control sk-hidden--visually\" id=\"sk-estimator-id-1\" type=\"checkbox\" ><label for=\"sk-estimator-id-1\" class=\"sk-toggleable__label sk-toggleable__label-arrow\">GridSearchCV</label><div class=\"sk-toggleable__content\"><pre>GridSearchCV(cv=5,\n",
       "             estimator=Pipeline(steps=[(&#x27;tvec&#x27;, TfidfVectorizer()),\n",
       "                                       (&#x27;nb&#x27;, MultinomialNB())]),\n",
       "             param_grid={&#x27;tvec__max_df&#x27;: [0.9, 0.95],\n",
       "                         &#x27;tvec__max_features&#x27;: [2000, 3000, 4000, 5000, 10000],\n",
       "                         &#x27;tvec__min_df&#x27;: [2, 3],\n",
       "                         &#x27;tvec__ngram_range&#x27;: [(1, 1), (1, 2), (2, 2)],\n",
       "                         &#x27;tvec__stop_words&#x27;: [None, &#x27;english&#x27;]})</pre></div></div></div><div class=\"sk-parallel\"><div class=\"sk-parallel-item\"><div class=\"sk-item\"><div class=\"sk-label-container\"><div class=\"sk-label sk-toggleable\"><input class=\"sk-toggleable__control sk-hidden--visually\" id=\"sk-estimator-id-2\" type=\"checkbox\" ><label for=\"sk-estimator-id-2\" class=\"sk-toggleable__label sk-toggleable__label-arrow\">estimator: Pipeline</label><div class=\"sk-toggleable__content\"><pre>Pipeline(steps=[(&#x27;tvec&#x27;, TfidfVectorizer()), (&#x27;nb&#x27;, MultinomialNB())])</pre></div></div></div><div class=\"sk-serial\"><div class=\"sk-item\"><div class=\"sk-serial\"><div class=\"sk-item\"><div class=\"sk-estimator sk-toggleable\"><input class=\"sk-toggleable__control sk-hidden--visually\" id=\"sk-estimator-id-3\" type=\"checkbox\" ><label for=\"sk-estimator-id-3\" class=\"sk-toggleable__label sk-toggleable__label-arrow\">TfidfVectorizer</label><div class=\"sk-toggleable__content\"><pre>TfidfVectorizer()</pre></div></div></div><div class=\"sk-item\"><div class=\"sk-estimator sk-toggleable\"><input class=\"sk-toggleable__control sk-hidden--visually\" id=\"sk-estimator-id-4\" type=\"checkbox\" ><label for=\"sk-estimator-id-4\" class=\"sk-toggleable__label sk-toggleable__label-arrow\">MultinomialNB</label><div class=\"sk-toggleable__content\"><pre>MultinomialNB()</pre></div></div></div></div></div></div></div></div></div></div></div></div>"
      ],
      "text/plain": [
       "GridSearchCV(cv=5,\n",
       "             estimator=Pipeline(steps=[('tvec', TfidfVectorizer()),\n",
       "                                       ('nb', MultinomialNB())]),\n",
       "             param_grid={'tvec__max_df': [0.9, 0.95],\n",
       "                         'tvec__max_features': [2000, 3000, 4000, 5000, 10000],\n",
       "                         'tvec__min_df': [2, 3],\n",
       "                         'tvec__ngram_range': [(1, 1), (1, 2), (2, 2)],\n",
       "                         'tvec__stop_words': [None, 'english']})"
      ]
     },
     "execution_count": 124,
     "metadata": {},
     "output_type": "execute_result"
    }
   ],
   "source": [
    "gs1.fit(X_train,y_train)"
   ]
  },
  {
   "cell_type": "code",
   "execution_count": 125,
   "id": "d9b8d9d2",
   "metadata": {},
   "outputs": [
    {
     "data": {
      "text/plain": [
       "{'tvec__max_df': 0.9,\n",
       " 'tvec__max_features': 10000,\n",
       " 'tvec__min_df': 2,\n",
       " 'tvec__ngram_range': (1, 2),\n",
       " 'tvec__stop_words': None}"
      ]
     },
     "execution_count": 125,
     "metadata": {},
     "output_type": "execute_result"
    }
   ],
   "source": [
    "gs1.best_params_"
   ]
  },
  {
   "cell_type": "code",
   "execution_count": 126,
   "id": "9ca0129c",
   "metadata": {},
   "outputs": [
    {
     "data": {
      "text/html": [
       "<style>#sk-container-id-2 {color: black;background-color: white;}#sk-container-id-2 pre{padding: 0;}#sk-container-id-2 div.sk-toggleable {background-color: white;}#sk-container-id-2 label.sk-toggleable__label {cursor: pointer;display: block;width: 100%;margin-bottom: 0;padding: 0.3em;box-sizing: border-box;text-align: center;}#sk-container-id-2 label.sk-toggleable__label-arrow:before {content: \"▸\";float: left;margin-right: 0.25em;color: #696969;}#sk-container-id-2 label.sk-toggleable__label-arrow:hover:before {color: black;}#sk-container-id-2 div.sk-estimator:hover label.sk-toggleable__label-arrow:before {color: black;}#sk-container-id-2 div.sk-toggleable__content {max-height: 0;max-width: 0;overflow: hidden;text-align: left;background-color: #f0f8ff;}#sk-container-id-2 div.sk-toggleable__content pre {margin: 0.2em;color: black;border-radius: 0.25em;background-color: #f0f8ff;}#sk-container-id-2 input.sk-toggleable__control:checked~div.sk-toggleable__content {max-height: 200px;max-width: 100%;overflow: auto;}#sk-container-id-2 input.sk-toggleable__control:checked~label.sk-toggleable__label-arrow:before {content: \"▾\";}#sk-container-id-2 div.sk-estimator input.sk-toggleable__control:checked~label.sk-toggleable__label {background-color: #d4ebff;}#sk-container-id-2 div.sk-label input.sk-toggleable__control:checked~label.sk-toggleable__label {background-color: #d4ebff;}#sk-container-id-2 input.sk-hidden--visually {border: 0;clip: rect(1px 1px 1px 1px);clip: rect(1px, 1px, 1px, 1px);height: 1px;margin: -1px;overflow: hidden;padding: 0;position: absolute;width: 1px;}#sk-container-id-2 div.sk-estimator {font-family: monospace;background-color: #f0f8ff;border: 1px dotted black;border-radius: 0.25em;box-sizing: border-box;margin-bottom: 0.5em;}#sk-container-id-2 div.sk-estimator:hover {background-color: #d4ebff;}#sk-container-id-2 div.sk-parallel-item::after {content: \"\";width: 100%;border-bottom: 1px solid gray;flex-grow: 1;}#sk-container-id-2 div.sk-label:hover label.sk-toggleable__label {background-color: #d4ebff;}#sk-container-id-2 div.sk-serial::before {content: \"\";position: absolute;border-left: 1px solid gray;box-sizing: border-box;top: 0;bottom: 0;left: 50%;z-index: 0;}#sk-container-id-2 div.sk-serial {display: flex;flex-direction: column;align-items: center;background-color: white;padding-right: 0.2em;padding-left: 0.2em;position: relative;}#sk-container-id-2 div.sk-item {position: relative;z-index: 1;}#sk-container-id-2 div.sk-parallel {display: flex;align-items: stretch;justify-content: center;background-color: white;position: relative;}#sk-container-id-2 div.sk-item::before, #sk-container-id-2 div.sk-parallel-item::before {content: \"\";position: absolute;border-left: 1px solid gray;box-sizing: border-box;top: 0;bottom: 0;left: 50%;z-index: -1;}#sk-container-id-2 div.sk-parallel-item {display: flex;flex-direction: column;z-index: 1;position: relative;background-color: white;}#sk-container-id-2 div.sk-parallel-item:first-child::after {align-self: flex-end;width: 50%;}#sk-container-id-2 div.sk-parallel-item:last-child::after {align-self: flex-start;width: 50%;}#sk-container-id-2 div.sk-parallel-item:only-child::after {width: 0;}#sk-container-id-2 div.sk-dashed-wrapped {border: 1px dashed gray;margin: 0 0.4em 0.5em 0.4em;box-sizing: border-box;padding-bottom: 0.4em;background-color: white;}#sk-container-id-2 div.sk-label label {font-family: monospace;font-weight: bold;display: inline-block;line-height: 1.2em;}#sk-container-id-2 div.sk-label-container {text-align: center;}#sk-container-id-2 div.sk-container {/* jupyter's `normalize.less` sets `[hidden] { display: none; }` but bootstrap.min.css set `[hidden] { display: none !important; }` so we also need the `!important` here to be able to override the default hidden behavior on the sphinx rendered scikit-learn.org. See: https://github.com/scikit-learn/scikit-learn/issues/21755 */display: inline-block !important;position: relative;}#sk-container-id-2 div.sk-text-repr-fallback {display: none;}</style><div id=\"sk-container-id-2\" class=\"sk-top-container\"><div class=\"sk-text-repr-fallback\"><pre>Pipeline(steps=[(&#x27;tvec&#x27;,\n",
       "                 TfidfVectorizer(max_df=0.9, max_features=10000, min_df=2,\n",
       "                                 ngram_range=(1, 2))),\n",
       "                (&#x27;nb&#x27;, MultinomialNB())])</pre><b>In a Jupyter environment, please rerun this cell to show the HTML representation or trust the notebook. <br />On GitHub, the HTML representation is unable to render, please try loading this page with nbviewer.org.</b></div><div class=\"sk-container\" hidden><div class=\"sk-item sk-dashed-wrapped\"><div class=\"sk-label-container\"><div class=\"sk-label sk-toggleable\"><input class=\"sk-toggleable__control sk-hidden--visually\" id=\"sk-estimator-id-5\" type=\"checkbox\" ><label for=\"sk-estimator-id-5\" class=\"sk-toggleable__label sk-toggleable__label-arrow\">Pipeline</label><div class=\"sk-toggleable__content\"><pre>Pipeline(steps=[(&#x27;tvec&#x27;,\n",
       "                 TfidfVectorizer(max_df=0.9, max_features=10000, min_df=2,\n",
       "                                 ngram_range=(1, 2))),\n",
       "                (&#x27;nb&#x27;, MultinomialNB())])</pre></div></div></div><div class=\"sk-serial\"><div class=\"sk-item\"><div class=\"sk-estimator sk-toggleable\"><input class=\"sk-toggleable__control sk-hidden--visually\" id=\"sk-estimator-id-6\" type=\"checkbox\" ><label for=\"sk-estimator-id-6\" class=\"sk-toggleable__label sk-toggleable__label-arrow\">TfidfVectorizer</label><div class=\"sk-toggleable__content\"><pre>TfidfVectorizer(max_df=0.9, max_features=10000, min_df=2, ngram_range=(1, 2))</pre></div></div></div><div class=\"sk-item\"><div class=\"sk-estimator sk-toggleable\"><input class=\"sk-toggleable__control sk-hidden--visually\" id=\"sk-estimator-id-7\" type=\"checkbox\" ><label for=\"sk-estimator-id-7\" class=\"sk-toggleable__label sk-toggleable__label-arrow\">MultinomialNB</label><div class=\"sk-toggleable__content\"><pre>MultinomialNB()</pre></div></div></div></div></div></div></div>"
      ],
      "text/plain": [
       "Pipeline(steps=[('tvec',\n",
       "                 TfidfVectorizer(max_df=0.9, max_features=10000, min_df=2,\n",
       "                                 ngram_range=(1, 2))),\n",
       "                ('nb', MultinomialNB())])"
      ]
     },
     "execution_count": 126,
     "metadata": {},
     "output_type": "execute_result"
    }
   ],
   "source": [
    "gs1.best_estimator_"
   ]
  },
  {
   "cell_type": "code",
   "execution_count": 127,
   "id": "079ec1ac",
   "metadata": {},
   "outputs": [
    {
     "data": {
      "text/plain": [
       "0.6894751874330596"
      ]
     },
     "execution_count": 127,
     "metadata": {},
     "output_type": "execute_result"
    }
   ],
   "source": [
    "gs1.best_score_"
   ]
  },
  {
   "cell_type": "code",
   "execution_count": 128,
   "id": "edbe4214",
   "metadata": {},
   "outputs": [
    {
     "name": "stdout",
     "output_type": "stream",
     "text": [
      "0.7041842199214566 \n",
      "\n",
      "0.6901079599006084\n"
     ]
    }
   ],
   "source": [
    "# Score model on training set.\n",
    "print(gs1.score(X_train,y_train),'\\n')\n",
    "# Score model on testing set.\n",
    "print(gs1.score(X_test,y_test))"
   ]
  },
  {
   "cell_type": "code",
   "execution_count": 129,
   "id": "32cb4045",
   "metadata": {},
   "outputs": [
    {
     "data": {
      "text/html": [
       "<style>#sk-container-id-3 {color: black;background-color: white;}#sk-container-id-3 pre{padding: 0;}#sk-container-id-3 div.sk-toggleable {background-color: white;}#sk-container-id-3 label.sk-toggleable__label {cursor: pointer;display: block;width: 100%;margin-bottom: 0;padding: 0.3em;box-sizing: border-box;text-align: center;}#sk-container-id-3 label.sk-toggleable__label-arrow:before {content: \"▸\";float: left;margin-right: 0.25em;color: #696969;}#sk-container-id-3 label.sk-toggleable__label-arrow:hover:before {color: black;}#sk-container-id-3 div.sk-estimator:hover label.sk-toggleable__label-arrow:before {color: black;}#sk-container-id-3 div.sk-toggleable__content {max-height: 0;max-width: 0;overflow: hidden;text-align: left;background-color: #f0f8ff;}#sk-container-id-3 div.sk-toggleable__content pre {margin: 0.2em;color: black;border-radius: 0.25em;background-color: #f0f8ff;}#sk-container-id-3 input.sk-toggleable__control:checked~div.sk-toggleable__content {max-height: 200px;max-width: 100%;overflow: auto;}#sk-container-id-3 input.sk-toggleable__control:checked~label.sk-toggleable__label-arrow:before {content: \"▾\";}#sk-container-id-3 div.sk-estimator input.sk-toggleable__control:checked~label.sk-toggleable__label {background-color: #d4ebff;}#sk-container-id-3 div.sk-label input.sk-toggleable__control:checked~label.sk-toggleable__label {background-color: #d4ebff;}#sk-container-id-3 input.sk-hidden--visually {border: 0;clip: rect(1px 1px 1px 1px);clip: rect(1px, 1px, 1px, 1px);height: 1px;margin: -1px;overflow: hidden;padding: 0;position: absolute;width: 1px;}#sk-container-id-3 div.sk-estimator {font-family: monospace;background-color: #f0f8ff;border: 1px dotted black;border-radius: 0.25em;box-sizing: border-box;margin-bottom: 0.5em;}#sk-container-id-3 div.sk-estimator:hover {background-color: #d4ebff;}#sk-container-id-3 div.sk-parallel-item::after {content: \"\";width: 100%;border-bottom: 1px solid gray;flex-grow: 1;}#sk-container-id-3 div.sk-label:hover label.sk-toggleable__label {background-color: #d4ebff;}#sk-container-id-3 div.sk-serial::before {content: \"\";position: absolute;border-left: 1px solid gray;box-sizing: border-box;top: 0;bottom: 0;left: 50%;z-index: 0;}#sk-container-id-3 div.sk-serial {display: flex;flex-direction: column;align-items: center;background-color: white;padding-right: 0.2em;padding-left: 0.2em;position: relative;}#sk-container-id-3 div.sk-item {position: relative;z-index: 1;}#sk-container-id-3 div.sk-parallel {display: flex;align-items: stretch;justify-content: center;background-color: white;position: relative;}#sk-container-id-3 div.sk-item::before, #sk-container-id-3 div.sk-parallel-item::before {content: \"\";position: absolute;border-left: 1px solid gray;box-sizing: border-box;top: 0;bottom: 0;left: 50%;z-index: -1;}#sk-container-id-3 div.sk-parallel-item {display: flex;flex-direction: column;z-index: 1;position: relative;background-color: white;}#sk-container-id-3 div.sk-parallel-item:first-child::after {align-self: flex-end;width: 50%;}#sk-container-id-3 div.sk-parallel-item:last-child::after {align-self: flex-start;width: 50%;}#sk-container-id-3 div.sk-parallel-item:only-child::after {width: 0;}#sk-container-id-3 div.sk-dashed-wrapped {border: 1px dashed gray;margin: 0 0.4em 0.5em 0.4em;box-sizing: border-box;padding-bottom: 0.4em;background-color: white;}#sk-container-id-3 div.sk-label label {font-family: monospace;font-weight: bold;display: inline-block;line-height: 1.2em;}#sk-container-id-3 div.sk-label-container {text-align: center;}#sk-container-id-3 div.sk-container {/* jupyter's `normalize.less` sets `[hidden] { display: none; }` but bootstrap.min.css set `[hidden] { display: none !important; }` so we also need the `!important` here to be able to override the default hidden behavior on the sphinx rendered scikit-learn.org. See: https://github.com/scikit-learn/scikit-learn/issues/21755 */display: inline-block !important;position: relative;}#sk-container-id-3 div.sk-text-repr-fallback {display: none;}</style><div id=\"sk-container-id-3\" class=\"sk-top-container\"><div class=\"sk-text-repr-fallback\"><pre>GridSearchCV(cv=5,\n",
       "             estimator=Pipeline(steps=[(&#x27;cvec&#x27;, CountVectorizer()),\n",
       "                                       (&#x27;nb&#x27;, MultinomialNB())]),\n",
       "             param_grid={&#x27;cvec__max_df&#x27;: [0.9, 0.95],\n",
       "                         &#x27;cvec__max_features&#x27;: [2000, 3000, 4000, 5000, 10000],\n",
       "                         &#x27;cvec__min_df&#x27;: [2, 3],\n",
       "                         &#x27;cvec__ngram_range&#x27;: [(1, 1), (1, 2), (2, 2)],\n",
       "                         &#x27;cvec__stop_words&#x27;: [&#x27;english&#x27;]})</pre><b>In a Jupyter environment, please rerun this cell to show the HTML representation or trust the notebook. <br />On GitHub, the HTML representation is unable to render, please try loading this page with nbviewer.org.</b></div><div class=\"sk-container\" hidden><div class=\"sk-item sk-dashed-wrapped\"><div class=\"sk-label-container\"><div class=\"sk-label sk-toggleable\"><input class=\"sk-toggleable__control sk-hidden--visually\" id=\"sk-estimator-id-8\" type=\"checkbox\" ><label for=\"sk-estimator-id-8\" class=\"sk-toggleable__label sk-toggleable__label-arrow\">GridSearchCV</label><div class=\"sk-toggleable__content\"><pre>GridSearchCV(cv=5,\n",
       "             estimator=Pipeline(steps=[(&#x27;cvec&#x27;, CountVectorizer()),\n",
       "                                       (&#x27;nb&#x27;, MultinomialNB())]),\n",
       "             param_grid={&#x27;cvec__max_df&#x27;: [0.9, 0.95],\n",
       "                         &#x27;cvec__max_features&#x27;: [2000, 3000, 4000, 5000, 10000],\n",
       "                         &#x27;cvec__min_df&#x27;: [2, 3],\n",
       "                         &#x27;cvec__ngram_range&#x27;: [(1, 1), (1, 2), (2, 2)],\n",
       "                         &#x27;cvec__stop_words&#x27;: [&#x27;english&#x27;]})</pre></div></div></div><div class=\"sk-parallel\"><div class=\"sk-parallel-item\"><div class=\"sk-item\"><div class=\"sk-label-container\"><div class=\"sk-label sk-toggleable\"><input class=\"sk-toggleable__control sk-hidden--visually\" id=\"sk-estimator-id-9\" type=\"checkbox\" ><label for=\"sk-estimator-id-9\" class=\"sk-toggleable__label sk-toggleable__label-arrow\">estimator: Pipeline</label><div class=\"sk-toggleable__content\"><pre>Pipeline(steps=[(&#x27;cvec&#x27;, CountVectorizer()), (&#x27;nb&#x27;, MultinomialNB())])</pre></div></div></div><div class=\"sk-serial\"><div class=\"sk-item\"><div class=\"sk-serial\"><div class=\"sk-item\"><div class=\"sk-estimator sk-toggleable\"><input class=\"sk-toggleable__control sk-hidden--visually\" id=\"sk-estimator-id-10\" type=\"checkbox\" ><label for=\"sk-estimator-id-10\" class=\"sk-toggleable__label sk-toggleable__label-arrow\">CountVectorizer</label><div class=\"sk-toggleable__content\"><pre>CountVectorizer()</pre></div></div></div><div class=\"sk-item\"><div class=\"sk-estimator sk-toggleable\"><input class=\"sk-toggleable__control sk-hidden--visually\" id=\"sk-estimator-id-11\" type=\"checkbox\" ><label for=\"sk-estimator-id-11\" class=\"sk-toggleable__label sk-toggleable__label-arrow\">MultinomialNB</label><div class=\"sk-toggleable__content\"><pre>MultinomialNB()</pre></div></div></div></div></div></div></div></div></div></div></div></div>"
      ],
      "text/plain": [
       "GridSearchCV(cv=5,\n",
       "             estimator=Pipeline(steps=[('cvec', CountVectorizer()),\n",
       "                                       ('nb', MultinomialNB())]),\n",
       "             param_grid={'cvec__max_df': [0.9, 0.95],\n",
       "                         'cvec__max_features': [2000, 3000, 4000, 5000, 10000],\n",
       "                         'cvec__min_df': [2, 3],\n",
       "                         'cvec__ngram_range': [(1, 1), (1, 2), (2, 2)],\n",
       "                         'cvec__stop_words': ['english']})"
      ]
     },
     "execution_count": 129,
     "metadata": {},
     "output_type": "execute_result"
    }
   ],
   "source": [
    "gs2.fit(X_train, y_train)"
   ]
  },
  {
   "cell_type": "code",
   "execution_count": 130,
   "id": "d507baa4",
   "metadata": {},
   "outputs": [
    {
     "data": {
      "text/html": [
       "<style>#sk-container-id-4 {color: black;background-color: white;}#sk-container-id-4 pre{padding: 0;}#sk-container-id-4 div.sk-toggleable {background-color: white;}#sk-container-id-4 label.sk-toggleable__label {cursor: pointer;display: block;width: 100%;margin-bottom: 0;padding: 0.3em;box-sizing: border-box;text-align: center;}#sk-container-id-4 label.sk-toggleable__label-arrow:before {content: \"▸\";float: left;margin-right: 0.25em;color: #696969;}#sk-container-id-4 label.sk-toggleable__label-arrow:hover:before {color: black;}#sk-container-id-4 div.sk-estimator:hover label.sk-toggleable__label-arrow:before {color: black;}#sk-container-id-4 div.sk-toggleable__content {max-height: 0;max-width: 0;overflow: hidden;text-align: left;background-color: #f0f8ff;}#sk-container-id-4 div.sk-toggleable__content pre {margin: 0.2em;color: black;border-radius: 0.25em;background-color: #f0f8ff;}#sk-container-id-4 input.sk-toggleable__control:checked~div.sk-toggleable__content {max-height: 200px;max-width: 100%;overflow: auto;}#sk-container-id-4 input.sk-toggleable__control:checked~label.sk-toggleable__label-arrow:before {content: \"▾\";}#sk-container-id-4 div.sk-estimator input.sk-toggleable__control:checked~label.sk-toggleable__label {background-color: #d4ebff;}#sk-container-id-4 div.sk-label input.sk-toggleable__control:checked~label.sk-toggleable__label {background-color: #d4ebff;}#sk-container-id-4 input.sk-hidden--visually {border: 0;clip: rect(1px 1px 1px 1px);clip: rect(1px, 1px, 1px, 1px);height: 1px;margin: -1px;overflow: hidden;padding: 0;position: absolute;width: 1px;}#sk-container-id-4 div.sk-estimator {font-family: monospace;background-color: #f0f8ff;border: 1px dotted black;border-radius: 0.25em;box-sizing: border-box;margin-bottom: 0.5em;}#sk-container-id-4 div.sk-estimator:hover {background-color: #d4ebff;}#sk-container-id-4 div.sk-parallel-item::after {content: \"\";width: 100%;border-bottom: 1px solid gray;flex-grow: 1;}#sk-container-id-4 div.sk-label:hover label.sk-toggleable__label {background-color: #d4ebff;}#sk-container-id-4 div.sk-serial::before {content: \"\";position: absolute;border-left: 1px solid gray;box-sizing: border-box;top: 0;bottom: 0;left: 50%;z-index: 0;}#sk-container-id-4 div.sk-serial {display: flex;flex-direction: column;align-items: center;background-color: white;padding-right: 0.2em;padding-left: 0.2em;position: relative;}#sk-container-id-4 div.sk-item {position: relative;z-index: 1;}#sk-container-id-4 div.sk-parallel {display: flex;align-items: stretch;justify-content: center;background-color: white;position: relative;}#sk-container-id-4 div.sk-item::before, #sk-container-id-4 div.sk-parallel-item::before {content: \"\";position: absolute;border-left: 1px solid gray;box-sizing: border-box;top: 0;bottom: 0;left: 50%;z-index: -1;}#sk-container-id-4 div.sk-parallel-item {display: flex;flex-direction: column;z-index: 1;position: relative;background-color: white;}#sk-container-id-4 div.sk-parallel-item:first-child::after {align-self: flex-end;width: 50%;}#sk-container-id-4 div.sk-parallel-item:last-child::after {align-self: flex-start;width: 50%;}#sk-container-id-4 div.sk-parallel-item:only-child::after {width: 0;}#sk-container-id-4 div.sk-dashed-wrapped {border: 1px dashed gray;margin: 0 0.4em 0.5em 0.4em;box-sizing: border-box;padding-bottom: 0.4em;background-color: white;}#sk-container-id-4 div.sk-label label {font-family: monospace;font-weight: bold;display: inline-block;line-height: 1.2em;}#sk-container-id-4 div.sk-label-container {text-align: center;}#sk-container-id-4 div.sk-container {/* jupyter's `normalize.less` sets `[hidden] { display: none; }` but bootstrap.min.css set `[hidden] { display: none !important; }` so we also need the `!important` here to be able to override the default hidden behavior on the sphinx rendered scikit-learn.org. See: https://github.com/scikit-learn/scikit-learn/issues/21755 */display: inline-block !important;position: relative;}#sk-container-id-4 div.sk-text-repr-fallback {display: none;}</style><div id=\"sk-container-id-4\" class=\"sk-top-container\"><div class=\"sk-text-repr-fallback\"><pre>Pipeline(steps=[(&#x27;cvec&#x27;,\n",
       "                 CountVectorizer(max_df=0.9, max_features=10000, min_df=3,\n",
       "                                 ngram_range=(1, 2), stop_words=&#x27;english&#x27;)),\n",
       "                (&#x27;nb&#x27;, MultinomialNB())])</pre><b>In a Jupyter environment, please rerun this cell to show the HTML representation or trust the notebook. <br />On GitHub, the HTML representation is unable to render, please try loading this page with nbviewer.org.</b></div><div class=\"sk-container\" hidden><div class=\"sk-item sk-dashed-wrapped\"><div class=\"sk-label-container\"><div class=\"sk-label sk-toggleable\"><input class=\"sk-toggleable__control sk-hidden--visually\" id=\"sk-estimator-id-12\" type=\"checkbox\" ><label for=\"sk-estimator-id-12\" class=\"sk-toggleable__label sk-toggleable__label-arrow\">Pipeline</label><div class=\"sk-toggleable__content\"><pre>Pipeline(steps=[(&#x27;cvec&#x27;,\n",
       "                 CountVectorizer(max_df=0.9, max_features=10000, min_df=3,\n",
       "                                 ngram_range=(1, 2), stop_words=&#x27;english&#x27;)),\n",
       "                (&#x27;nb&#x27;, MultinomialNB())])</pre></div></div></div><div class=\"sk-serial\"><div class=\"sk-item\"><div class=\"sk-estimator sk-toggleable\"><input class=\"sk-toggleable__control sk-hidden--visually\" id=\"sk-estimator-id-13\" type=\"checkbox\" ><label for=\"sk-estimator-id-13\" class=\"sk-toggleable__label sk-toggleable__label-arrow\">CountVectorizer</label><div class=\"sk-toggleable__content\"><pre>CountVectorizer(max_df=0.9, max_features=10000, min_df=3, ngram_range=(1, 2),\n",
       "                stop_words=&#x27;english&#x27;)</pre></div></div></div><div class=\"sk-item\"><div class=\"sk-estimator sk-toggleable\"><input class=\"sk-toggleable__control sk-hidden--visually\" id=\"sk-estimator-id-14\" type=\"checkbox\" ><label for=\"sk-estimator-id-14\" class=\"sk-toggleable__label sk-toggleable__label-arrow\">MultinomialNB</label><div class=\"sk-toggleable__content\"><pre>MultinomialNB()</pre></div></div></div></div></div></div></div>"
      ],
      "text/plain": [
       "Pipeline(steps=[('cvec',\n",
       "                 CountVectorizer(max_df=0.9, max_features=10000, min_df=3,\n",
       "                                 ngram_range=(1, 2), stop_words='english')),\n",
       "                ('nb', MultinomialNB())])"
      ]
     },
     "execution_count": 130,
     "metadata": {},
     "output_type": "execute_result"
    }
   ],
   "source": [
    "gs2.best_estimator_"
   ]
  },
  {
   "cell_type": "code",
   "execution_count": 131,
   "id": "229590a9",
   "metadata": {},
   "outputs": [
    {
     "data": {
      "text/plain": [
       "{'cvec__max_df': 0.9,\n",
       " 'cvec__max_features': 10000,\n",
       " 'cvec__min_df': 3,\n",
       " 'cvec__ngram_range': (1, 2),\n",
       " 'cvec__stop_words': 'english'}"
      ]
     },
     "execution_count": 131,
     "metadata": {},
     "output_type": "execute_result"
    }
   ],
   "source": [
    "gs2.best_params_"
   ]
  },
  {
   "cell_type": "code",
   "execution_count": 132,
   "id": "242b9123",
   "metadata": {},
   "outputs": [
    {
     "data": {
      "text/plain": [
       "0.6651053195287397"
      ]
     },
     "execution_count": 132,
     "metadata": {},
     "output_type": "execute_result"
    }
   ],
   "source": [
    "gs2.best_score_"
   ]
  },
  {
   "cell_type": "code",
   "execution_count": 133,
   "id": "33d532c2",
   "metadata": {},
   "outputs": [
    {
     "name": "stdout",
     "output_type": "stream",
     "text": [
      "0.691960014280614 \n",
      "\n",
      "0.6648316339645275\n"
     ]
    }
   ],
   "source": [
    "# Score model on training set.\n",
    "print(gs2.score(X_train,y_train),'\\n')\n",
    "# Score model on testing set.\n",
    "print(gs2.score(X_test,y_test))"
   ]
  },
  {
   "attachments": {},
   "cell_type": "markdown",
   "id": "f9a6b0d7",
   "metadata": {},
   "source": [
    "from gridsearch gs1 and gs2 above, gs1 perform better which is using tfidf with higher accuracy score than using counter vectorizer for gs2 gridsearch"
   ]
  },
  {
   "attachments": {},
   "cell_type": "markdown",
   "id": "22908430",
   "metadata": {},
   "source": [
    "## 4.2 Final Tune Model"
   ]
  },
  {
   "attachments": {},
   "cell_type": "markdown",
   "id": "d354bc59",
   "metadata": {},
   "source": [
    "### 4.2.1 Tfidf"
   ]
  },
  {
   "cell_type": "code",
   "execution_count": 137,
   "id": "6f7e8837",
   "metadata": {},
   "outputs": [
    {
     "data": {
      "text/html": [
       "<style>#sk-container-id-6 {color: black;background-color: white;}#sk-container-id-6 pre{padding: 0;}#sk-container-id-6 div.sk-toggleable {background-color: white;}#sk-container-id-6 label.sk-toggleable__label {cursor: pointer;display: block;width: 100%;margin-bottom: 0;padding: 0.3em;box-sizing: border-box;text-align: center;}#sk-container-id-6 label.sk-toggleable__label-arrow:before {content: \"▸\";float: left;margin-right: 0.25em;color: #696969;}#sk-container-id-6 label.sk-toggleable__label-arrow:hover:before {color: black;}#sk-container-id-6 div.sk-estimator:hover label.sk-toggleable__label-arrow:before {color: black;}#sk-container-id-6 div.sk-toggleable__content {max-height: 0;max-width: 0;overflow: hidden;text-align: left;background-color: #f0f8ff;}#sk-container-id-6 div.sk-toggleable__content pre {margin: 0.2em;color: black;border-radius: 0.25em;background-color: #f0f8ff;}#sk-container-id-6 input.sk-toggleable__control:checked~div.sk-toggleable__content {max-height: 200px;max-width: 100%;overflow: auto;}#sk-container-id-6 input.sk-toggleable__control:checked~label.sk-toggleable__label-arrow:before {content: \"▾\";}#sk-container-id-6 div.sk-estimator input.sk-toggleable__control:checked~label.sk-toggleable__label {background-color: #d4ebff;}#sk-container-id-6 div.sk-label input.sk-toggleable__control:checked~label.sk-toggleable__label {background-color: #d4ebff;}#sk-container-id-6 input.sk-hidden--visually {border: 0;clip: rect(1px 1px 1px 1px);clip: rect(1px, 1px, 1px, 1px);height: 1px;margin: -1px;overflow: hidden;padding: 0;position: absolute;width: 1px;}#sk-container-id-6 div.sk-estimator {font-family: monospace;background-color: #f0f8ff;border: 1px dotted black;border-radius: 0.25em;box-sizing: border-box;margin-bottom: 0.5em;}#sk-container-id-6 div.sk-estimator:hover {background-color: #d4ebff;}#sk-container-id-6 div.sk-parallel-item::after {content: \"\";width: 100%;border-bottom: 1px solid gray;flex-grow: 1;}#sk-container-id-6 div.sk-label:hover label.sk-toggleable__label {background-color: #d4ebff;}#sk-container-id-6 div.sk-serial::before {content: \"\";position: absolute;border-left: 1px solid gray;box-sizing: border-box;top: 0;bottom: 0;left: 50%;z-index: 0;}#sk-container-id-6 div.sk-serial {display: flex;flex-direction: column;align-items: center;background-color: white;padding-right: 0.2em;padding-left: 0.2em;position: relative;}#sk-container-id-6 div.sk-item {position: relative;z-index: 1;}#sk-container-id-6 div.sk-parallel {display: flex;align-items: stretch;justify-content: center;background-color: white;position: relative;}#sk-container-id-6 div.sk-item::before, #sk-container-id-6 div.sk-parallel-item::before {content: \"\";position: absolute;border-left: 1px solid gray;box-sizing: border-box;top: 0;bottom: 0;left: 50%;z-index: -1;}#sk-container-id-6 div.sk-parallel-item {display: flex;flex-direction: column;z-index: 1;position: relative;background-color: white;}#sk-container-id-6 div.sk-parallel-item:first-child::after {align-self: flex-end;width: 50%;}#sk-container-id-6 div.sk-parallel-item:last-child::after {align-self: flex-start;width: 50%;}#sk-container-id-6 div.sk-parallel-item:only-child::after {width: 0;}#sk-container-id-6 div.sk-dashed-wrapped {border: 1px dashed gray;margin: 0 0.4em 0.5em 0.4em;box-sizing: border-box;padding-bottom: 0.4em;background-color: white;}#sk-container-id-6 div.sk-label label {font-family: monospace;font-weight: bold;display: inline-block;line-height: 1.2em;}#sk-container-id-6 div.sk-label-container {text-align: center;}#sk-container-id-6 div.sk-container {/* jupyter's `normalize.less` sets `[hidden] { display: none; }` but bootstrap.min.css set `[hidden] { display: none !important; }` so we also need the `!important` here to be able to override the default hidden behavior on the sphinx rendered scikit-learn.org. See: https://github.com/scikit-learn/scikit-learn/issues/21755 */display: inline-block !important;position: relative;}#sk-container-id-6 div.sk-text-repr-fallback {display: none;}</style><div id=\"sk-container-id-6\" class=\"sk-top-container\"><div class=\"sk-text-repr-fallback\"><pre>TfidfVectorizer(max_df=0.9, max_features=10000, min_df=2, ngram_range=(1, 2))</pre><b>In a Jupyter environment, please rerun this cell to show the HTML representation or trust the notebook. <br />On GitHub, the HTML representation is unable to render, please try loading this page with nbviewer.org.</b></div><div class=\"sk-container\" hidden><div class=\"sk-item\"><div class=\"sk-estimator sk-toggleable\"><input class=\"sk-toggleable__control sk-hidden--visually\" id=\"sk-estimator-id-16\" type=\"checkbox\" checked><label for=\"sk-estimator-id-16\" class=\"sk-toggleable__label sk-toggleable__label-arrow\">TfidfVectorizer</label><div class=\"sk-toggleable__content\"><pre>TfidfVectorizer(max_df=0.9, max_features=10000, min_df=2, ngram_range=(1, 2))</pre></div></div></div></div></div>"
      ],
      "text/plain": [
       "TfidfVectorizer(max_df=0.9, max_features=10000, min_df=2, ngram_range=(1, 2))"
      ]
     },
     "execution_count": 137,
     "metadata": {},
     "output_type": "execute_result"
    }
   ],
   "source": [
    "# tfidf_vect = TfidfVectorizer(analyzer='word', token_pattern=r'\\w{1,}', max_features=5000, max_df = 0.9, min_df = 2,ngram_range=(1,2))\n",
    "tfidf_vect = TfidfVectorizer(max_df=0.9, max_features=10000, min_df=2, ngram_range=(1, 2))\n",
    "tfidf_vect.fit(df['text_fix'])"
   ]
  },
  {
   "cell_type": "code",
   "execution_count": 138,
   "id": "807fe322",
   "metadata": {},
   "outputs": [],
   "source": [
    "xtrain_tfidf =  tfidf_vect.transform(X_train)\n",
    "xtest_tfidf =  tfidf_vect.transform(X_test)"
   ]
  },
  {
   "cell_type": "code",
   "execution_count": 155,
   "id": "cfb2a140",
   "metadata": {},
   "outputs": [
    {
     "data": {
      "text/plain": [
       "157646    wow! this place is wonderful! i rarely comment...\n",
       "136664    delicious! the host staff was friendly we were...\n",
       "128947    ooh, i found the best beignet place in nola. i...\n",
       "81530     easily the best donairs in edmonton. if any ea...\n",
       "30692     very disappointed in the way we were treated d...\n",
       "                                ...                        \n",
       "119929    the atmosphere was wonderful, every staff memb...\n",
       "103721    sitting indoors in the bar, i had a wonderful ...\n",
       "131994    julia childs wrote a review of this restaurant...\n",
       "146942    really great food. my group ordered 4 differen...\n",
       "122014    very poor buffet. $32.50 for food that is so s...\n",
       "Name: text_fix, Length: 140050, dtype: object"
      ]
     },
     "execution_count": 155,
     "metadata": {},
     "output_type": "execute_result"
    }
   ],
   "source": [
    "X_train"
   ]
  },
  {
   "attachments": {},
   "cell_type": "markdown",
   "id": "61429002",
   "metadata": {},
   "source": [
    "### 4.2.2 Upsampling method"
   ]
  },
  {
   "attachments": {},
   "cell_type": "markdown",
   "id": "fa18e30a",
   "metadata": {},
   "source": [
    "#### A. SMOTE"
   ]
  },
  {
   "cell_type": "code",
   "execution_count": 157,
   "id": "6030c90c",
   "metadata": {},
   "outputs": [
    {
     "name": "stdout",
     "output_type": "stream",
     "text": [
      "Before OverSampling, counts of label '1': 22726\n",
      "Before OverSampling, counts of label '2': 11695\n",
      "Before OverSampling, counts of label '3': 11143\n",
      "Before OverSampling, counts of label '4': 24894\n",
      "Before OverSampling, counts of label '5': 69592 \n",
      "\n"
     ]
    }
   ],
   "source": [
    "print(\"Before OverSampling, counts of label '1': {}\".format(sum(y_train==1)))\n",
    "print(\"Before OverSampling, counts of label '2': {}\".format(sum(y_train==2)))\n",
    "print(\"Before OverSampling, counts of label '3': {}\".format(sum(y_train==3)))\n",
    "print(\"Before OverSampling, counts of label '4': {}\".format(sum(y_train==4)))\n",
    "print(\"Before OverSampling, counts of label '5': {} \\n\".format(sum(y_train==5)))"
   ]
  },
  {
   "cell_type": "code",
   "execution_count": 158,
   "id": "c1447ffa",
   "metadata": {},
   "outputs": [
    {
     "name": "stdout",
     "output_type": "stream",
     "text": [
      "After OverSampling, the shape of train_X: (347960, 10000)\n",
      "After OverSampling, the shape of train_y: (347960,) \n",
      "\n",
      "After OverSampling, counts of label '1': 69592\n",
      "After OverSampling, counts of label '2': 69592\n",
      "After OverSampling, counts of label '3': 69592\n",
      "After OverSampling, counts of label '4': 69592\n",
      "After OverSampling, counts of label '5': 69592\n"
     ]
    }
   ],
   "source": [
    "from imblearn.over_sampling import SMOTE\n",
    "sm = SMOTE(random_state=42)\n",
    "X_train_res, y_train_res = sm.fit_resample(xtrain_tfidf, y_train.ravel())\n",
    "\n",
    "print('After OverSampling, the shape of train_X: {}'.format(X_train_res.shape))\n",
    "print('After OverSampling, the shape of train_y: {} \\n'.format(y_train_res.shape))\n",
    "\n",
    "print(\"After OverSampling, counts of label '1': {}\".format(sum(y_train_res==1)))\n",
    "print(\"After OverSampling, counts of label '2': {}\".format(sum(y_train_res==2)))\n",
    "print(\"After OverSampling, counts of label '3': {}\".format(sum(y_train_res==3)))\n",
    "print(\"After OverSampling, counts of label '4': {}\".format(sum(y_train_res==4)))\n",
    "print(\"After OverSampling, counts of label '5': {}\".format(sum(y_train_res==5)))"
   ]
  },
  {
   "attachments": {},
   "cell_type": "markdown",
   "id": "5c8d9c28",
   "metadata": {},
   "source": [
    "#### B. Resample"
   ]
  },
  {
   "cell_type": "code",
   "execution_count": 91,
   "id": "346f6851",
   "metadata": {},
   "outputs": [],
   "source": [
    "# ----------------------------------------------\n",
    "wnv = review_df_sample.loc[review_df_sample['stars']== 4,:]\n",
    "wnv_10k = wnv.sample(n=star_4,replace=True,random_state=42)\n",
    "resample = pd.concat([review_df_sample,wnv_10k],axis=0)\n",
    "review_df_sample = resample.reset_index(drop = True)\n",
    "# ----------------------------------------------\n",
    "wnv = review_df_sample.loc[review_df_sample['stars']== 3,:]\n",
    "wnv_10k = wnv.sample(n=star_3,replace=True,random_state=42)\n",
    "resample = pd.concat([review_df_sample,wnv_10k],axis=0)\n",
    "review_df_sample = resample.reset_index(drop = True)\n",
    "# ----------------------------------------------\n",
    "wnv = review_df_sample.loc[review_df_sample['stars']== 2,:]\n",
    "wnv_10k = wnv.sample(n=star_2,replace=True,random_state=42)\n",
    "resample = pd.concat([review_df_sample,wnv_10k],axis=0)\n",
    "review_df_sample = resample.reset_index(drop = True)\n",
    "# ----------------------------------------------\n",
    "wnv = review_df_sample.loc[review_df_sample['stars']== 1,:]\n",
    "wnv_10k = wnv.sample(n=star_1,replace=True,random_state=42)\n",
    "resample = pd.concat([review_df_sample,wnv_10k],axis=0)\n",
    "review_df_sample = resample.reset_index(drop = True)"
   ]
  },
  {
   "cell_type": "code",
   "execution_count": 92,
   "id": "17c8a7e4",
   "metadata": {},
   "outputs": [
    {
     "data": {
      "text/plain": [
       "4.0    92750\n",
       "5.0    92750\n",
       "3.0    92750\n",
       "1.0    92750\n",
       "2.0    92750\n",
       "Name: stars, dtype: int64"
      ]
     },
     "execution_count": 92,
     "metadata": {},
     "output_type": "execute_result"
    }
   ],
   "source": [
    "review_df_sample.stars.value_counts()"
   ]
  },
  {
   "cell_type": "code",
   "execution_count": 140,
   "id": "83e6d213",
   "metadata": {},
   "outputs": [],
   "source": [
    "from sklearn.metrics import accuracy_score\n",
    "nbModel = MultinomialNB()\n",
    "nbModel.fit(xtrain_tfidf, y_train)  \n",
    "nb_predict_y = nbModel.predict(xtest_tfidf)\n",
    "nb_accuracy = accuracy_score(y_test, nb_predict_y)"
   ]
  },
  {
   "cell_type": "code",
   "execution_count": 141,
   "id": "472c8524",
   "metadata": {},
   "outputs": [],
   "source": [
    "# Random Forest (Bagging Model) Classifier\n",
    "from sklearn.ensemble import RandomForestClassifier\n",
    "rfModel = RandomForestClassifier(n_estimators=200, max_depth=4)\n",
    "rfModel.fit(xtrain_tfidf, y_train)  \n",
    "rf_predict_y = rfModel.predict(xtest_tfidf)\n",
    "rf_accuracy = accuracy_score(y_test, rf_predict_y)"
   ]
  },
  {
   "cell_type": "code",
   "execution_count": 142,
   "id": "e8ca85be",
   "metadata": {},
   "outputs": [
    {
     "name": "stdout",
     "output_type": "stream",
     "text": [
      "Naive Bayes: 0.691\n",
      "Random Forests: 0.502\n"
     ]
    }
   ],
   "source": [
    "print('Naive Bayes: {:.3f}'.format(nb_accuracy))\n",
    "print('Random Forests: {:.3f}'.format(rf_accuracy))"
   ]
  },
  {
   "attachments": {},
   "cell_type": "markdown",
   "id": "aa7ccbb4",
   "metadata": {},
   "source": [
    "+ No significant increase of score after resampling for both Naive Bayes and random forest model\n",
    "+ Naive Bayes model perform better than random forest as it has higher accuracy score."
   ]
  },
  {
   "cell_type": "code",
   "execution_count": 145,
   "id": "7e1aa718",
   "metadata": {},
   "outputs": [
    {
     "name": "stdout",
     "output_type": "stream",
     "text": [
      "              precision    recall  f1-score   support\n",
      "\n",
      "         1.0       0.68      0.84      0.75      7750\n",
      "         2.0       0.46      0.23      0.31      3914\n",
      "         3.0       0.46      0.18      0.26      3710\n",
      "         4.0       0.48      0.26      0.33      8152\n",
      "         5.0       0.75      0.95      0.84     23158\n",
      "\n",
      "    accuracy                           0.69     46684\n",
      "   macro avg       0.57      0.49      0.50     46684\n",
      "weighted avg       0.65      0.69      0.65     46684\n",
      "\n"
     ]
    }
   ],
   "source": [
    "# Let us now evaluate our model using confusion matrix and classification report\n",
    "print(classification_report(y_test, nb_predict_y))"
   ]
  },
  {
   "cell_type": "code",
   "execution_count": 149,
   "id": "10870f69",
   "metadata": {},
   "outputs": [
    {
     "data": {
      "text/plain": [
       "array([[ 6511,   603,    93,   116,   427],\n",
       "       [ 1802,   919,   481,   322,   390],\n",
       "       [  702,   386,   670,  1101,   851],\n",
       "       [  269,    74,   179,  2091,  5539],\n",
       "       [  327,    15,    28,   742, 22046]], dtype=int64)"
      ]
     },
     "execution_count": 149,
     "metadata": {},
     "output_type": "execute_result"
    }
   ],
   "source": [
    "cf_matrix"
   ]
  },
  {
   "cell_type": "code",
   "execution_count": 146,
   "id": "63e66b9b",
   "metadata": {},
   "outputs": [
    {
     "data": {
      "text/plain": [
       "<AxesSubplot:>"
      ]
     },
     "execution_count": 146,
     "metadata": {},
     "output_type": "execute_result"
    },
    {
     "data": {
      "image/png": "[encoded data removed]",
      "text/plain": [
       "<Figure size 432x288 with 2 Axes>"
      ]
     },
     "metadata": {
      "needs_background": "light"
     },
     "output_type": "display_data"
    }
   ],
   "source": [
    "cf_matrix = confusion_matrix(y_test, nb_predict_y)\n",
    "sns.heatmap(cf_matrix, annot=True)"
   ]
  },
  {
   "attachments": {},
   "cell_type": "markdown",
   "id": "ac82a229",
   "metadata": {},
   "source": [
    "# 5. Model Testing"
   ]
  },
  {
   "cell_type": "code",
   "execution_count": 150,
   "id": "e6e1ac3b",
   "metadata": {},
   "outputs": [
    {
     "name": "stdout",
     "output_type": "stream",
     "text": [
      "Actual Rating: 5.0\n",
      "Review:  seriously the best breakfast i have had in a long time it is pricey but everything here in sb is breakfast bun, choc croissant and the yogurt dear jesus excellent cappuccino as well go there now\n",
      "-------------------------------------------------------\n",
      "Naive Bayes Prediction:  5.0\n",
      "Random Forest Prediction:  5.0\n"
     ]
    }
   ],
   "source": [
    "# Prediction example\n",
    "print('Actual Rating:', df.iloc[652][\"stars\"])\n",
    "new_text = [df.iloc[652][\"text_fix\"]]\n",
    "print('Review: ', new_text[0])\n",
    "text_features = tfidf_vect.transform(new_text)\n",
    "nbPredict = nbModel.predict(text_features)\n",
    "rfPredict = rfModel.predict(text_features)\n",
    "print('-------------------------------------------------------')\n",
    "print('Naive Bayes Prediction: ', nbPredict[0])\n",
    "print('Random Forest Prediction: ', rfPredict[0])"
   ]
  },
  {
   "cell_type": "code",
   "execution_count": null,
   "id": "bb4003b4",
   "metadata": {},
   "outputs": [],
   "source": []
  }
 ],
 "metadata": {
  "kernelspec": {
   "display_name": "Python 3 (ipykernel)",
   "language": "python",
   "name": "python3"
  },
  "language_info": {
   "codemirror_mode": {
    "name": "ipython",
    "version": 3
   },
   "file_extension": ".py",
   "mimetype": "text/x-python",
   "name": "python",
   "nbconvert_exporter": "python",
   "pygments_lexer": "ipython3",
   "version": "3.9.12"
  }
 },
 "nbformat": 4,
 "nbformat_minor": 5
}
