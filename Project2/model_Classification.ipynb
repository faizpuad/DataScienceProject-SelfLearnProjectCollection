{
 "cells": [
  {
   "cell_type": "code",
   "execution_count": 1,
   "id": "89dc3604",
   "metadata": {},
   "outputs": [],
   "source": [
    "# basic imports\n",
    "import pandas as pd\n",
    "import numpy as np\n",
    "import matplotlib.pyplot as plt\n",
    "import seaborn as sns\n",
    "import string\n",
    "from collections import Counter\n",
    "import warnings\n",
    "warnings.filterwarnings('ignore')\n",
    "\n",
    "#imports for visualisations\n",
    "import matplotlib.pyplot as plt\n",
    "\n",
    "#import preprocessing\n",
    "from sklearn.preprocessing import StandardScaler\n",
    "from sklearn.pipeline import Pipeline\n",
    "import unidecode\n",
    "\n",
    "# importing libraries for NLP\n",
    "import nltk\n",
    "from nltk.corpus import stopwords\n",
    "from nltk.stem.porter import PorterStemmer\n",
    "from bs4 import BeautifulSoup\n",
    "from nltk.corpus import stopwords\n",
    "from nltk.tokenize import regexp_tokenize\n",
    "from nltk.stem import WordNetLemmatizer\n",
    "from textblob import TextBlob\n",
    "from sklearn.feature_extraction.text import TfidfVectorizer, CountVectorizer\n",
    "from sklearn.model_selection import train_test_split, GridSearchCV\n",
    "\n",
    "#importing libraries for modelling\n",
    "import sklearn.metrics as metrics\n",
    "from sklearn.metrics.pairwise import linear_kernel, cosine_similarity\n",
    "from sklearn.naive_bayes import MultinomialNB\n",
    "from sklearn.linear_model import LogisticRegression\n",
    "from sklearn.neighbors import KNeighborsClassifier\n",
    "from sklearn.model_selection import train_test_split\n",
    "from sklearn.metrics import confusion_matrix, plot_confusion_matrix ,classification_report\n",
    "from scipy.spatial.distance import correlation\n",
    "from scipy import stats \n",
    "from scipy.stats import kurtosis,skew\n",
    "import os\n",
    "import json"
   ]
  },
  {
   "cell_type": "code",
   "execution_count": 2,
   "id": "8c4f2ff0",
   "metadata": {},
   "outputs": [
    {
     "name": "stdout",
     "output_type": "stream",
     "text": [
      "C:\\Users\\User\\Desktop\\ga_class\\capstone\\part_01\\yelp\\github_example\\NLP\\EDA_final\n",
      "C:\\Users\\User\\Desktop\\ga_class\\capstone\\part_01\\yelp\n"
     ]
    }
   ],
   "source": [
    "print(os.getcwd())\n",
    "os.chdir(r\"C:\\Users\\User\\Desktop\\ga_class\\capstone\\part_01\\yelp\")\n",
    "print(os.getcwd())"
   ]
  },
  {
   "cell_type": "code",
   "execution_count": 3,
   "id": "9363c6c5",
   "metadata": {},
   "outputs": [],
   "source": [
    "# import clean datasets processed from 'preprocessing_and_nlp_model' workbook\n",
    "business = pd.read_csv('business_clean.csv')\n",
    "review = pd.read_csv('review_clean.csv')\n",
    "refer_business = pd.read_csv('refer_business.csv')\n",
    "business_rest_or_food_only = pd.read_csv('business_rest_or_food_only.csv')\n",
    "attributes_df = pd.read_csv('attributes_df.csv')\n",
    "business2 = pd.read_csv('business2.csv')\n",
    "df_merge = pd.read_csv('df_merge.csv')\n",
    "review_df = pd.read_csv('review_df.csv')"
   ]
  },
  {
   "cell_type": "code",
   "execution_count": 479,
   "id": "6d7134d6",
   "metadata": {},
   "outputs": [
    {
     "data": {
      "text/plain": [
       "((150346, 10), (895930, 6))"
      ]
     },
     "execution_count": 479,
     "metadata": {},
     "output_type": "execute_result"
    }
   ],
   "source": [
    "business.shape,review.shape"
   ]
  },
  {
   "cell_type": "code",
   "execution_count": 392,
   "id": "8ad3b6df",
   "metadata": {},
   "outputs": [],
   "source": [
    "# # \"Port of Subs\"\n",
    "# business[business['name']==\"Port of Subs\"]"
   ]
  },
  {
   "attachments": {},
   "cell_type": "markdown",
   "id": "35f021a8",
   "metadata": {},
   "source": [
    "# 1. Create business_sentiment df "
   ]
  },
  {
   "cell_type": "code",
   "execution_count": 67,
   "id": "e24d33d9",
   "metadata": {},
   "outputs": [],
   "source": [
    "# only focus on business that is still operating\n",
    "business_sentiment = business_rest_or_food_only[business_rest_or_food_only['is_open']==1]"
   ]
  },
  {
   "cell_type": "code",
   "execution_count": 70,
   "id": "9b88be53",
   "metadata": {},
   "outputs": [],
   "source": [
    "business_sentiment.drop(columns=['attributes','categories'],inplace=True)"
   ]
  },
  {
   "cell_type": "code",
   "execution_count": 71,
   "id": "8c77f1ea",
   "metadata": {},
   "outputs": [],
   "source": [
    "business_sentiment = business_sentiment[business_sentiment['state']=='PA']"
   ]
  },
  {
   "cell_type": "code",
   "execution_count": 72,
   "id": "6c8476d4",
   "metadata": {},
   "outputs": [
    {
     "data": {
      "text/plain": [
       "(3567, 9)"
      ]
     },
     "execution_count": 72,
     "metadata": {},
     "output_type": "execute_result"
    }
   ],
   "source": [
    "business_sentiment.shape"
   ]
  },
  {
   "cell_type": "code",
   "execution_count": 482,
   "id": "7a64edbd",
   "metadata": {},
   "outputs": [
    {
     "data": {
      "text/html": [
       "<div>\n",
       "<style scoped>\n",
       "    .dataframe tbody tr th:only-of-type {\n",
       "        vertical-align: middle;\n",
       "    }\n",
       "\n",
       "    .dataframe tbody tr th {\n",
       "        vertical-align: top;\n",
       "    }\n",
       "\n",
       "    .dataframe thead th {\n",
       "        text-align: right;\n",
       "    }\n",
       "</style>\n",
       "<table border=\"1\" class=\"dataframe\">\n",
       "  <thead>\n",
       "    <tr style=\"text-align: right;\">\n",
       "      <th></th>\n",
       "      <th>business_id</th>\n",
       "      <th>name</th>\n",
       "      <th>city</th>\n",
       "      <th>state</th>\n",
       "      <th>stars</th>\n",
       "      <th>review_count</th>\n",
       "      <th>is_open</th>\n",
       "      <th>summary_category</th>\n",
       "      <th>label</th>\n",
       "    </tr>\n",
       "  </thead>\n",
       "  <tbody>\n",
       "    <tr>\n",
       "      <th>0</th>\n",
       "      <td>MTSW4McQd7CbVtyjqoe9mw</td>\n",
       "      <td>St Honore Pastries</td>\n",
       "      <td>Philadelphia</td>\n",
       "      <td>PA</td>\n",
       "      <td>4.0</td>\n",
       "      <td>80</td>\n",
       "      <td>1</td>\n",
       "      <td>Restaurants</td>\n",
       "      <td>restaurant</td>\n",
       "    </tr>\n",
       "    <tr>\n",
       "      <th>7</th>\n",
       "      <td>ABxoFuzZy5mqQ8C5FJJajQ</td>\n",
       "      <td>Core de Roma</td>\n",
       "      <td>Bala Cynwyd</td>\n",
       "      <td>PA</td>\n",
       "      <td>5.0</td>\n",
       "      <td>12</td>\n",
       "      <td>1</td>\n",
       "      <td>Restaurants</td>\n",
       "      <td>restaurant</td>\n",
       "    </tr>\n",
       "    <tr>\n",
       "      <th>15</th>\n",
       "      <td>ppFCk9aQkM338Rgwpl2F5A</td>\n",
       "      <td>Wawa</td>\n",
       "      <td>Philadelphia</td>\n",
       "      <td>PA</td>\n",
       "      <td>3.0</td>\n",
       "      <td>56</td>\n",
       "      <td>1</td>\n",
       "      <td>Restaurants</td>\n",
       "      <td>restaurant</td>\n",
       "    </tr>\n",
       "    <tr>\n",
       "      <th>21</th>\n",
       "      <td>3BJxm-HnvzdwD1zjmSbmyQ</td>\n",
       "      <td>Golden Chopstick Chinese Restaurant</td>\n",
       "      <td>Philadelphia</td>\n",
       "      <td>PA</td>\n",
       "      <td>3.0</td>\n",
       "      <td>137</td>\n",
       "      <td>1</td>\n",
       "      <td>Restaurants</td>\n",
       "      <td>restaurant</td>\n",
       "    </tr>\n",
       "    <tr>\n",
       "      <th>28</th>\n",
       "      <td>1GnJDrpp-jyDRCptavD9RQ</td>\n",
       "      <td>Rita's Italian Ice</td>\n",
       "      <td>Aston</td>\n",
       "      <td>PA</td>\n",
       "      <td>4.0</td>\n",
       "      <td>7</td>\n",
       "      <td>1</td>\n",
       "      <td>Food</td>\n",
       "      <td>restaurant</td>\n",
       "    </tr>\n",
       "  </tbody>\n",
       "</table>\n",
       "</div>"
      ],
      "text/plain": [
       "               business_id                                 name          city  \\\n",
       "0   MTSW4McQd7CbVtyjqoe9mw                   St Honore Pastries  Philadelphia   \n",
       "7   ABxoFuzZy5mqQ8C5FJJajQ                         Core de Roma   Bala Cynwyd   \n",
       "15  ppFCk9aQkM338Rgwpl2F5A                                 Wawa  Philadelphia   \n",
       "21  3BJxm-HnvzdwD1zjmSbmyQ  Golden Chopstick Chinese Restaurant  Philadelphia   \n",
       "28  1GnJDrpp-jyDRCptavD9RQ                   Rita's Italian Ice         Aston   \n",
       "\n",
       "   state  stars  review_count  is_open summary_category       label  \n",
       "0     PA    4.0            80        1      Restaurants  restaurant  \n",
       "7     PA    5.0            12        1      Restaurants  restaurant  \n",
       "15    PA    3.0            56        1      Restaurants  restaurant  \n",
       "21    PA    3.0           137        1      Restaurants  restaurant  \n",
       "28    PA    4.0             7        1             Food  restaurant  "
      ]
     },
     "execution_count": 482,
     "metadata": {},
     "output_type": "execute_result"
    }
   ],
   "source": [
    "business_sentiment.head()"
   ]
  },
  {
   "attachments": {},
   "cell_type": "markdown",
   "id": "ea3bfe24",
   "metadata": {},
   "source": [
    "# 2. Create review_sentiment df"
   ]
  },
  {
   "cell_type": "code",
   "execution_count": 73,
   "id": "7195c98c",
   "metadata": {},
   "outputs": [],
   "source": [
    "review_sentiment = review_df\n",
    "review_sentiment.drop(columns=['user_id','text'],inplace=True)"
   ]
  },
  {
   "cell_type": "code",
   "execution_count": 75,
   "id": "3bb27b89",
   "metadata": {},
   "outputs": [],
   "source": [
    "review_sentiment['text_fix'] = review_sentiment['text_fix'].astype(str)"
   ]
  },
  {
   "cell_type": "code",
   "execution_count": 81,
   "id": "ff6f3461",
   "metadata": {},
   "outputs": [
    {
     "data": {
      "text/plain": [
       "(479508, 5)"
      ]
     },
     "execution_count": 81,
     "metadata": {},
     "output_type": "execute_result"
    }
   ],
   "source": [
    "review_sentiment.shape"
   ]
  },
  {
   "cell_type": "code",
   "execution_count": 483,
   "id": "f0d08fa1",
   "metadata": {},
   "outputs": [
    {
     "data": {
      "text/html": [
       "<div>\n",
       "<style scoped>\n",
       "    .dataframe tbody tr th:only-of-type {\n",
       "        vertical-align: middle;\n",
       "    }\n",
       "\n",
       "    .dataframe tbody tr th {\n",
       "        vertical-align: top;\n",
       "    }\n",
       "\n",
       "    .dataframe thead th {\n",
       "        text-align: right;\n",
       "    }\n",
       "</style>\n",
       "<table border=\"1\" class=\"dataframe\">\n",
       "  <thead>\n",
       "    <tr style=\"text-align: right;\">\n",
       "      <th></th>\n",
       "      <th>business_id</th>\n",
       "      <th>review_id</th>\n",
       "      <th>stars</th>\n",
       "      <th>useful</th>\n",
       "      <th>text_fix</th>\n",
       "      <th>polarity</th>\n",
       "    </tr>\n",
       "  </thead>\n",
       "  <tbody>\n",
       "    <tr>\n",
       "      <th>0</th>\n",
       "      <td>MTSW4McQd7CbVtyjqoe9mw</td>\n",
       "      <td>BXQcBN0iAi1lAUxibGLFzA</td>\n",
       "      <td>4.0</td>\n",
       "      <td>0.0</td>\n",
       "      <td>this is nice little chinese bakery in the hear...</td>\n",
       "      <td>positive</td>\n",
       "    </tr>\n",
       "    <tr>\n",
       "      <th>1</th>\n",
       "      <td>MTSW4McQd7CbVtyjqoe9mw</td>\n",
       "      <td>uduvUCvi9w3T2bSGivCfXg</td>\n",
       "      <td>4.0</td>\n",
       "      <td>3.0</td>\n",
       "      <td>this is the bakery i usually go to in chinatow...</td>\n",
       "      <td>positive</td>\n",
       "    </tr>\n",
       "    <tr>\n",
       "      <th>2</th>\n",
       "      <td>MTSW4McQd7CbVtyjqoe9mw</td>\n",
       "      <td>a0vwPOqDXXZuJkbBW2356g</td>\n",
       "      <td>5.0</td>\n",
       "      <td>0.0</td>\n",
       "      <td>a delightful find in chinatown! very clean, an...</td>\n",
       "      <td>positive</td>\n",
       "    </tr>\n",
       "    <tr>\n",
       "      <th>3</th>\n",
       "      <td>MTSW4McQd7CbVtyjqoe9mw</td>\n",
       "      <td>MKNp_CdR2k2202-c8GN5Dw</td>\n",
       "      <td>5.0</td>\n",
       "      <td>5.0</td>\n",
       "      <td>i ordered a graduation cake for my niece and i...</td>\n",
       "      <td>positive</td>\n",
       "    </tr>\n",
       "    <tr>\n",
       "      <th>4</th>\n",
       "      <td>MTSW4McQd7CbVtyjqoe9mw</td>\n",
       "      <td>_hJu0u6nB-8LIeQJY4Vg4w</td>\n",
       "      <td>4.0</td>\n",
       "      <td>1.0</td>\n",
       "      <td>this is my favorite bakery in chinatown! i usu...</td>\n",
       "      <td>positive</td>\n",
       "    </tr>\n",
       "  </tbody>\n",
       "</table>\n",
       "</div>"
      ],
      "text/plain": [
       "              business_id               review_id  stars  useful  \\\n",
       "0  MTSW4McQd7CbVtyjqoe9mw  BXQcBN0iAi1lAUxibGLFzA    4.0     0.0   \n",
       "1  MTSW4McQd7CbVtyjqoe9mw  uduvUCvi9w3T2bSGivCfXg    4.0     3.0   \n",
       "2  MTSW4McQd7CbVtyjqoe9mw  a0vwPOqDXXZuJkbBW2356g    5.0     0.0   \n",
       "3  MTSW4McQd7CbVtyjqoe9mw  MKNp_CdR2k2202-c8GN5Dw    5.0     5.0   \n",
       "4  MTSW4McQd7CbVtyjqoe9mw  _hJu0u6nB-8LIeQJY4Vg4w    4.0     1.0   \n",
       "\n",
       "                                            text_fix  polarity  \n",
       "0  this is nice little chinese bakery in the hear...  positive  \n",
       "1  this is the bakery i usually go to in chinatow...  positive  \n",
       "2  a delightful find in chinatown! very clean, an...  positive  \n",
       "3  i ordered a graduation cake for my niece and i...  positive  \n",
       "4  this is my favorite bakery in chinatown! i usu...  positive  "
      ]
     },
     "execution_count": 483,
     "metadata": {},
     "output_type": "execute_result"
    }
   ],
   "source": [
    "review_sentiment.head()"
   ]
  },
  {
   "cell_type": "code",
   "execution_count": 76,
   "id": "10894688",
   "metadata": {},
   "outputs": [],
   "source": [
    "#create list to store sentiment score\n",
    "from nltk.sentiment.vader import SentimentIntensityAnalyzer\n",
    "sent = SentimentIntensityAnalyzer()\n",
    "sentiment_score = []\n",
    "\n",
    "for i in review_sentiment['text_fix']:\n",
    "    sentiment_score.append(sent.polarity_scores(i))"
   ]
  },
  {
   "attachments": {},
   "cell_type": "markdown",
   "id": "56a7c542",
   "metadata": {},
   "source": [
    "# 3. Create sentiment_score_df"
   ]
  },
  {
   "cell_type": "code",
   "execution_count": 77,
   "id": "a0b63006",
   "metadata": {},
   "outputs": [
    {
     "data": {
      "text/plain": [
       "neg         0.058457\n",
       "neu         0.772400\n",
       "pos         0.169143\n",
       "compound    0.448608\n",
       "dtype: float64"
      ]
     },
     "execution_count": 77,
     "metadata": {},
     "output_type": "execute_result"
    }
   ],
   "source": [
    "sentiment_score_df = pd.DataFrame(sentiment_score)\n",
    "sentiment_score_df.mean()"
   ]
  },
  {
   "cell_type": "code",
   "execution_count": 346,
   "id": "a5530174",
   "metadata": {},
   "outputs": [
    {
     "data": {
      "text/plain": [
       "(479508, 7)"
      ]
     },
     "execution_count": 346,
     "metadata": {},
     "output_type": "execute_result"
    }
   ],
   "source": [
    "sentiment_score_df.shape"
   ]
  },
  {
   "cell_type": "code",
   "execution_count": 347,
   "id": "4846c372",
   "metadata": {},
   "outputs": [
    {
     "data": {
      "text/plain": [
       "(80258, 130)"
      ]
     },
     "execution_count": 347,
     "metadata": {},
     "output_type": "execute_result"
    }
   ],
   "source": [
    "sentiment_attribute.shape"
   ]
  },
  {
   "cell_type": "code",
   "execution_count": 484,
   "id": "f5b919c7",
   "metadata": {},
   "outputs": [],
   "source": [
    "sentiment_score_df['score'] = review_sentiment['stars']"
   ]
  },
  {
   "cell_type": "code",
   "execution_count": 485,
   "id": "1835ef6f",
   "metadata": {},
   "outputs": [
    {
     "data": {
      "text/html": [
       "<div>\n",
       "<style scoped>\n",
       "    .dataframe tbody tr th:only-of-type {\n",
       "        vertical-align: middle;\n",
       "    }\n",
       "\n",
       "    .dataframe tbody tr th {\n",
       "        vertical-align: top;\n",
       "    }\n",
       "\n",
       "    .dataframe thead th {\n",
       "        text-align: right;\n",
       "    }\n",
       "</style>\n",
       "<table border=\"1\" class=\"dataframe\">\n",
       "  <thead>\n",
       "    <tr style=\"text-align: right;\">\n",
       "      <th></th>\n",
       "      <th>neg</th>\n",
       "      <th>neu</th>\n",
       "      <th>pos</th>\n",
       "      <th>compound</th>\n",
       "      <th>polarity</th>\n",
       "      <th>business_id</th>\n",
       "      <th>score</th>\n",
       "    </tr>\n",
       "  </thead>\n",
       "  <tbody>\n",
       "    <tr>\n",
       "      <th>0</th>\n",
       "      <td>0.043</td>\n",
       "      <td>0.723</td>\n",
       "      <td>0.234</td>\n",
       "      <td>0.939</td>\n",
       "      <td>positive</td>\n",
       "      <td>MTSW4McQd7CbVtyjqoe9mw</td>\n",
       "      <td>4.0</td>\n",
       "    </tr>\n",
       "  </tbody>\n",
       "</table>\n",
       "</div>"
      ],
      "text/plain": [
       "     neg    neu    pos  compound  polarity             business_id  score\n",
       "0  0.043  0.723  0.234     0.939  positive  MTSW4McQd7CbVtyjqoe9mw    4.0"
      ]
     },
     "execution_count": 485,
     "metadata": {},
     "output_type": "execute_result"
    }
   ],
   "source": [
    "sentiment_score_df.head(1)"
   ]
  },
  {
   "cell_type": "code",
   "execution_count": 486,
   "id": "592e657d",
   "metadata": {},
   "outputs": [],
   "source": [
    "# Check reviewer raanking for each polarity\n",
    "s = sentiment_score_df[sentiment_score_df['polarity']== 'negative']"
   ]
  },
  {
   "cell_type": "code",
   "execution_count": 358,
   "id": "f0c50e17",
   "metadata": {},
   "outputs": [
    {
     "data": {
      "text/html": [
       "<div>\n",
       "<style scoped>\n",
       "    .dataframe tbody tr th:only-of-type {\n",
       "        vertical-align: middle;\n",
       "    }\n",
       "\n",
       "    .dataframe tbody tr th {\n",
       "        vertical-align: top;\n",
       "    }\n",
       "\n",
       "    .dataframe thead th {\n",
       "        text-align: right;\n",
       "    }\n",
       "</style>\n",
       "<table border=\"1\" class=\"dataframe\">\n",
       "  <thead>\n",
       "    <tr style=\"text-align: right;\">\n",
       "      <th></th>\n",
       "      <th>neg</th>\n",
       "      <th>neu</th>\n",
       "      <th>pos</th>\n",
       "      <th>compound</th>\n",
       "      <th>score</th>\n",
       "    </tr>\n",
       "  </thead>\n",
       "  <tbody>\n",
       "    <tr>\n",
       "      <th>count</th>\n",
       "      <td>20899.000000</td>\n",
       "      <td>20899.000000</td>\n",
       "      <td>20899.000000</td>\n",
       "      <td>20899.0</td>\n",
       "      <td>5141.000000</td>\n",
       "    </tr>\n",
       "    <tr>\n",
       "      <th>mean</th>\n",
       "      <td>0.001717</td>\n",
       "      <td>0.996478</td>\n",
       "      <td>0.001802</td>\n",
       "      <td>0.0</td>\n",
       "      <td>2.182260</td>\n",
       "    </tr>\n",
       "    <tr>\n",
       "      <th>std</th>\n",
       "      <td>0.013438</td>\n",
       "      <td>0.027550</td>\n",
       "      <td>0.014170</td>\n",
       "      <td>0.0</td>\n",
       "      <td>1.247115</td>\n",
       "    </tr>\n",
       "    <tr>\n",
       "      <th>min</th>\n",
       "      <td>0.000000</td>\n",
       "      <td>0.511000</td>\n",
       "      <td>0.000000</td>\n",
       "      <td>0.0</td>\n",
       "      <td>1.000000</td>\n",
       "    </tr>\n",
       "    <tr>\n",
       "      <th>25%</th>\n",
       "      <td>0.000000</td>\n",
       "      <td>1.000000</td>\n",
       "      <td>0.000000</td>\n",
       "      <td>0.0</td>\n",
       "      <td>1.000000</td>\n",
       "    </tr>\n",
       "    <tr>\n",
       "      <th>50%</th>\n",
       "      <td>0.000000</td>\n",
       "      <td>1.000000</td>\n",
       "      <td>0.000000</td>\n",
       "      <td>0.0</td>\n",
       "      <td>2.000000</td>\n",
       "    </tr>\n",
       "    <tr>\n",
       "      <th>75%</th>\n",
       "      <td>0.000000</td>\n",
       "      <td>1.000000</td>\n",
       "      <td>0.000000</td>\n",
       "      <td>0.0</td>\n",
       "      <td>3.000000</td>\n",
       "    </tr>\n",
       "    <tr>\n",
       "      <th>max</th>\n",
       "      <td>0.244000</td>\n",
       "      <td>1.000000</td>\n",
       "      <td>0.263000</td>\n",
       "      <td>0.0</td>\n",
       "      <td>5.000000</td>\n",
       "    </tr>\n",
       "  </tbody>\n",
       "</table>\n",
       "</div>"
      ],
      "text/plain": [
       "                neg           neu           pos  compound        score\n",
       "count  20899.000000  20899.000000  20899.000000   20899.0  5141.000000\n",
       "mean       0.001717      0.996478      0.001802       0.0     2.182260\n",
       "std        0.013438      0.027550      0.014170       0.0     1.247115\n",
       "min        0.000000      0.511000      0.000000       0.0     1.000000\n",
       "25%        0.000000      1.000000      0.000000       0.0     1.000000\n",
       "50%        0.000000      1.000000      0.000000       0.0     2.000000\n",
       "75%        0.000000      1.000000      0.000000       0.0     3.000000\n",
       "max        0.244000      1.000000      0.263000       0.0     5.000000"
      ]
     },
     "execution_count": 358,
     "metadata": {},
     "output_type": "execute_result"
    }
   ],
   "source": [
    "#for neutral polarity, the mean rating/score is around 2.1.\n",
    "#there is still outlier such as max value 5 for polarity neutral that need to be dropped\n",
    "s.describe()"
   ]
  },
  {
   "cell_type": "code",
   "execution_count": 355,
   "id": "b44aa9c5",
   "metadata": {},
   "outputs": [
    {
     "data": {
      "text/html": [
       "<div>\n",
       "<style scoped>\n",
       "    .dataframe tbody tr th:only-of-type {\n",
       "        vertical-align: middle;\n",
       "    }\n",
       "\n",
       "    .dataframe tbody tr th {\n",
       "        vertical-align: top;\n",
       "    }\n",
       "\n",
       "    .dataframe thead th {\n",
       "        text-align: right;\n",
       "    }\n",
       "</style>\n",
       "<table border=\"1\" class=\"dataframe\">\n",
       "  <thead>\n",
       "    <tr style=\"text-align: right;\">\n",
       "      <th></th>\n",
       "      <th>neg</th>\n",
       "      <th>neu</th>\n",
       "      <th>pos</th>\n",
       "      <th>compound</th>\n",
       "      <th>score</th>\n",
       "    </tr>\n",
       "  </thead>\n",
       "  <tbody>\n",
       "    <tr>\n",
       "      <th>count</th>\n",
       "      <td>350012.000000</td>\n",
       "      <td>350012.000000</td>\n",
       "      <td>350012.000000</td>\n",
       "      <td>350012.000000</td>\n",
       "      <td>350012.000000</td>\n",
       "    </tr>\n",
       "    <tr>\n",
       "      <th>mean</th>\n",
       "      <td>0.036331</td>\n",
       "      <td>0.749760</td>\n",
       "      <td>0.213909</td>\n",
       "      <td>0.800351</td>\n",
       "      <td>3.422988</td>\n",
       "    </tr>\n",
       "    <tr>\n",
       "      <th>std</th>\n",
       "      <td>0.038822</td>\n",
       "      <td>0.106076</td>\n",
       "      <td>0.111178</td>\n",
       "      <td>0.231974</td>\n",
       "      <td>1.290106</td>\n",
       "    </tr>\n",
       "    <tr>\n",
       "      <th>min</th>\n",
       "      <td>0.000000</td>\n",
       "      <td>0.167000</td>\n",
       "      <td>0.009000</td>\n",
       "      <td>0.000100</td>\n",
       "      <td>1.000000</td>\n",
       "    </tr>\n",
       "    <tr>\n",
       "      <th>25%</th>\n",
       "      <td>0.000000</td>\n",
       "      <td>0.691000</td>\n",
       "      <td>0.131000</td>\n",
       "      <td>0.724900</td>\n",
       "      <td>2.000000</td>\n",
       "    </tr>\n",
       "    <tr>\n",
       "      <th>50%</th>\n",
       "      <td>0.029000</td>\n",
       "      <td>0.765000</td>\n",
       "      <td>0.191000</td>\n",
       "      <td>0.902000</td>\n",
       "      <td>4.000000</td>\n",
       "    </tr>\n",
       "    <tr>\n",
       "      <th>75%</th>\n",
       "      <td>0.060000</td>\n",
       "      <td>0.825000</td>\n",
       "      <td>0.275000</td>\n",
       "      <td>0.962600</td>\n",
       "      <td>5.000000</td>\n",
       "    </tr>\n",
       "    <tr>\n",
       "      <th>max</th>\n",
       "      <td>0.319000</td>\n",
       "      <td>0.991000</td>\n",
       "      <td>0.833000</td>\n",
       "      <td>0.999800</td>\n",
       "      <td>5.000000</td>\n",
       "    </tr>\n",
       "  </tbody>\n",
       "</table>\n",
       "</div>"
      ],
      "text/plain": [
       "                 neg            neu            pos       compound  \\\n",
       "count  350012.000000  350012.000000  350012.000000  350012.000000   \n",
       "mean        0.036331       0.749760       0.213909       0.800351   \n",
       "std         0.038822       0.106076       0.111178       0.231974   \n",
       "min         0.000000       0.167000       0.009000       0.000100   \n",
       "25%         0.000000       0.691000       0.131000       0.724900   \n",
       "50%         0.029000       0.765000       0.191000       0.902000   \n",
       "75%         0.060000       0.825000       0.275000       0.962600   \n",
       "max         0.319000       0.991000       0.833000       0.999800   \n",
       "\n",
       "               score  \n",
       "count  350012.000000  \n",
       "mean        3.422988  \n",
       "std         1.290106  \n",
       "min         1.000000  \n",
       "25%         2.000000  \n",
       "50%         4.000000  \n",
       "75%         5.000000  \n",
       "max         5.000000  "
      ]
     },
     "execution_count": 355,
     "metadata": {},
     "output_type": "execute_result"
    }
   ],
   "source": [
    "#positive\n",
    "s.describe()"
   ]
  },
  {
   "cell_type": "code",
   "execution_count": 487,
   "id": "243f981b",
   "metadata": {},
   "outputs": [
    {
     "data": {
      "text/html": [
       "<div>\n",
       "<style scoped>\n",
       "    .dataframe tbody tr th:only-of-type {\n",
       "        vertical-align: middle;\n",
       "    }\n",
       "\n",
       "    .dataframe tbody tr th {\n",
       "        vertical-align: top;\n",
       "    }\n",
       "\n",
       "    .dataframe thead th {\n",
       "        text-align: right;\n",
       "    }\n",
       "</style>\n",
       "<table border=\"1\" class=\"dataframe\">\n",
       "  <thead>\n",
       "    <tr style=\"text-align: right;\">\n",
       "      <th></th>\n",
       "      <th>neg</th>\n",
       "      <th>neu</th>\n",
       "      <th>pos</th>\n",
       "      <th>compound</th>\n",
       "      <th>score</th>\n",
       "    </tr>\n",
       "  </thead>\n",
       "  <tbody>\n",
       "    <tr>\n",
       "      <th>count</th>\n",
       "      <td>108597.000000</td>\n",
       "      <td>108597.000000</td>\n",
       "      <td>108597.000000</td>\n",
       "      <td>108597.000000</td>\n",
       "      <td>108597.000000</td>\n",
       "    </tr>\n",
       "    <tr>\n",
       "      <th>mean</th>\n",
       "      <td>0.140692</td>\n",
       "      <td>0.802247</td>\n",
       "      <td>0.057064</td>\n",
       "      <td>-0.598741</td>\n",
       "      <td>1.675405</td>\n",
       "    </tr>\n",
       "    <tr>\n",
       "      <th>std</th>\n",
       "      <td>0.069521</td>\n",
       "      <td>0.086887</td>\n",
       "      <td>0.043501</td>\n",
       "      <td>0.273407</td>\n",
       "      <td>0.860206</td>\n",
       "    </tr>\n",
       "    <tr>\n",
       "      <th>min</th>\n",
       "      <td>0.008000</td>\n",
       "      <td>0.173000</td>\n",
       "      <td>0.000000</td>\n",
       "      <td>-0.998000</td>\n",
       "      <td>1.000000</td>\n",
       "    </tr>\n",
       "    <tr>\n",
       "      <th>25%</th>\n",
       "      <td>0.093000</td>\n",
       "      <td>0.753000</td>\n",
       "      <td>0.025000</td>\n",
       "      <td>-0.839800</td>\n",
       "      <td>1.000000</td>\n",
       "    </tr>\n",
       "    <tr>\n",
       "      <th>50%</th>\n",
       "      <td>0.127000</td>\n",
       "      <td>0.814000</td>\n",
       "      <td>0.055000</td>\n",
       "      <td>-0.647800</td>\n",
       "      <td>1.000000</td>\n",
       "    </tr>\n",
       "    <tr>\n",
       "      <th>75%</th>\n",
       "      <td>0.173000</td>\n",
       "      <td>0.864000</td>\n",
       "      <td>0.084000</td>\n",
       "      <td>-0.381400</td>\n",
       "      <td>2.000000</td>\n",
       "    </tr>\n",
       "    <tr>\n",
       "      <th>max</th>\n",
       "      <td>0.827000</td>\n",
       "      <td>0.990000</td>\n",
       "      <td>0.290000</td>\n",
       "      <td>-0.000400</td>\n",
       "      <td>5.000000</td>\n",
       "    </tr>\n",
       "  </tbody>\n",
       "</table>\n",
       "</div>"
      ],
      "text/plain": [
       "                 neg            neu            pos       compound  \\\n",
       "count  108597.000000  108597.000000  108597.000000  108597.000000   \n",
       "mean        0.140692       0.802247       0.057064      -0.598741   \n",
       "std         0.069521       0.086887       0.043501       0.273407   \n",
       "min         0.008000       0.173000       0.000000      -0.998000   \n",
       "25%         0.093000       0.753000       0.025000      -0.839800   \n",
       "50%         0.127000       0.814000       0.055000      -0.647800   \n",
       "75%         0.173000       0.864000       0.084000      -0.381400   \n",
       "max         0.827000       0.990000       0.290000      -0.000400   \n",
       "\n",
       "               score  \n",
       "count  108597.000000  \n",
       "mean        1.675405  \n",
       "std         0.860206  \n",
       "min         1.000000  \n",
       "25%         1.000000  \n",
       "50%         1.000000  \n",
       "75%         2.000000  \n",
       "max         5.000000  "
      ]
     },
     "execution_count": 487,
     "metadata": {},
     "output_type": "execute_result"
    }
   ],
   "source": [
    "#negative\n",
    "s.describe()"
   ]
  },
  {
   "attachments": {},
   "cell_type": "markdown",
   "id": "dd40ffb5",
   "metadata": {},
   "source": [
    "+ for neutral polarity, the mean rating/score is around 2.1.\n",
    "+ for positive polarity, mean rating is 3.4\n",
    "+ for negative polarity, mean rating is 1.7 \n",
    "+ there is still outlier such as max value 5 for polarity neutral that need to be dropped"
   ]
  },
  {
   "cell_type": "code",
   "execution_count": 78,
   "id": "61105caf",
   "metadata": {},
   "outputs": [],
   "source": [
    "# above survey is used to simplify score in term of positive, negative and neutral sentiment\n",
    "# change rating/score to postive if value more than 0, negative if value less than zero \n",
    "def true_polarity(x):\n",
    "    if x > 0:\n",
    "        return 'positive'\n",
    "    if x < 0:\n",
    "        return 'negative'\n",
    "    else: return 'neutral'"
   ]
  },
  {
   "cell_type": "code",
   "execution_count": 489,
   "id": "a802631a",
   "metadata": {},
   "outputs": [],
   "source": [
    "sentiment_score_df['polarity'] = sentiment_score_df.compound.map(true_polarity)"
   ]
  },
  {
   "cell_type": "code",
   "execution_count": 490,
   "id": "812749be",
   "metadata": {},
   "outputs": [
    {
     "data": {
      "text/html": [
       "<div>\n",
       "<style scoped>\n",
       "    .dataframe tbody tr th:only-of-type {\n",
       "        vertical-align: middle;\n",
       "    }\n",
       "\n",
       "    .dataframe tbody tr th {\n",
       "        vertical-align: top;\n",
       "    }\n",
       "\n",
       "    .dataframe thead th {\n",
       "        text-align: right;\n",
       "    }\n",
       "</style>\n",
       "<table border=\"1\" class=\"dataframe\">\n",
       "  <thead>\n",
       "    <tr style=\"text-align: right;\">\n",
       "      <th></th>\n",
       "      <th>neg</th>\n",
       "      <th>neu</th>\n",
       "      <th>pos</th>\n",
       "      <th>compound</th>\n",
       "      <th>polarity</th>\n",
       "      <th>business_id</th>\n",
       "      <th>score</th>\n",
       "    </tr>\n",
       "  </thead>\n",
       "  <tbody>\n",
       "    <tr>\n",
       "      <th>0</th>\n",
       "      <td>0.043</td>\n",
       "      <td>0.723</td>\n",
       "      <td>0.234</td>\n",
       "      <td>0.939</td>\n",
       "      <td>positive</td>\n",
       "      <td>MTSW4McQd7CbVtyjqoe9mw</td>\n",
       "      <td>4.0</td>\n",
       "    </tr>\n",
       "  </tbody>\n",
       "</table>\n",
       "</div>"
      ],
      "text/plain": [
       "     neg    neu    pos  compound  polarity             business_id  score\n",
       "0  0.043  0.723  0.234     0.939  positive  MTSW4McQd7CbVtyjqoe9mw    4.0"
      ]
     },
     "execution_count": 490,
     "metadata": {},
     "output_type": "execute_result"
    }
   ],
   "source": [
    "sentiment_score_df.head(1)"
   ]
  },
  {
   "cell_type": "code",
   "execution_count": 82,
   "id": "001d6b3c",
   "metadata": {},
   "outputs": [],
   "source": [
    "sentiment_score_df['business_id'] = review_df['business_id']"
   ]
  },
  {
   "cell_type": "code",
   "execution_count": 87,
   "id": "29f6f18e",
   "metadata": {},
   "outputs": [],
   "source": [
    "review_sentiment['polarity'] = sentiment_score_df['polarity']"
   ]
  },
  {
   "attachments": {},
   "cell_type": "markdown",
   "id": "65922930",
   "metadata": {},
   "source": [
    "# 4. Create sentiment_df"
   ]
  },
  {
   "cell_type": "code",
   "execution_count": 95,
   "id": "d12b0d96",
   "metadata": {},
   "outputs": [],
   "source": [
    "# combine review_sentiment with business_sentiment\n",
    "sentiment_df = pd.merge(business_sentiment,review_sentiment,on='business_id',how='left')"
   ]
  },
  {
   "cell_type": "code",
   "execution_count": 107,
   "id": "fefa7565",
   "metadata": {},
   "outputs": [],
   "source": [
    "sentiment_df.rename(columns={'stars_x':'overall_stars','stars_y':'review_stars'},inplace=True)"
   ]
  },
  {
   "cell_type": "code",
   "execution_count": 109,
   "id": "375bc219",
   "metadata": {},
   "outputs": [],
   "source": [
    "sentiment_df.dropna(inplace=True)"
   ]
  },
  {
   "cell_type": "code",
   "execution_count": 115,
   "id": "d8131418",
   "metadata": {},
   "outputs": [],
   "source": [
    "sentiment_df.drop(columns=['label'],inplace=True)"
   ]
  },
  {
   "cell_type": "code",
   "execution_count": 127,
   "id": "d755318c",
   "metadata": {},
   "outputs": [],
   "source": [
    "#convert datatypes other than feature business id as category\n",
    "for i in refer_attribute.columns:\n",
    "    if i != 'business_id':\n",
    "        refer_attribute[i] = refer_attribute[i].astype('category')"
   ]
  },
  {
   "cell_type": "code",
   "execution_count": 126,
   "id": "724e0d35",
   "metadata": {},
   "outputs": [],
   "source": [
    "from sklearn.preprocessing import LabelEncoder\n",
    "le = LabelEncoder() \n",
    "for i in refer_attribute.columns:\n",
    "    if i != 'business_id':\n",
    "        refer_attribute[i] = le.fit_transform(refer_attribute[i])"
   ]
  },
  {
   "cell_type": "code",
   "execution_count": 132,
   "id": "b308862a",
   "metadata": {},
   "outputs": [],
   "source": [
    "columns_not_category=['business_id','name','city','state','summary_category','polarity','overall_stars','review_stars']\n",
    "for i in sentiment_df.columns:\n",
    "    if i not in  columns_not_category:\n",
    "        sentiment_df[i] = sentiment_df[i].astype('category')"
   ]
  },
  {
   "attachments": {},
   "cell_type": "markdown",
   "id": "d9214c9b",
   "metadata": {},
   "source": [
    "# 5. Create sentiment_attribute"
   ]
  },
  {
   "cell_type": "code",
   "execution_count": 133,
   "id": "b64aceae",
   "metadata": {},
   "outputs": [],
   "source": [
    "sentiment_attribute = pd.merge(sentiment_df,refer_attribute,on='business_id',how='left')"
   ]
  },
  {
   "cell_type": "code",
   "execution_count": 492,
   "id": "b45d47b3",
   "metadata": {},
   "outputs": [
    {
     "data": {
      "text/html": [
       "<div>\n",
       "<style scoped>\n",
       "    .dataframe tbody tr th:only-of-type {\n",
       "        vertical-align: middle;\n",
       "    }\n",
       "\n",
       "    .dataframe tbody tr th {\n",
       "        vertical-align: top;\n",
       "    }\n",
       "\n",
       "    .dataframe thead th {\n",
       "        text-align: right;\n",
       "    }\n",
       "</style>\n",
       "<table border=\"1\" class=\"dataframe\">\n",
       "  <thead>\n",
       "    <tr style=\"text-align: right;\">\n",
       "      <th></th>\n",
       "      <th>business_id</th>\n",
       "      <th>name</th>\n",
       "      <th>city</th>\n",
       "      <th>state</th>\n",
       "      <th>overall_stars</th>\n",
       "      <th>review_count</th>\n",
       "      <th>is_open</th>\n",
       "      <th>summary_category</th>\n",
       "      <th>review_id</th>\n",
       "      <th>review_stars</th>\n",
       "      <th>...</th>\n",
       "      <th>Corkage_None</th>\n",
       "      <th>Corkage_True</th>\n",
       "      <th>Open24Hours_False</th>\n",
       "      <th>Open24Hours_True</th>\n",
       "      <th>AgesAllowed_u'21plus'</th>\n",
       "      <th>AgesAllowed_u'allages'</th>\n",
       "      <th>RestaurantsCounterService_True</th>\n",
       "      <th>AcceptsInsurance_False</th>\n",
       "      <th>AcceptsInsurance_True</th>\n",
       "      <th>new_polarity</th>\n",
       "    </tr>\n",
       "  </thead>\n",
       "  <tbody>\n",
       "    <tr>\n",
       "      <th>0</th>\n",
       "      <td>MTSW4McQd7CbVtyjqoe9mw</td>\n",
       "      <td>St Honore Pastries</td>\n",
       "      <td>Philadelphia</td>\n",
       "      <td>PA</td>\n",
       "      <td>4.0</td>\n",
       "      <td>80</td>\n",
       "      <td>1</td>\n",
       "      <td>Restaurants</td>\n",
       "      <td>BXQcBN0iAi1lAUxibGLFzA</td>\n",
       "      <td>4.0</td>\n",
       "      <td>...</td>\n",
       "      <td>0</td>\n",
       "      <td>0</td>\n",
       "      <td>0</td>\n",
       "      <td>0</td>\n",
       "      <td>0</td>\n",
       "      <td>0</td>\n",
       "      <td>0</td>\n",
       "      <td>0</td>\n",
       "      <td>0</td>\n",
       "      <td>positive</td>\n",
       "    </tr>\n",
       "  </tbody>\n",
       "</table>\n",
       "<p>1 rows × 131 columns</p>\n",
       "</div>"
      ],
      "text/plain": [
       "              business_id                name          city state  \\\n",
       "0  MTSW4McQd7CbVtyjqoe9mw  St Honore Pastries  Philadelphia    PA   \n",
       "\n",
       "   overall_stars  review_count  is_open summary_category  \\\n",
       "0            4.0            80        1      Restaurants   \n",
       "\n",
       "                review_id  review_stars  ...  Corkage_None Corkage_True  \\\n",
       "0  BXQcBN0iAi1lAUxibGLFzA           4.0  ...             0            0   \n",
       "\n",
       "  Open24Hours_False  Open24Hours_True  AgesAllowed_u'21plus'  \\\n",
       "0                 0                 0                      0   \n",
       "\n",
       "   AgesAllowed_u'allages'  RestaurantsCounterService_True  \\\n",
       "0                       0                               0   \n",
       "\n",
       "   AcceptsInsurance_False  AcceptsInsurance_True  new_polarity  \n",
       "0                       0                      0      positive  \n",
       "\n",
       "[1 rows x 131 columns]"
      ]
     },
     "execution_count": 492,
     "metadata": {},
     "output_type": "execute_result"
    }
   ],
   "source": [
    "sentiment_attribute.head(1)"
   ]
  },
  {
   "cell_type": "code",
   "execution_count": 135,
   "id": "6fc02619",
   "metadata": {},
   "outputs": [
    {
     "data": {
      "text/plain": [
       "(80258, 130)"
      ]
     },
     "execution_count": 135,
     "metadata": {},
     "output_type": "execute_result"
    }
   ],
   "source": [
    "sentiment_attribute.dropna().shape"
   ]
  },
  {
   "cell_type": "code",
   "execution_count": 316,
   "id": "5b2dd6af",
   "metadata": {},
   "outputs": [
    {
     "data": {
      "text/plain": [
       "((80258, 13), (80258, 131))"
      ]
     },
     "execution_count": 316,
     "metadata": {},
     "output_type": "execute_result"
    }
   ],
   "source": [
    "sentiment_df.shape,sentiment_attribute.shape"
   ]
  },
  {
   "cell_type": "code",
   "execution_count": 138,
   "id": "3903ce38",
   "metadata": {},
   "outputs": [],
   "source": [
    "sentiment_attribute.drop(columns=['label'],inplace=True)"
   ]
  },
  {
   "cell_type": "code",
   "execution_count": 320,
   "id": "701c6973",
   "metadata": {},
   "outputs": [],
   "source": [
    "sentiment_attribute.drop(columns=['Unnamed: 0'],inplace=True)"
   ]
  },
  {
   "cell_type": "code",
   "execution_count": 322,
   "id": "eee4e762",
   "metadata": {},
   "outputs": [],
   "source": [
    "sentiment_attribute['polarity'] = sentiment_df['polarity']"
   ]
  },
  {
   "cell_type": "code",
   "execution_count": 380,
   "id": "44afa632",
   "metadata": {},
   "outputs": [
    {
     "data": {
      "text/plain": [
       "4.0    16959\n",
       "5.0    16071\n",
       "2.0    15964\n",
       "1.0    15776\n",
       "3.0    15488\n",
       "Name: review_stars, dtype: int64"
      ]
     },
     "execution_count": 380,
     "metadata": {},
     "output_type": "execute_result"
    }
   ],
   "source": [
    "sentiment_attribute['review_stars'].value_counts()"
   ]
  },
  {
   "cell_type": "code",
   "execution_count": 142,
   "id": "58fa51c4",
   "metadata": {},
   "outputs": [],
   "source": [
    "#summary of created dataframes\n",
    "# contain overall star and label\n",
    "business_sentiment.to_csv('business_sentiment.csv')\n",
    "\n",
    "# contain text,polarity\n",
    "review_sentiment.to_csv('review_sentiment.csv')\n",
    "\n",
    "# contain business,review details,text with no attributes \n",
    "sentiment_df.to_csv('sentiment_df.csv')\n",
    "\n",
    "# contain business,review details,text,overall star, review_stars with attributes\n",
    "sentiment_attribute.to_csv('sentiment_attribute.csv')"
   ]
  },
  {
   "cell_type": "code",
   "execution_count": 375,
   "id": "c9795c65",
   "metadata": {},
   "outputs": [],
   "source": [
    "# create dataframe to compare reviewer's star based on polarity\n",
    "# this is to ensure the polarity function define before is sensible to rating's scale\n",
    "neutral_df = sentiment_attribute[sentiment_attribute['polarity']=='neutral']\n",
    "positive_df = sentiment_attribute[sentiment_attribute['polarity']=='positive']\n",
    "negative_df = sentiment_attribute[sentiment_attribute['polarity']=='negative']"
   ]
  },
  {
   "cell_type": "code",
   "execution_count": 493,
   "id": "865c0a8c",
   "metadata": {},
   "outputs": [
    {
     "data": {
      "text/plain": [
       "3.0    15488\n",
       "Name: review_stars, dtype: int64"
      ]
     },
     "execution_count": 493,
     "metadata": {},
     "output_type": "execute_result"
    }
   ],
   "source": [
    "neutral_df.review_stars.value_counts()"
   ]
  },
  {
   "cell_type": "code",
   "execution_count": 381,
   "id": "3a941cee",
   "metadata": {},
   "outputs": [
    {
     "data": {
      "text/plain": [
       "4.0    16959\n",
       "5.0    16071\n",
       "Name: review_stars, dtype: int64"
      ]
     },
     "execution_count": 381,
     "metadata": {},
     "output_type": "execute_result"
    }
   ],
   "source": [
    "positive_df.review_stars.value_counts()"
   ]
  },
  {
   "cell_type": "code",
   "execution_count": 382,
   "id": "510e55cb",
   "metadata": {},
   "outputs": [
    {
     "data": {
      "text/plain": [
       "2.0    15964\n",
       "1.0    15776\n",
       "Name: review_stars, dtype: int64"
      ]
     },
     "execution_count": 382,
     "metadata": {},
     "output_type": "execute_result"
    }
   ],
   "source": [
    "negative_df.review_stars.value_counts()"
   ]
  },
  {
   "attachments": {},
   "cell_type": "markdown",
   "id": "b56d2eb1",
   "metadata": {},
   "source": [
    "Based on above evaluation. The mapped function of polarity is done accordingly aligned with rating's scale"
   ]
  },
  {
   "cell_type": "code",
   "execution_count": 396,
   "id": "8dd8592d",
   "metadata": {},
   "outputs": [],
   "source": [
    "# create dataframe to use in training model\n",
    "x = sentiment_attribute"
   ]
  },
  {
   "cell_type": "code",
   "execution_count": 397,
   "id": "ae5bb0ee",
   "metadata": {},
   "outputs": [],
   "source": [
    "# positive polarity (value greater than 3 is put as 4)\n",
    "# positive polarity (value greater than 3 is put as 1)\n",
    "def normalize_star(x):\n",
    "    if x > 3:\n",
    "        x = 4\n",
    "        return x\n",
    "    if x == 3:\n",
    "        x = 3\n",
    "        return x\n",
    "    if x < 3:\n",
    "        x = 1\n",
    "        return x"
   ]
  },
  {
   "cell_type": "code",
   "execution_count": 398,
   "id": "9b855d9f",
   "metadata": {},
   "outputs": [],
   "source": [
    "def change_polarity(x):\n",
    "    if x > 3:\n",
    "        return 'positive'\n",
    "    if x == 3:\n",
    "        return 'neutral'\n",
    "    if x < 3:\n",
    "        return 'negative'"
   ]
  },
  {
   "cell_type": "code",
   "execution_count": 399,
   "id": "1a8d7db7",
   "metadata": {},
   "outputs": [],
   "source": [
    "x['new_polarity'] = x.review_stars.map(change_polarity)"
   ]
  },
  {
   "cell_type": "code",
   "execution_count": 407,
   "id": "35e749e0",
   "metadata": {},
   "outputs": [],
   "source": [
    "x.polarity = x.new_polarity\n",
    "x = x.drop(columns=['new_polarity'])"
   ]
  },
  {
   "cell_type": "code",
   "execution_count": 408,
   "id": "810e98a3",
   "metadata": {},
   "outputs": [],
   "source": [
    "x.overall_stars = x.overall_stars.map(normalize_star) "
   ]
  },
  {
   "cell_type": "code",
   "execution_count": 409,
   "id": "0b10b0a9",
   "metadata": {},
   "outputs": [],
   "source": [
    "x.review_stars = x.review_stars.map(normalize_star) "
   ]
  },
  {
   "cell_type": "code",
   "execution_count": 410,
   "id": "34acc217",
   "metadata": {},
   "outputs": [
    {
     "data": {
      "text/plain": [
       "4    33030\n",
       "1    31740\n",
       "3    15488\n",
       "Name: review_stars, dtype: int64"
      ]
     },
     "execution_count": 410,
     "metadata": {},
     "output_type": "execute_result"
    }
   ],
   "source": [
    "x.review_stars.value_counts()"
   ]
  },
  {
   "cell_type": "code",
   "execution_count": 405,
   "id": "bb91122d",
   "metadata": {},
   "outputs": [
    {
     "data": {
      "image/png": "[encoded data removed]",
      "text/plain": [
       "<Figure size 720x720 with 1 Axes>"
      ]
     },
     "metadata": {},
     "output_type": "display_data"
    }
   ],
   "source": [
    "plt.figure(figsize=(10,10))\n",
    "sns.set_style(\"whitegrid\")\n",
    "ax = sns.countplot(x=\"polarity\", data=x)"
   ]
  },
  {
   "attachments": {},
   "cell_type": "markdown",
   "id": "cb6d02d2",
   "metadata": {},
   "source": [
    "from diagram above, dataframe now is unbalance for category neutral. Need to do resampling method"
   ]
  },
  {
   "attachments": {},
   "cell_type": "markdown",
   "id": "a393b3be",
   "metadata": {},
   "source": [
    "# 6. Model Preparation"
   ]
  },
  {
   "cell_type": "code",
   "execution_count": 190,
   "id": "27f0039a",
   "metadata": {},
   "outputs": [],
   "source": [
    "from sklearn.ensemble import RandomForestClassifier, GradientBoostingClassifier, RandomForestClassifier"
   ]
  },
  {
   "cell_type": "code",
   "execution_count": 237,
   "id": "4c4b8c59",
   "metadata": {},
   "outputs": [],
   "source": [
    "# to_train = sentiment_attribute.drop(columns=['business_id','review_id','review_stars','name','city','state','text_fix'])\n",
    "to_train1 = x.drop(columns=['business_id','review_id','review_stars','name','city','state','text_fix'])"
   ]
  },
  {
   "cell_type": "code",
   "execution_count": 238,
   "id": "34bd0ee6",
   "metadata": {},
   "outputs": [],
   "source": [
    "to_train1['summary_category'] = le.fit_transform(to_train1['summary_category'])\n",
    "to_train1['polarity'] = le.fit_transform(to_train1['polarity'])"
   ]
  },
  {
   "cell_type": "code",
   "execution_count": 239,
   "id": "16e62d70",
   "metadata": {},
   "outputs": [
    {
     "data": {
      "text/plain": [
       "(80258, 123)"
      ]
     },
     "execution_count": 239,
     "metadata": {},
     "output_type": "execute_result"
    }
   ],
   "source": [
    "to_train1.shape"
   ]
  },
  {
   "cell_type": "code",
   "execution_count": 561,
   "id": "28c4f310",
   "metadata": {},
   "outputs": [
    {
     "data": {
      "text/html": [
       "<div>\n",
       "<style scoped>\n",
       "    .dataframe tbody tr th:only-of-type {\n",
       "        vertical-align: middle;\n",
       "    }\n",
       "\n",
       "    .dataframe tbody tr th {\n",
       "        vertical-align: top;\n",
       "    }\n",
       "\n",
       "    .dataframe thead th {\n",
       "        text-align: right;\n",
       "    }\n",
       "</style>\n",
       "<table border=\"1\" class=\"dataframe\">\n",
       "  <thead>\n",
       "    <tr style=\"text-align: right;\">\n",
       "      <th></th>\n",
       "      <th>overall_stars</th>\n",
       "      <th>review_count</th>\n",
       "      <th>is_open</th>\n",
       "      <th>summary_category</th>\n",
       "      <th>useful</th>\n",
       "      <th>polarity</th>\n",
       "      <th>garage</th>\n",
       "      <th>street</th>\n",
       "      <th>validated</th>\n",
       "      <th>lot</th>\n",
       "      <th>...</th>\n",
       "      <th>Corkage_False</th>\n",
       "      <th>Corkage_None</th>\n",
       "      <th>Corkage_True</th>\n",
       "      <th>Open24Hours_False</th>\n",
       "      <th>Open24Hours_True</th>\n",
       "      <th>AgesAllowed_u'21plus'</th>\n",
       "      <th>AgesAllowed_u'allages'</th>\n",
       "      <th>RestaurantsCounterService_True</th>\n",
       "      <th>AcceptsInsurance_False</th>\n",
       "      <th>AcceptsInsurance_True</th>\n",
       "    </tr>\n",
       "  </thead>\n",
       "  <tbody>\n",
       "    <tr>\n",
       "      <th>0</th>\n",
       "      <td>4</td>\n",
       "      <td>80</td>\n",
       "      <td>1</td>\n",
       "      <td>1</td>\n",
       "      <td>0.0</td>\n",
       "      <td>2</td>\n",
       "      <td>0</td>\n",
       "      <td>1</td>\n",
       "      <td>0</td>\n",
       "      <td>0</td>\n",
       "      <td>...</td>\n",
       "      <td>0</td>\n",
       "      <td>0</td>\n",
       "      <td>0</td>\n",
       "      <td>0</td>\n",
       "      <td>0</td>\n",
       "      <td>0</td>\n",
       "      <td>0</td>\n",
       "      <td>0</td>\n",
       "      <td>0</td>\n",
       "      <td>0</td>\n",
       "    </tr>\n",
       "    <tr>\n",
       "      <th>1</th>\n",
       "      <td>4</td>\n",
       "      <td>80</td>\n",
       "      <td>1</td>\n",
       "      <td>1</td>\n",
       "      <td>3.0</td>\n",
       "      <td>2</td>\n",
       "      <td>0</td>\n",
       "      <td>1</td>\n",
       "      <td>0</td>\n",
       "      <td>0</td>\n",
       "      <td>...</td>\n",
       "      <td>0</td>\n",
       "      <td>0</td>\n",
       "      <td>0</td>\n",
       "      <td>0</td>\n",
       "      <td>0</td>\n",
       "      <td>0</td>\n",
       "      <td>0</td>\n",
       "      <td>0</td>\n",
       "      <td>0</td>\n",
       "      <td>0</td>\n",
       "    </tr>\n",
       "    <tr>\n",
       "      <th>2</th>\n",
       "      <td>4</td>\n",
       "      <td>80</td>\n",
       "      <td>1</td>\n",
       "      <td>1</td>\n",
       "      <td>0.0</td>\n",
       "      <td>2</td>\n",
       "      <td>0</td>\n",
       "      <td>1</td>\n",
       "      <td>0</td>\n",
       "      <td>0</td>\n",
       "      <td>...</td>\n",
       "      <td>0</td>\n",
       "      <td>0</td>\n",
       "      <td>0</td>\n",
       "      <td>0</td>\n",
       "      <td>0</td>\n",
       "      <td>0</td>\n",
       "      <td>0</td>\n",
       "      <td>0</td>\n",
       "      <td>0</td>\n",
       "      <td>0</td>\n",
       "    </tr>\n",
       "    <tr>\n",
       "      <th>3</th>\n",
       "      <td>4</td>\n",
       "      <td>80</td>\n",
       "      <td>1</td>\n",
       "      <td>1</td>\n",
       "      <td>5.0</td>\n",
       "      <td>2</td>\n",
       "      <td>0</td>\n",
       "      <td>1</td>\n",
       "      <td>0</td>\n",
       "      <td>0</td>\n",
       "      <td>...</td>\n",
       "      <td>0</td>\n",
       "      <td>0</td>\n",
       "      <td>0</td>\n",
       "      <td>0</td>\n",
       "      <td>0</td>\n",
       "      <td>0</td>\n",
       "      <td>0</td>\n",
       "      <td>0</td>\n",
       "      <td>0</td>\n",
       "      <td>0</td>\n",
       "    </tr>\n",
       "    <tr>\n",
       "      <th>4</th>\n",
       "      <td>4</td>\n",
       "      <td>80</td>\n",
       "      <td>1</td>\n",
       "      <td>1</td>\n",
       "      <td>1.0</td>\n",
       "      <td>2</td>\n",
       "      <td>0</td>\n",
       "      <td>1</td>\n",
       "      <td>0</td>\n",
       "      <td>0</td>\n",
       "      <td>...</td>\n",
       "      <td>0</td>\n",
       "      <td>0</td>\n",
       "      <td>0</td>\n",
       "      <td>0</td>\n",
       "      <td>0</td>\n",
       "      <td>0</td>\n",
       "      <td>0</td>\n",
       "      <td>0</td>\n",
       "      <td>0</td>\n",
       "      <td>0</td>\n",
       "    </tr>\n",
       "    <tr>\n",
       "      <th>...</th>\n",
       "      <td>...</td>\n",
       "      <td>...</td>\n",
       "      <td>...</td>\n",
       "      <td>...</td>\n",
       "      <td>...</td>\n",
       "      <td>...</td>\n",
       "      <td>...</td>\n",
       "      <td>...</td>\n",
       "      <td>...</td>\n",
       "      <td>...</td>\n",
       "      <td>...</td>\n",
       "      <td>...</td>\n",
       "      <td>...</td>\n",
       "      <td>...</td>\n",
       "      <td>...</td>\n",
       "      <td>...</td>\n",
       "      <td>...</td>\n",
       "      <td>...</td>\n",
       "      <td>...</td>\n",
       "      <td>...</td>\n",
       "      <td>...</td>\n",
       "    </tr>\n",
       "    <tr>\n",
       "      <th>80253</th>\n",
       "      <td>4</td>\n",
       "      <td>38</td>\n",
       "      <td>1</td>\n",
       "      <td>1</td>\n",
       "      <td>0.0</td>\n",
       "      <td>0</td>\n",
       "      <td>0</td>\n",
       "      <td>1</td>\n",
       "      <td>0</td>\n",
       "      <td>1</td>\n",
       "      <td>...</td>\n",
       "      <td>0</td>\n",
       "      <td>0</td>\n",
       "      <td>0</td>\n",
       "      <td>0</td>\n",
       "      <td>0</td>\n",
       "      <td>0</td>\n",
       "      <td>0</td>\n",
       "      <td>0</td>\n",
       "      <td>0</td>\n",
       "      <td>0</td>\n",
       "    </tr>\n",
       "    <tr>\n",
       "      <th>80254</th>\n",
       "      <td>4</td>\n",
       "      <td>38</td>\n",
       "      <td>1</td>\n",
       "      <td>1</td>\n",
       "      <td>0.0</td>\n",
       "      <td>0</td>\n",
       "      <td>0</td>\n",
       "      <td>1</td>\n",
       "      <td>0</td>\n",
       "      <td>1</td>\n",
       "      <td>...</td>\n",
       "      <td>0</td>\n",
       "      <td>0</td>\n",
       "      <td>0</td>\n",
       "      <td>0</td>\n",
       "      <td>0</td>\n",
       "      <td>0</td>\n",
       "      <td>0</td>\n",
       "      <td>0</td>\n",
       "      <td>0</td>\n",
       "      <td>0</td>\n",
       "    </tr>\n",
       "    <tr>\n",
       "      <th>80255</th>\n",
       "      <td>4</td>\n",
       "      <td>38</td>\n",
       "      <td>1</td>\n",
       "      <td>1</td>\n",
       "      <td>0.0</td>\n",
       "      <td>0</td>\n",
       "      <td>0</td>\n",
       "      <td>1</td>\n",
       "      <td>0</td>\n",
       "      <td>1</td>\n",
       "      <td>...</td>\n",
       "      <td>0</td>\n",
       "      <td>0</td>\n",
       "      <td>0</td>\n",
       "      <td>0</td>\n",
       "      <td>0</td>\n",
       "      <td>0</td>\n",
       "      <td>0</td>\n",
       "      <td>0</td>\n",
       "      <td>0</td>\n",
       "      <td>0</td>\n",
       "    </tr>\n",
       "    <tr>\n",
       "      <th>80256</th>\n",
       "      <td>4</td>\n",
       "      <td>38</td>\n",
       "      <td>1</td>\n",
       "      <td>1</td>\n",
       "      <td>0.0</td>\n",
       "      <td>0</td>\n",
       "      <td>0</td>\n",
       "      <td>1</td>\n",
       "      <td>0</td>\n",
       "      <td>1</td>\n",
       "      <td>...</td>\n",
       "      <td>0</td>\n",
       "      <td>0</td>\n",
       "      <td>0</td>\n",
       "      <td>0</td>\n",
       "      <td>0</td>\n",
       "      <td>0</td>\n",
       "      <td>0</td>\n",
       "      <td>0</td>\n",
       "      <td>0</td>\n",
       "      <td>0</td>\n",
       "    </tr>\n",
       "    <tr>\n",
       "      <th>80257</th>\n",
       "      <td>4</td>\n",
       "      <td>38</td>\n",
       "      <td>1</td>\n",
       "      <td>1</td>\n",
       "      <td>0.0</td>\n",
       "      <td>0</td>\n",
       "      <td>0</td>\n",
       "      <td>1</td>\n",
       "      <td>0</td>\n",
       "      <td>1</td>\n",
       "      <td>...</td>\n",
       "      <td>0</td>\n",
       "      <td>0</td>\n",
       "      <td>0</td>\n",
       "      <td>0</td>\n",
       "      <td>0</td>\n",
       "      <td>0</td>\n",
       "      <td>0</td>\n",
       "      <td>0</td>\n",
       "      <td>0</td>\n",
       "      <td>0</td>\n",
       "    </tr>\n",
       "  </tbody>\n",
       "</table>\n",
       "<p>80258 rows × 123 columns</p>\n",
       "</div>"
      ],
      "text/plain": [
       "       overall_stars review_count is_open  summary_category useful  polarity  \\\n",
       "0                  4           80       1                 1    0.0         2   \n",
       "1                  4           80       1                 1    3.0         2   \n",
       "2                  4           80       1                 1    0.0         2   \n",
       "3                  4           80       1                 1    5.0         2   \n",
       "4                  4           80       1                 1    1.0         2   \n",
       "...              ...          ...     ...               ...    ...       ...   \n",
       "80253              4           38       1                 1    0.0         0   \n",
       "80254              4           38       1                 1    0.0         0   \n",
       "80255              4           38       1                 1    0.0         0   \n",
       "80256              4           38       1                 1    0.0         0   \n",
       "80257              4           38       1                 1    0.0         0   \n",
       "\n",
       "       garage  street  validated  lot  ...  Corkage_False  Corkage_None  \\\n",
       "0           0       1          0    0  ...              0             0   \n",
       "1           0       1          0    0  ...              0             0   \n",
       "2           0       1          0    0  ...              0             0   \n",
       "3           0       1          0    0  ...              0             0   \n",
       "4           0       1          0    0  ...              0             0   \n",
       "...       ...     ...        ...  ...  ...            ...           ...   \n",
       "80253       0       1          0    1  ...              0             0   \n",
       "80254       0       1          0    1  ...              0             0   \n",
       "80255       0       1          0    1  ...              0             0   \n",
       "80256       0       1          0    1  ...              0             0   \n",
       "80257       0       1          0    1  ...              0             0   \n",
       "\n",
       "       Corkage_True  Open24Hours_False  Open24Hours_True  \\\n",
       "0                 0                  0                 0   \n",
       "1                 0                  0                 0   \n",
       "2                 0                  0                 0   \n",
       "3                 0                  0                 0   \n",
       "4                 0                  0                 0   \n",
       "...             ...                ...               ...   \n",
       "80253             0                  0                 0   \n",
       "80254             0                  0                 0   \n",
       "80255             0                  0                 0   \n",
       "80256             0                  0                 0   \n",
       "80257             0                  0                 0   \n",
       "\n",
       "       AgesAllowed_u'21plus'  AgesAllowed_u'allages'  \\\n",
       "0                          0                       0   \n",
       "1                          0                       0   \n",
       "2                          0                       0   \n",
       "3                          0                       0   \n",
       "4                          0                       0   \n",
       "...                      ...                     ...   \n",
       "80253                      0                       0   \n",
       "80254                      0                       0   \n",
       "80255                      0                       0   \n",
       "80256                      0                       0   \n",
       "80257                      0                       0   \n",
       "\n",
       "       RestaurantsCounterService_True  AcceptsInsurance_False  \\\n",
       "0                                   0                       0   \n",
       "1                                   0                       0   \n",
       "2                                   0                       0   \n",
       "3                                   0                       0   \n",
       "4                                   0                       0   \n",
       "...                               ...                     ...   \n",
       "80253                               0                       0   \n",
       "80254                               0                       0   \n",
       "80255                               0                       0   \n",
       "80256                               0                       0   \n",
       "80257                               0                       0   \n",
       "\n",
       "       AcceptsInsurance_True  \n",
       "0                          0  \n",
       "1                          0  \n",
       "2                          0  \n",
       "3                          0  \n",
       "4                          0  \n",
       "...                      ...  \n",
       "80253                      0  \n",
       "80254                      0  \n",
       "80255                      0  \n",
       "80256                      0  \n",
       "80257                      0  \n",
       "\n",
       "[80258 rows x 123 columns]"
      ]
     },
     "execution_count": 561,
     "metadata": {},
     "output_type": "execute_result"
    }
   ],
   "source": [
    "to_train1"
   ]
  },
  {
   "attachments": {},
   "cell_type": "markdown",
   "id": "6c8b7f61",
   "metadata": {},
   "source": [
    "# 7. Multiclass Prediction"
   ]
  },
  {
   "cell_type": "code",
   "execution_count": 501,
   "id": "feca38fd",
   "metadata": {},
   "outputs": [
    {
     "data": {
      "text/plain": [
       "4    33030\n",
       "1    31740\n",
       "3    15488\n",
       "Name: review_stars, dtype: int64"
      ]
     },
     "execution_count": 501,
     "metadata": {},
     "output_type": "execute_result"
    }
   ],
   "source": [
    "x.review_stars.value_counts()"
   ]
  },
  {
   "cell_type": "code",
   "execution_count": 256,
   "id": "77d4955e",
   "metadata": {},
   "outputs": [],
   "source": [
    "X = to_train1\n",
    "y = x.review_stars"
   ]
  },
  {
   "cell_type": "code",
   "execution_count": 257,
   "id": "15d1a5ba",
   "metadata": {},
   "outputs": [],
   "source": [
    "X_train, X_holdout, y_train, y_holdout = train_test_split(X,\n",
    "                                                          y,\n",
    "                                                          random_state=42)"
   ]
  },
  {
   "cell_type": "code",
   "execution_count": 497,
   "id": "d7c8763f",
   "metadata": {},
   "outputs": [
    {
     "data": {
      "text/plain": [
       "4    24760\n",
       "1    23846\n",
       "3    11587\n",
       "Name: review_stars, dtype: int64"
      ]
     },
     "execution_count": 497,
     "metadata": {},
     "output_type": "execute_result"
    }
   ],
   "source": [
    "# Baseline accuracy\n",
    "y_train.value_counts(normalize=True)"
   ]
  },
  {
   "attachments": {},
   "cell_type": "markdown",
   "id": "fcd7937f",
   "metadata": {},
   "source": [
    "# 7.1 Rebalance target variable"
   ]
  },
  {
   "cell_type": "code",
   "execution_count": 498,
   "id": "b178554c",
   "metadata": {},
   "outputs": [
    {
     "data": {
      "text/plain": [
       "4    24760\n",
       "1    23846\n",
       "3    11587\n",
       "Name: review_stars, dtype: int64"
      ]
     },
     "execution_count": 498,
     "metadata": {},
     "output_type": "execute_result"
    }
   ],
   "source": [
    "# show values to be balanced\n",
    "y_train.value_counts()"
   ]
  },
  {
   "attachments": {},
   "cell_type": "markdown",
   "id": "ca117a47",
   "metadata": {},
   "source": [
    "### A. SMOTE"
   ]
  },
  {
   "cell_type": "code",
   "execution_count": 496,
   "id": "b4d0d739",
   "metadata": {},
   "outputs": [
    {
     "name": "stdout",
     "output_type": "stream",
     "text": [
      "After OverSampling, the shape of train_X: (74280, 123)\n",
      "After OverSampling, the shape of train_y: (74280,) \n",
      "\n",
      "After OverSampling, counts of label '1': 24760\n",
      "After OverSampling, counts of label '3': 24760\n",
      "After OverSampling, counts of label '4': 24760\n"
     ]
    }
   ],
   "source": [
    "from imblearn.over_sampling import SMOTE\n",
    "sm = SMOTE(random_state=42)\n",
    "X_train_res, y_train_res = sm.fit_resample(X_train, y_train.ravel())\n",
    "\n",
    "print('After OverSampling, the shape of train_X: {}'.format(X_train_res.shape))\n",
    "print('After OverSampling, the shape of train_y: {} \\n'.format(y_train_res.shape))\n",
    "\n",
    "print(\"After OverSampling, counts of label '1': {}\".format(sum(y_train_res==1)))\n",
    "print(\"After OverSampling, counts of label '3': {}\".format(sum(y_train_res==3)))\n",
    "print(\"After OverSampling, counts of label '4': {}\".format(sum(y_train_res==4)))"
   ]
  },
  {
   "cell_type": "code",
   "execution_count": 260,
   "id": "6966a0e4",
   "metadata": {},
   "outputs": [],
   "source": [
    "# Logistic Regression\n",
    "logreg = LogisticRegression(\n",
    "    solver='newton-cg',\n",
    "    max_iter=500, \n",
    "    random_state=42,\n",
    ")\n",
    "\n",
    "logreg_params = {\n",
    "    'clf__penalty': ['l2'],\n",
    "    'clf__C': [0.1, 0.5, 1, 1.5, 2.5]\n",
    "}"
   ]
  },
  {
   "cell_type": "code",
   "execution_count": 261,
   "id": "cc430689",
   "metadata": {},
   "outputs": [],
   "source": [
    "# Gradient Boost\n",
    "gb = GradientBoostingClassifier(random_state=42)\n",
    "\n",
    "gb_params = {\n",
    "    'clf__learning_rate': [0.05, 0.1, 0.15],\n",
    "    'clf__max_depth': [2, 3]\n",
    "}"
   ]
  },
  {
   "cell_type": "code",
   "execution_count": 262,
   "id": "4a92c05a",
   "metadata": {},
   "outputs": [],
   "source": [
    "# Random Forest\n",
    "rf = RandomForestClassifier(random_state=42, n_jobs=-1)\n",
    "\n",
    "rf_params = {\n",
    "    'clf__n_estimators': [100, 150, 200],\n",
    "    'clf__max_depth': [4, 5, 6]\n",
    "}"
   ]
  },
  {
   "cell_type": "code",
   "execution_count": 263,
   "id": "c4754d05",
   "metadata": {},
   "outputs": [],
   "source": [
    "# List of classifiers & params\n",
    "classifiers = [\n",
    "    (logreg, logreg_params),\n",
    "    (gb, gb_params),\n",
    "    (rf, rf_params)\n",
    "]"
   ]
  },
  {
   "cell_type": "code",
   "execution_count": 264,
   "id": "c9f2cd28",
   "metadata": {},
   "outputs": [],
   "source": [
    "# Instantiate list to store results\n",
    "results = []"
   ]
  },
  {
   "cell_type": "code",
   "execution_count": 265,
   "id": "e1842cf2",
   "metadata": {},
   "outputs": [],
   "source": [
    "# Create function to gridsearch through models and store metrics\n",
    "def model(clf, clf_params):\n",
    "    \n",
    "    # Instantiate pipeline\n",
    "    pipe = Pipeline([\n",
    "        ('ss', StandardScaler()),\n",
    "        ('clf', clf)\n",
    "    ])\n",
    "    \n",
    "    # Gridsearch for best estimator\n",
    "    grid = GridSearchCV(\n",
    "        pipe,\n",
    "        param_grid=clf_params,\n",
    "        scoring='roc_auc',\n",
    "        verbose=2,\n",
    "        n_jobs=-1\n",
    "    )\n",
    "\n",
    "    grid.fit(X_train, y_train)\n",
    "    \n",
    "    print(f'Classifier: {clf}')\n",
    "    print('Best Parameters:')\n",
    "    print(grid.best_params_)\n",
    "    \n",
    "    # Scoring metrics\n",
    "    scores = {'Classifier': clf}\n",
    "    y_preds = grid.predict(X_holdout)\n",
    "    y_pred_probas = grid.predict_proba(X_holdout)[:, 1]\n",
    "    y_train_pred_probas = grid.predict_proba(X_train)[:, 1]\n",
    "    scores['F1'] = metrics.f1_score(y_holdout, y_preds,average='weighted')\n",
    "    scores['Precision'] = metrics.precision_score(y_holdout, y_preds,average='weighted')\n",
    "    scores['Recall'] = metrics.recall_score(y_holdout, y_preds,average='weighted')\n",
    "    scores['Accuracy'] = metrics.accuracy_score(y_holdout, y_preds)\n",
    "    \n",
    "    # Storing results\n",
    "    results.append(scores)\n",
    "    \n",
    "    return pipe"
   ]
  },
  {
   "cell_type": "code",
   "execution_count": 266,
   "id": "7f88c7b8",
   "metadata": {},
   "outputs": [
    {
     "name": "stdout",
     "output_type": "stream",
     "text": [
      "Fitting 5 folds for each of 5 candidates, totalling 25 fits\n",
      "Classifier: LogisticRegression(max_iter=500, random_state=42, solver='newton-cg')\n",
      "Best Parameters:\n",
      "{'clf__C': 0.1, 'clf__penalty': 'l2'}\n",
      "Fitting 5 folds for each of 6 candidates, totalling 30 fits\n",
      "Classifier: GradientBoostingClassifier(random_state=42)\n",
      "Best Parameters:\n",
      "{'clf__learning_rate': 0.05, 'clf__max_depth': 2}\n",
      "Fitting 5 folds for each of 9 candidates, totalling 45 fits\n",
      "Classifier: RandomForestClassifier(n_jobs=-1, random_state=42)\n",
      "Best Parameters:\n",
      "{'clf__max_depth': 4, 'clf__n_estimators': 100}\n"
     ]
    }
   ],
   "source": [
    "# Run through gridsearch for every model\n",
    "for (clf, clf_params) in classifiers:\n",
    "    model(clf, clf_params)"
   ]
  },
  {
   "cell_type": "code",
   "execution_count": 196,
   "id": "fd62b550",
   "metadata": {},
   "outputs": [],
   "source": [
    "# Classifier: LogisticRegression(max_iter=500, random_state=42, solver='liblinear')\n",
    "# Best Parameters:\n",
    "# Classifier: LogisticRegression(max_iter=500, random_state=42, solver='liblinear')\n",
    "# Best Parameters:\n",
    "# {'clf__C': 0.1, 'clf__penalty': 'l1'}\n",
    "# Fitting 5 folds for each of 6 candidates, totalling 30 fits\n",
    "# Classifier: GradientBoostingClassifier(random_state=42)\n",
    "# Best Parameters:\n",
    "# {'clf__learning_rate': 0.05, 'clf__max_depth': 2}\n",
    "# Fitting 5 folds for each of 9 candidates, totalling 45 fits\n",
    "# Classifier: RandomForestClassifier(n_jobs=-1, random_state=42)\n",
    "# Best Parameters:\n",
    "# {'clf__max_depth': 4, 'clf__n_estimators': 100}"
   ]
  },
  {
   "cell_type": "code",
   "execution_count": 244,
   "id": "1ae6c9be",
   "metadata": {
    "scrolled": true
   },
   "outputs": [
    {
     "data": {
      "text/html": [
       "<div>\n",
       "<style scoped>\n",
       "    .dataframe tbody tr th:only-of-type {\n",
       "        vertical-align: middle;\n",
       "    }\n",
       "\n",
       "    .dataframe tbody tr th {\n",
       "        vertical-align: top;\n",
       "    }\n",
       "\n",
       "    .dataframe thead th {\n",
       "        text-align: right;\n",
       "    }\n",
       "</style>\n",
       "<table border=\"1\" class=\"dataframe\">\n",
       "  <thead>\n",
       "    <tr style=\"text-align: right;\">\n",
       "      <th></th>\n",
       "      <th>Classifier</th>\n",
       "      <th>F1</th>\n",
       "      <th>Precision</th>\n",
       "      <th>Recall</th>\n",
       "      <th>Accuracy</th>\n",
       "    </tr>\n",
       "  </thead>\n",
       "  <tbody>\n",
       "    <tr>\n",
       "      <th>0</th>\n",
       "      <td>GradientBoostingClassifier(random_state=42)</td>\n",
       "      <td>0.361748</td>\n",
       "      <td>0.374068</td>\n",
       "      <td>0.392126</td>\n",
       "      <td>0.392126</td>\n",
       "    </tr>\n",
       "    <tr>\n",
       "      <th>1</th>\n",
       "      <td>LogisticRegression(max_iter=500, random_state=...</td>\n",
       "      <td>0.358494</td>\n",
       "      <td>0.379874</td>\n",
       "      <td>0.393820</td>\n",
       "      <td>0.393820</td>\n",
       "    </tr>\n",
       "    <tr>\n",
       "      <th>2</th>\n",
       "      <td>RandomForestClassifier(n_jobs=-1, random_state...</td>\n",
       "      <td>0.320200</td>\n",
       "      <td>0.375368</td>\n",
       "      <td>0.378271</td>\n",
       "      <td>0.378271</td>\n",
       "    </tr>\n",
       "  </tbody>\n",
       "</table>\n",
       "</div>"
      ],
      "text/plain": [
       "                                          Classifier        F1  Precision  \\\n",
       "0        GradientBoostingClassifier(random_state=42)  0.361748   0.374068   \n",
       "1  LogisticRegression(max_iter=500, random_state=...  0.358494   0.379874   \n",
       "2  RandomForestClassifier(n_jobs=-1, random_state...  0.320200   0.375368   \n",
       "\n",
       "     Recall  Accuracy  \n",
       "0  0.392126  0.392126  \n",
       "1  0.393820  0.393820  \n",
       "2  0.378271  0.378271  "
      ]
     },
     "execution_count": 244,
     "metadata": {},
     "output_type": "execute_result"
    }
   ],
   "source": [
    "# Results without normalize rating.\n",
    "# Results sorted by holdout ROC-AUC\n",
    "without_normal_star = pd.DataFrame(results).sort_values(by='F1', ascending=False).reset_index(drop=True)\n",
    "without_normal_star"
   ]
  },
  {
   "cell_type": "code",
   "execution_count": 268,
   "id": "44365e56",
   "metadata": {},
   "outputs": [],
   "source": [
    "# Results with normalize rating and balance target.\n",
    "# Results sorted by holdout ROC-AUC\n",
    "with_normal_star = pd.DataFrame(results).sort_values(by='F1', ascending=False).reset_index(drop=True)"
   ]
  },
  {
   "cell_type": "code",
   "execution_count": 371,
   "id": "8a5d437d",
   "metadata": {},
   "outputs": [
    {
     "data": {
      "text/html": [
       "<div>\n",
       "<style scoped>\n",
       "    .dataframe tbody tr th:only-of-type {\n",
       "        vertical-align: middle;\n",
       "    }\n",
       "\n",
       "    .dataframe tbody tr th {\n",
       "        vertical-align: top;\n",
       "    }\n",
       "\n",
       "    .dataframe thead th {\n",
       "        text-align: right;\n",
       "    }\n",
       "</style>\n",
       "<table border=\"1\" class=\"dataframe\">\n",
       "  <thead>\n",
       "    <tr style=\"text-align: right;\">\n",
       "      <th></th>\n",
       "      <th>Classifier</th>\n",
       "      <th>F1</th>\n",
       "      <th>Precision</th>\n",
       "      <th>Recall</th>\n",
       "      <th>Accuracy</th>\n",
       "    </tr>\n",
       "  </thead>\n",
       "  <tbody>\n",
       "    <tr>\n",
       "      <th>0</th>\n",
       "      <td>LogisticRegression(max_iter=500, random_state=...</td>\n",
       "      <td>1.000000</td>\n",
       "      <td>1.000000</td>\n",
       "      <td>1.000000</td>\n",
       "      <td>1.000000</td>\n",
       "    </tr>\n",
       "    <tr>\n",
       "      <th>1</th>\n",
       "      <td>GradientBoostingClassifier(random_state=42)</td>\n",
       "      <td>1.000000</td>\n",
       "      <td>1.000000</td>\n",
       "      <td>1.000000</td>\n",
       "      <td>1.000000</td>\n",
       "    </tr>\n",
       "    <tr>\n",
       "      <th>2</th>\n",
       "      <td>RandomForestClassifier(n_jobs=-1, random_state...</td>\n",
       "      <td>0.721483</td>\n",
       "      <td>0.658457</td>\n",
       "      <td>0.804685</td>\n",
       "      <td>0.804685</td>\n",
       "    </tr>\n",
       "  </tbody>\n",
       "</table>\n",
       "</div>"
      ],
      "text/plain": [
       "                                          Classifier        F1  Precision  \\\n",
       "0  LogisticRegression(max_iter=500, random_state=...  1.000000   1.000000   \n",
       "1        GradientBoostingClassifier(random_state=42)  1.000000   1.000000   \n",
       "2  RandomForestClassifier(n_jobs=-1, random_state...  0.721483   0.658457   \n",
       "\n",
       "     Recall  Accuracy  \n",
       "0  1.000000  1.000000  \n",
       "1  1.000000  1.000000  \n",
       "2  0.804685  0.804685  "
      ]
     },
     "execution_count": 371,
     "metadata": {},
     "output_type": "execute_result"
    }
   ],
   "source": [
    "with_normal_star"
   ]
  },
  {
   "attachments": {},
   "cell_type": "markdown",
   "id": "75886178",
   "metadata": {},
   "source": [
    "Both table above show significantly varied score as data is balance. The performance of model is better with balance target  for all models."
   ]
  },
  {
   "cell_type": "code",
   "execution_count": 269,
   "id": "656b7c1f",
   "metadata": {},
   "outputs": [
    {
     "data": {
      "text/html": [
       "<style>#sk-container-id-1 {color: black;background-color: white;}#sk-container-id-1 pre{padding: 0;}#sk-container-id-1 div.sk-toggleable {background-color: white;}#sk-container-id-1 label.sk-toggleable__label {cursor: pointer;display: block;width: 100%;margin-bottom: 0;padding: 0.3em;box-sizing: border-box;text-align: center;}#sk-container-id-1 label.sk-toggleable__label-arrow:before {content: \"▸\";float: left;margin-right: 0.25em;color: #696969;}#sk-container-id-1 label.sk-toggleable__label-arrow:hover:before {color: black;}#sk-container-id-1 div.sk-estimator:hover label.sk-toggleable__label-arrow:before {color: black;}#sk-container-id-1 div.sk-toggleable__content {max-height: 0;max-width: 0;overflow: hidden;text-align: left;background-color: #f0f8ff;}#sk-container-id-1 div.sk-toggleable__content pre {margin: 0.2em;color: black;border-radius: 0.25em;background-color: #f0f8ff;}#sk-container-id-1 input.sk-toggleable__control:checked~div.sk-toggleable__content {max-height: 200px;max-width: 100%;overflow: auto;}#sk-container-id-1 input.sk-toggleable__control:checked~label.sk-toggleable__label-arrow:before {content: \"▾\";}#sk-container-id-1 div.sk-estimator input.sk-toggleable__control:checked~label.sk-toggleable__label {background-color: #d4ebff;}#sk-container-id-1 div.sk-label input.sk-toggleable__control:checked~label.sk-toggleable__label {background-color: #d4ebff;}#sk-container-id-1 input.sk-hidden--visually {border: 0;clip: rect(1px 1px 1px 1px);clip: rect(1px, 1px, 1px, 1px);height: 1px;margin: -1px;overflow: hidden;padding: 0;position: absolute;width: 1px;}#sk-container-id-1 div.sk-estimator {font-family: monospace;background-color: #f0f8ff;border: 1px dotted black;border-radius: 0.25em;box-sizing: border-box;margin-bottom: 0.5em;}#sk-container-id-1 div.sk-estimator:hover {background-color: #d4ebff;}#sk-container-id-1 div.sk-parallel-item::after {content: \"\";width: 100%;border-bottom: 1px solid gray;flex-grow: 1;}#sk-container-id-1 div.sk-label:hover label.sk-toggleable__label {background-color: #d4ebff;}#sk-container-id-1 div.sk-serial::before {content: \"\";position: absolute;border-left: 1px solid gray;box-sizing: border-box;top: 0;bottom: 0;left: 50%;z-index: 0;}#sk-container-id-1 div.sk-serial {display: flex;flex-direction: column;align-items: center;background-color: white;padding-right: 0.2em;padding-left: 0.2em;position: relative;}#sk-container-id-1 div.sk-item {position: relative;z-index: 1;}#sk-container-id-1 div.sk-parallel {display: flex;align-items: stretch;justify-content: center;background-color: white;position: relative;}#sk-container-id-1 div.sk-item::before, #sk-container-id-1 div.sk-parallel-item::before {content: \"\";position: absolute;border-left: 1px solid gray;box-sizing: border-box;top: 0;bottom: 0;left: 50%;z-index: -1;}#sk-container-id-1 div.sk-parallel-item {display: flex;flex-direction: column;z-index: 1;position: relative;background-color: white;}#sk-container-id-1 div.sk-parallel-item:first-child::after {align-self: flex-end;width: 50%;}#sk-container-id-1 div.sk-parallel-item:last-child::after {align-self: flex-start;width: 50%;}#sk-container-id-1 div.sk-parallel-item:only-child::after {width: 0;}#sk-container-id-1 div.sk-dashed-wrapped {border: 1px dashed gray;margin: 0 0.4em 0.5em 0.4em;box-sizing: border-box;padding-bottom: 0.4em;background-color: white;}#sk-container-id-1 div.sk-label label {font-family: monospace;font-weight: bold;display: inline-block;line-height: 1.2em;}#sk-container-id-1 div.sk-label-container {text-align: center;}#sk-container-id-1 div.sk-container {/* jupyter's `normalize.less` sets `[hidden] { display: none; }` but bootstrap.min.css set `[hidden] { display: none !important; }` so we also need the `!important` here to be able to override the default hidden behavior on the sphinx rendered scikit-learn.org. See: https://github.com/scikit-learn/scikit-learn/issues/21755 */display: inline-block !important;position: relative;}#sk-container-id-1 div.sk-text-repr-fallback {display: none;}</style><div id=\"sk-container-id-1\" class=\"sk-top-container\"><div class=\"sk-text-repr-fallback\"><pre>RandomForestClassifier(max_depth=4)</pre><b>In a Jupyter environment, please rerun this cell to show the HTML representation or trust the notebook. <br />On GitHub, the HTML representation is unable to render, please try loading this page with nbviewer.org.</b></div><div class=\"sk-container\" hidden><div class=\"sk-item\"><div class=\"sk-estimator sk-toggleable\"><input class=\"sk-toggleable__control sk-hidden--visually\" id=\"sk-estimator-id-1\" type=\"checkbox\" checked><label for=\"sk-estimator-id-1\" class=\"sk-toggleable__label sk-toggleable__label-arrow\">RandomForestClassifier</label><div class=\"sk-toggleable__content\"><pre>RandomForestClassifier(max_depth=4)</pre></div></div></div></div></div>"
      ],
      "text/plain": [
       "RandomForestClassifier(max_depth=4)"
      ]
     },
     "execution_count": 269,
     "metadata": {},
     "output_type": "execute_result"
    }
   ],
   "source": [
    "lr_final =  LogisticRegression(C=0.1, penalty = 'l2')\n",
    "lr_final.fit(X_train, y_train)\n",
    "gboost_final = GradientBoostingClassifier(learning_rate = 0.05, max_depth = 2) \n",
    "gboost_final.fit(X_train, y_train)\n",
    "rf_final = RandomForestClassifier(max_depth = 4, n_estimators = 100) \n",
    "rf_final.fit(X_train, y_train)"
   ]
  },
  {
   "cell_type": "code",
   "execution_count": 274,
   "id": "8cf9c122",
   "metadata": {},
   "outputs": [
    {
     "data": {
      "text/plain": [
       "(0.9977073746116658, 0.9978071268377772)"
      ]
     },
     "execution_count": 274,
     "metadata": {},
     "output_type": "execute_result"
    }
   ],
   "source": [
    "lr_final.score(X_train,y_train),lr_final.score(X_holdout,y_holdout) #train score, test score"
   ]
  },
  {
   "cell_type": "code",
   "execution_count": 275,
   "id": "38d36f85",
   "metadata": {},
   "outputs": [
    {
     "data": {
      "text/plain": [
       "(1.0, 1.0)"
      ]
     },
     "execution_count": 275,
     "metadata": {},
     "output_type": "execute_result"
    }
   ],
   "source": [
    "gboost_final.score(X_train,y_train),gboost_final.score(X_holdout,y_holdout)"
   ]
  },
  {
   "cell_type": "code",
   "execution_count": 276,
   "id": "c2ac8a2e",
   "metadata": {},
   "outputs": [
    {
     "data": {
      "text/plain": [
       "(0.810542754140847, 0.8088213306753053)"
      ]
     },
     "execution_count": 276,
     "metadata": {},
     "output_type": "execute_result"
    }
   ],
   "source": [
    "rf_final.score(X_train,y_train),rf_final.score(X_holdout,y_holdout)"
   ]
  },
  {
   "cell_type": "code",
   "execution_count": 417,
   "id": "65eaecef",
   "metadata": {},
   "outputs": [
    {
     "name": "stdout",
     "output_type": "stream",
     "text": [
      "ROC_AUC Score:0.9998513937253023\n"
     ]
    }
   ],
   "source": [
    "# Roc_Auc score for logistic regression model\n",
    "preds1 = lr_final.predict_proba(X_holdout)\n",
    "roc_auc = roc_auc_score(y_holdout,preds1, multi_class='ovr')\n",
    "print(f\"ROC_AUC Score:{roc_auc}\")"
   ]
  },
  {
   "cell_type": "code",
   "execution_count": 270,
   "id": "c9c46234",
   "metadata": {},
   "outputs": [
    {
     "data": {
      "text/html": [
       "<div>\n",
       "<style scoped>\n",
       "    .dataframe tbody tr th:only-of-type {\n",
       "        vertical-align: middle;\n",
       "    }\n",
       "\n",
       "    .dataframe tbody tr th {\n",
       "        vertical-align: top;\n",
       "    }\n",
       "\n",
       "    .dataframe thead th {\n",
       "        text-align: right;\n",
       "    }\n",
       "</style>\n",
       "<table border=\"1\" class=\"dataframe\">\n",
       "  <thead>\n",
       "    <tr style=\"text-align: right;\">\n",
       "      <th></th>\n",
       "      <th>Classifier</th>\n",
       "      <th>F1</th>\n",
       "      <th>Precision</th>\n",
       "      <th>Recall</th>\n",
       "      <th>Accuracy</th>\n",
       "      <th>model_name</th>\n",
       "      <th>model_var</th>\n",
       "    </tr>\n",
       "  </thead>\n",
       "  <tbody>\n",
       "    <tr>\n",
       "      <th>0</th>\n",
       "      <td>LogisticRegression(max_iter=500, random_state=...</td>\n",
       "      <td>1.000000</td>\n",
       "      <td>1.000000</td>\n",
       "      <td>1.000000</td>\n",
       "      <td>1.000000</td>\n",
       "      <td>LogisticRegression</td>\n",
       "      <td>LogisticRegression(C=0.1)</td>\n",
       "    </tr>\n",
       "    <tr>\n",
       "      <th>1</th>\n",
       "      <td>GradientBoostingClassifier(random_state=42)</td>\n",
       "      <td>1.000000</td>\n",
       "      <td>1.000000</td>\n",
       "      <td>1.000000</td>\n",
       "      <td>1.000000</td>\n",
       "      <td>GradientBoostingClassifier</td>\n",
       "      <td>([DecisionTreeRegressor(criterion='friedman_ms...</td>\n",
       "    </tr>\n",
       "    <tr>\n",
       "      <th>2</th>\n",
       "      <td>RandomForestClassifier(n_jobs=-1, random_state...</td>\n",
       "      <td>0.721483</td>\n",
       "      <td>0.658457</td>\n",
       "      <td>0.804685</td>\n",
       "      <td>0.804685</td>\n",
       "      <td>RandomForestClassifier</td>\n",
       "      <td>(DecisionTreeClassifier(max_depth=4, max_featu...</td>\n",
       "    </tr>\n",
       "  </tbody>\n",
       "</table>\n",
       "</div>"
      ],
      "text/plain": [
       "                                          Classifier        F1  Precision  \\\n",
       "0  LogisticRegression(max_iter=500, random_state=...  1.000000   1.000000   \n",
       "1        GradientBoostingClassifier(random_state=42)  1.000000   1.000000   \n",
       "2  RandomForestClassifier(n_jobs=-1, random_state...  0.721483   0.658457   \n",
       "\n",
       "     Recall  Accuracy                  model_name  \\\n",
       "0  1.000000  1.000000          LogisticRegression   \n",
       "1  1.000000  1.000000  GradientBoostingClassifier   \n",
       "2  0.804685  0.804685      RandomForestClassifier   \n",
       "\n",
       "                                           model_var  \n",
       "0                          LogisticRegression(C=0.1)  \n",
       "1  ([DecisionTreeRegressor(criterion='friedman_ms...  \n",
       "2  (DecisionTreeClassifier(max_depth=4, max_featu...  "
      ]
     },
     "execution_count": 270,
     "metadata": {},
     "output_type": "execute_result"
    }
   ],
   "source": [
    "#store result into dataframe\n",
    "result_df = pd.DataFrame(results)\n",
    "model_name = ['LogisticRegression','GradientBoostingClassifier','RandomForestClassifier']\n",
    "result_df['model_name'] = model_name\n",
    "model_var = [lr_final,gboost_final,rf_final]\n",
    "result_df['model_var'] = model_var\n",
    "result_df"
   ]
  },
  {
   "attachments": {},
   "cell_type": "markdown",
   "id": "2212d45d",
   "metadata": {},
   "source": [
    "Table above show that Gradient boosting and logistic regression own very good score for f1,and accuracy score"
   ]
  },
  {
   "cell_type": "code",
   "execution_count": 568,
   "id": "6329ae2f",
   "metadata": {},
   "outputs": [
    {
     "data": {
      "text/plain": [
       "['rf_final.joblib']"
      ]
     },
     "execution_count": 568,
     "metadata": {},
     "output_type": "execute_result"
    }
   ],
   "source": [
    "#save model\n",
    "import joblib\n",
    "import pickle\n",
    "\n",
    "joblib.dump(lr_final, \"lr_final.joblib\")\n",
    "joblib.dump(gboost_final, \"gboost_final.joblib\")\n",
    "joblib.dump(rf_final, \"rf_final.joblib\")"
   ]
  },
  {
   "cell_type": "code",
   "execution_count": null,
   "id": "e601cb23",
   "metadata": {},
   "outputs": [],
   "source": [
    "# load model\n",
    "# lr_final = joblib.load(\"lr_final.joblib\")"
   ]
  },
  {
   "cell_type": "code",
   "execution_count": 529,
   "id": "2d07b029",
   "metadata": {},
   "outputs": [],
   "source": [
    "# prediction\n",
    "lr_pred = lr_final.predict(X_holdout)\n",
    "gboost_pred = gboost_final.predict(X_holdout)\n",
    "rf_pred = rf_final.predict(X_holdout)"
   ]
  },
  {
   "cell_type": "code",
   "execution_count": 532,
   "id": "3b457fb9",
   "metadata": {},
   "outputs": [
    {
     "name": "stdout",
     "output_type": "stream",
     "text": [
      "[4 3 1 ... 1 4 3]\n",
      "\n",
      "\n",
      "              precision    recall  f1-score   support\n",
      "\n",
      "           1       1.00      1.00      1.00      7894\n",
      "           3       1.00      0.99      0.99      3901\n",
      "           4       1.00      1.00      1.00      8270\n",
      "\n",
      "    accuracy                           1.00     20065\n",
      "   macro avg       1.00      1.00      1.00     20065\n",
      "weighted avg       1.00      1.00      1.00     20065\n",
      "\n",
      "0.9978071268377772\n",
      "\n",
      "\n",
      "[4 3 1 ... 1 4 3]\n",
      "\n",
      "\n",
      "              precision    recall  f1-score   support\n",
      "\n",
      "           1       1.00      1.00      1.00      7894\n",
      "           3       1.00      1.00      1.00      3901\n",
      "           4       1.00      1.00      1.00      8270\n",
      "\n",
      "    accuracy                           1.00     20065\n",
      "   macro avg       1.00      1.00      1.00     20065\n",
      "weighted avg       1.00      1.00      1.00     20065\n",
      "\n",
      "1.0\n",
      "\n",
      "\n",
      "[4 1 1 ... 1 4 1]\n",
      "\n",
      "\n",
      "              precision    recall  f1-score   support\n",
      "\n",
      "           1       0.73      1.00      0.85      7894\n",
      "           3       1.00      0.02      0.03      3901\n",
      "           4       0.89      1.00      0.94      8270\n",
      "\n",
      "    accuracy                           0.81     20065\n",
      "   macro avg       0.88      0.67      0.61     20065\n",
      "weighted avg       0.85      0.81      0.73     20065\n",
      "\n",
      "0.8088213306753053\n",
      "\n",
      "\n"
     ]
    }
   ],
   "source": [
    "# Let us now evaluate our model using confusion matrix and classification report\n",
    "list_predict = [lr_pred,gboost_pred,rf_pred]\n",
    "for i in list_predict:\n",
    "    x = str(i)\n",
    "    print(x)\n",
    "    print('\\n')\n",
    "    print(classification_report(y_holdout, i))\n",
    "    print(metrics.accuracy_score(y_holdout, i))\n",
    "    print('\\n')"
   ]
  },
  {
   "cell_type": "code",
   "execution_count": 513,
   "id": "b3720d78",
   "metadata": {},
   "outputs": [
    {
     "data": {
      "text/plain": [
       "4    8270\n",
       "1    7894\n",
       "3    3901\n",
       "Name: review_stars, dtype: int64"
      ]
     },
     "execution_count": 513,
     "metadata": {},
     "output_type": "execute_result"
    }
   ],
   "source": [
    "y_holdout.value_counts()"
   ]
  },
  {
   "cell_type": "code",
   "execution_count": 526,
   "id": "e7932623",
   "metadata": {},
   "outputs": [
    {
     "data": {
      "image/png": "[encoded data removed]",
      "text/plain": [
       "<Figure size 1440x360 with 6 Axes>"
      ]
     },
     "metadata": {},
     "output_type": "display_data"
    }
   ],
   "source": [
    "tick = [1,3,4]\n",
    "lr_cm = confusion_matrix(y_holdout, lr_pred)\n",
    "gboost_cm = confusion_matrix(y_holdout, gboost_final.predict(X_holdout))\n",
    "rf_cm = confusion_matrix(y_holdout, rf_final.predict(X_holdout))\n",
    "\n",
    "plt.figure(figsize=(20,5))\n",
    "plt.subplot(131)\n",
    "sns.heatmap(lr_cm, annot=True, fmt='d', cmap=\"BuPu\", xticklabels=tick, yticklabels=tick)\n",
    "plt.title('Logistic Regression - Confusion Matrix')\n",
    "plt.ylabel('Actual')\n",
    "plt.xlabel('Predicted')\n",
    "\n",
    "plt.subplot(132)\n",
    "sns.heatmap(gboost_cm, annot=True, fmt='d', cmap=\"BuPu\", xticklabels=tick, yticklabels=tick)\n",
    "plt.title('Gradient Boost - Confusion Matrix')\n",
    "plt.ylabel('Actual')\n",
    "plt.xlabel('Predicted')\n",
    "\n",
    "plt.subplot(133)\n",
    "sns.heatmap(rf_cm, annot=True, fmt='d', cmap=\"BuPu\", xticklabels=tick, yticklabels=tick)\n",
    "plt.title('Random Forest - Confusion Matrix')\n",
    "plt.ylabel('Actual')\n",
    "plt.xlabel('Predicted')\n",
    "\n",
    "plt.show()"
   ]
  },
  {
   "cell_type": "code",
   "execution_count": 554,
   "id": "0f124f42",
   "metadata": {},
   "outputs": [],
   "source": [
    "# plot the logistic regression's importance feature that affect the score according to its importance\n",
    "importances_lr = pd.DataFrame(data={\n",
    "    'Attribute': X_train.columns,\n",
    "    'Importance': lr_final.coef_[0]\n",
    "})\n",
    "importances_lr = importances_lr.sort_values(by='Importance', ascending=False)"
   ]
  },
  {
   "cell_type": "code",
   "execution_count": 544,
   "id": "499af2ca",
   "metadata": {},
   "outputs": [
    {
     "data": {
      "text/html": [
       "<div>\n",
       "<style scoped>\n",
       "    .dataframe tbody tr th:only-of-type {\n",
       "        vertical-align: middle;\n",
       "    }\n",
       "\n",
       "    .dataframe tbody tr th {\n",
       "        vertical-align: top;\n",
       "    }\n",
       "\n",
       "    .dataframe thead th {\n",
       "        text-align: right;\n",
       "    }\n",
       "</style>\n",
       "<table border=\"1\" class=\"dataframe\">\n",
       "  <thead>\n",
       "    <tr style=\"text-align: right;\">\n",
       "      <th></th>\n",
       "      <th>Attribute</th>\n",
       "      <th>Importance</th>\n",
       "    </tr>\n",
       "  </thead>\n",
       "  <tbody>\n",
       "    <tr>\n",
       "      <th>46</th>\n",
       "      <td>dairy-free</td>\n",
       "      <td>0.577390</td>\n",
       "    </tr>\n",
       "    <tr>\n",
       "      <th>51</th>\n",
       "      <td>soy-free</td>\n",
       "      <td>0.577390</td>\n",
       "    </tr>\n",
       "    <tr>\n",
       "      <th>52</th>\n",
       "      <td>vegetarian</td>\n",
       "      <td>0.577390</td>\n",
       "    </tr>\n",
       "    <tr>\n",
       "      <th>48</th>\n",
       "      <td>vegan</td>\n",
       "      <td>0.577390</td>\n",
       "    </tr>\n",
       "    <tr>\n",
       "      <th>47</th>\n",
       "      <td>gluten-free</td>\n",
       "      <td>0.577390</td>\n",
       "    </tr>\n",
       "    <tr>\n",
       "      <th>94</th>\n",
       "      <td>HasTV_True</td>\n",
       "      <td>0.560501</td>\n",
       "    </tr>\n",
       "    <tr>\n",
       "      <th>4</th>\n",
       "      <td>useful</td>\n",
       "      <td>0.464111</td>\n",
       "    </tr>\n",
       "    <tr>\n",
       "      <th>80</th>\n",
       "      <td>RestaurantsGoodForGroups_True</td>\n",
       "      <td>0.457824</td>\n",
       "    </tr>\n",
       "    <tr>\n",
       "      <th>9</th>\n",
       "      <td>lot</td>\n",
       "      <td>0.432379</td>\n",
       "    </tr>\n",
       "    <tr>\n",
       "      <th>61</th>\n",
       "      <td>BusinessAcceptsCreditCards_True</td>\n",
       "      <td>0.388872</td>\n",
       "    </tr>\n",
       "  </tbody>\n",
       "</table>\n",
       "</div>"
      ],
      "text/plain": [
       "                          Attribute  Importance\n",
       "46                       dairy-free    0.577390\n",
       "51                         soy-free    0.577390\n",
       "52                       vegetarian    0.577390\n",
       "48                            vegan    0.577390\n",
       "47                      gluten-free    0.577390\n",
       "94                       HasTV_True    0.560501\n",
       "4                            useful    0.464111\n",
       "80    RestaurantsGoodForGroups_True    0.457824\n",
       "9                               lot    0.432379\n",
       "61  BusinessAcceptsCreditCards_True    0.388872"
      ]
     },
     "execution_count": 544,
     "metadata": {},
     "output_type": "execute_result"
    }
   ],
   "source": [
    "importances_lr.head(10)"
   ]
  },
  {
   "cell_type": "code",
   "execution_count": 546,
   "id": "e05e6c36",
   "metadata": {},
   "outputs": [],
   "source": [
    "top10_lr_high = importances_lr.head(10)\n",
    "top10_lr_low = importances_lr.tail(10)"
   ]
  },
  {
   "cell_type": "code",
   "execution_count": 548,
   "id": "da0d704f",
   "metadata": {},
   "outputs": [
    {
     "data": {
      "image/png": "[encoded data removed]",
      "text/plain": [
       "<Figure size 432x288 with 1 Axes>"
      ]
     },
     "metadata": {},
     "output_type": "display_data"
    }
   ],
   "source": [
    "# top 10 highest importance\n",
    "plt.bar(x=top10_lr_high['Attribute'], height=top10_lr_high['Importance'], color='#087E8B')\n",
    "plt.title('Feature importances Top 10 highest', size=12)\n",
    "plt.xticks(rotation='vertical')\n",
    "plt.show()"
   ]
  },
  {
   "cell_type": "code",
   "execution_count": 549,
   "id": "895ef608",
   "metadata": {},
   "outputs": [
    {
     "data": {
      "image/png": "[encoded data removed]",
      "text/plain": [
       "<Figure size 432x288 with 1 Axes>"
      ]
     },
     "metadata": {},
     "output_type": "display_data"
    }
   ],
   "source": [
    "# top 10 lowest importance\n",
    "plt.bar(x=top10_lr_low['Attribute'], height=top10_lr_low['Importance'], color='#087E8B')\n",
    "plt.title('Feature importances Top 10 lowest', size=12)\n",
    "plt.xticks(rotation='vertical')\n",
    "plt.show()"
   ]
  },
  {
   "cell_type": "code",
   "execution_count": 550,
   "id": "bdfba921",
   "metadata": {},
   "outputs": [],
   "source": [
    "# plot the logistic regression's importance feature that affect the score according to its importance\n",
    "importances_gboost = pd.DataFrame(data={\n",
    "    'Attribute': X_train.columns,\n",
    "    'Importance': gboost_final.feature_importances_\n",
    "})\n",
    "importances_gboost = importances_gboost.sort_values(by='Importance', ascending=False)"
   ]
  },
  {
   "cell_type": "code",
   "execution_count": 551,
   "id": "fdc844cd",
   "metadata": {},
   "outputs": [],
   "source": [
    "top10_gboost_high = importances_gboost.head(10)\n",
    "top10_gboost_low = importances_gboost.tail(10)"
   ]
  },
  {
   "cell_type": "code",
   "execution_count": 552,
   "id": "7c49ad92",
   "metadata": {},
   "outputs": [
    {
     "data": {
      "image/png": "[encoded data removed]",
      "text/plain": [
       "<Figure size 432x288 with 1 Axes>"
      ]
     },
     "metadata": {},
     "output_type": "display_data"
    }
   ],
   "source": [
    "# top 10 highest importance\n",
    "plt.bar(x=top10_gboost_high['Attribute'], height=top10_gboost_high['Importance'], color='#087E8B')\n",
    "plt.title('Feature importances Top 10 highest', size=12)\n",
    "plt.xticks(rotation='vertical')\n",
    "plt.show()"
   ]
  },
  {
   "cell_type": "code",
   "execution_count": 553,
   "id": "852601a6",
   "metadata": {},
   "outputs": [
    {
     "data": {
      "image/png": "[encoded data removed]",
      "text/plain": [
       "<Figure size 432x288 with 1 Axes>"
      ]
     },
     "metadata": {},
     "output_type": "display_data"
    }
   ],
   "source": [
    "# top 10 lowest importance\n",
    "plt.bar(x=top10_gboost_low['Attribute'], height=top10_gboost_low['Importance'], color='#087E8B')\n",
    "plt.title('Feature importances Top 10 lowest', size=12)\n",
    "plt.xticks(rotation='vertical')\n",
    "plt.show()"
   ]
  },
  {
   "cell_type": "code",
   "execution_count": 555,
   "id": "7745b151",
   "metadata": {},
   "outputs": [],
   "source": [
    "# plot the logistic regression's importance feature that affect the score according to its importance\n",
    "importances_rf = pd.DataFrame(data={\n",
    "    'Attribute': X_train.columns,\n",
    "    'Importance': rf_final.feature_importances_\n",
    "})\n",
    "importances_rf = importances_rf.sort_values(by='Importance', ascending=False)"
   ]
  },
  {
   "cell_type": "code",
   "execution_count": 556,
   "id": "6ccd7f1f",
   "metadata": {},
   "outputs": [],
   "source": [
    "top10_rf_high = importances_rf.head(10)\n",
    "top10_rf_low = importances_rf.tail(10)"
   ]
  },
  {
   "cell_type": "code",
   "execution_count": 557,
   "id": "9f697f88",
   "metadata": {},
   "outputs": [
    {
     "data": {
      "image/png": "[encoded data removed]",
      "text/plain": [
       "<Figure size 432x288 with 1 Axes>"
      ]
     },
     "metadata": {},
     "output_type": "display_data"
    }
   ],
   "source": [
    "# top 10 highest importance\n",
    "plt.bar(x=top10_rf_high['Attribute'], height=top10_rf_high['Importance'], color='#087E8B')\n",
    "plt.title('Feature importances Top 10 highest', size=12)\n",
    "plt.xticks(rotation='vertical')\n",
    "plt.show()"
   ]
  },
  {
   "attachments": {},
   "cell_type": "markdown",
   "id": "53da1d3f",
   "metadata": {},
   "source": [
    "# Plotting the ROC curves"
   ]
  },
  {
   "cell_type": "code",
   "execution_count": 473,
   "id": "698e170e",
   "metadata": {},
   "outputs": [],
   "source": [
    "preds2 = lr_final.predict(X_holdout)"
   ]
  },
  {
   "cell_type": "code",
   "execution_count": 477,
   "id": "74cdbd73",
   "metadata": {},
   "outputs": [
    {
     "data": {
      "image/png": "[encoded data removed]",
      "text/plain": [
       "<Figure size 432x288 with 1 Axes>"
      ]
     },
     "metadata": {},
     "output_type": "display_data"
    }
   ],
   "source": [
    "# Evaluating the model \n",
    "\n",
    "plt.title('Receiver Operating Characteristic')\n",
    "plt.plot(fpr, tpr, 'b', label = 'AUC = %0.2f' % roc_auc)\n",
    "plt.legend(loc = 'lower right')\n",
    "plt.plot([0, 1], [0, 1],'r--')\n",
    "plt.xlim([0, 1])\n",
    "plt.ylim([0, 1])\n",
    "plt.ylabel('True Positive Rate')\n",
    "plt.xlabel('False Positive Rate')\n",
    "plt.show()"
   ]
  }
 ],
 "metadata": {
  "kernelspec": {
   "display_name": "Python 3 (ipykernel)",
   "language": "python",
   "name": "python3"
  },
  "language_info": {
   "codemirror_mode": {
    "name": "ipython",
    "version": 3
   },
   "file_extension": ".py",
   "mimetype": "text/x-python",
   "name": "python",
   "nbconvert_exporter": "python",
   "pygments_lexer": "ipython3",
   "version": "3.9.12"
  }
 },
 "nbformat": 4,
 "nbformat_minor": 5
}
